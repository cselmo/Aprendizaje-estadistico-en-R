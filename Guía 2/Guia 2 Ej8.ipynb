{
 "cells": [
  {
   "cell_type": "markdown",
   "metadata": {},
   "source": [
    "# Guía 2 - Ejercicio 8\n",
    "\n",
    "Efectúe una clasificación por LDA de los datos abalone.txt, discriminando entre adulto e\n",
    "infante, utilizando aquellas variables que considere más pertinenes. Elija el mejor modelo, usando\n",
    "criterio, sentido común y alguno de los métdos propuestos vistos en clase para determinarlo. Se\n",
    "recomienda separar inicialmente un 20 %, 30 % de lo datos para poder hacer la evaluación final a\n",
    "través de una matriz de confusión.\n",
    "\n",
    "Antes que nada, se cargará el dataset con el que se trabajará:\n"
   ]
  },
  {
   "cell_type": "code",
   "execution_count": 32,
   "metadata": {},
   "outputs": [],
   "source": [
    "library(MASS)\n",
    "library(\"dplyr\")\n",
    "library(\"ggpubr\")\n",
    "library(\"nortest\")\n",
    "library(grid)\n",
    "library(gridExtra)\n",
    "# Cargo los datos\n",
    "mydata<-read.table(\"abalone.txt\", sep=\",\", col.names=c(\"Género\", \"Longitud\", \n",
    "                                                       \"Diámetro\",\"Altura\",\"Peso completo\",\"Peso Carne\",\n",
    "                                                       \"Peso Vísceras\",\"Peso Caparazón\",\"Anillos\"))"
   ]
  },
  {
   "cell_type": "markdown",
   "metadata": {},
   "source": [
    "Visualicemos la estructura de estos datos:"
   ]
  },
  {
   "cell_type": "code",
   "execution_count": 33,
   "metadata": {},
   "outputs": [
    {
     "data": {
      "text/html": [
       "<table>\n",
       "<thead><tr><th scope=col>Género</th><th scope=col>Longitud</th><th scope=col>Diámetro</th><th scope=col>Altura</th><th scope=col>Peso.completo</th><th scope=col>Peso.Carne</th><th scope=col>Peso.Vísceras</th><th scope=col>Peso.Caparazón</th><th scope=col>Anillos</th></tr></thead>\n",
       "<tbody>\n",
       "\t<tr><td>M     </td><td>0.455 </td><td>0.365 </td><td>0.095 </td><td>0.5140</td><td>0.2245</td><td>0.1010</td><td>0.150 </td><td>15    </td></tr>\n",
       "\t<tr><td>M     </td><td>0.350 </td><td>0.265 </td><td>0.090 </td><td>0.2255</td><td>0.0995</td><td>0.0485</td><td>0.070 </td><td> 7    </td></tr>\n",
       "\t<tr><td>F     </td><td>0.530 </td><td>0.420 </td><td>0.135 </td><td>0.6770</td><td>0.2565</td><td>0.1415</td><td>0.210 </td><td> 9    </td></tr>\n",
       "\t<tr><td>M     </td><td>0.440 </td><td>0.365 </td><td>0.125 </td><td>0.5160</td><td>0.2155</td><td>0.1140</td><td>0.155 </td><td>10    </td></tr>\n",
       "\t<tr><td>I     </td><td>0.330 </td><td>0.255 </td><td>0.080 </td><td>0.2050</td><td>0.0895</td><td>0.0395</td><td>0.055 </td><td> 7    </td></tr>\n",
       "\t<tr><td>I     </td><td>0.425 </td><td>0.300 </td><td>0.095 </td><td>0.3515</td><td>0.1410</td><td>0.0775</td><td>0.120 </td><td> 8    </td></tr>\n",
       "</tbody>\n",
       "</table>\n"
      ],
      "text/latex": [
       "\\begin{tabular}{r|lllllllll}\n",
       " Género & Longitud & Diámetro & Altura & Peso.completo & Peso.Carne & Peso.Vísceras & Peso.Caparazón & Anillos\\\\\n",
       "\\hline\n",
       "\t M      & 0.455  & 0.365  & 0.095  & 0.5140 & 0.2245 & 0.1010 & 0.150  & 15    \\\\\n",
       "\t M      & 0.350  & 0.265  & 0.090  & 0.2255 & 0.0995 & 0.0485 & 0.070  &  7    \\\\\n",
       "\t F      & 0.530  & 0.420  & 0.135  & 0.6770 & 0.2565 & 0.1415 & 0.210  &  9    \\\\\n",
       "\t M      & 0.440  & 0.365  & 0.125  & 0.5160 & 0.2155 & 0.1140 & 0.155  & 10    \\\\\n",
       "\t I      & 0.330  & 0.255  & 0.080  & 0.2050 & 0.0895 & 0.0395 & 0.055  &  7    \\\\\n",
       "\t I      & 0.425  & 0.300  & 0.095  & 0.3515 & 0.1410 & 0.0775 & 0.120  &  8    \\\\\n",
       "\\end{tabular}\n"
      ],
      "text/markdown": [
       "\n",
       "Género | Longitud | Diámetro | Altura | Peso.completo | Peso.Carne | Peso.Vísceras | Peso.Caparazón | Anillos | \n",
       "|---|---|---|---|---|---|\n",
       "| M      | 0.455  | 0.365  | 0.095  | 0.5140 | 0.2245 | 0.1010 | 0.150  | 15     | \n",
       "| M      | 0.350  | 0.265  | 0.090  | 0.2255 | 0.0995 | 0.0485 | 0.070  |  7     | \n",
       "| F      | 0.530  | 0.420  | 0.135  | 0.6770 | 0.2565 | 0.1415 | 0.210  |  9     | \n",
       "| M      | 0.440  | 0.365  | 0.125  | 0.5160 | 0.2155 | 0.1140 | 0.155  | 10     | \n",
       "| I      | 0.330  | 0.255  | 0.080  | 0.2050 | 0.0895 | 0.0395 | 0.055  |  7     | \n",
       "| I      | 0.425  | 0.300  | 0.095  | 0.3515 | 0.1410 | 0.0775 | 0.120  |  8     | \n",
       "\n",
       "\n"
      ],
      "text/plain": [
       "  Género Longitud Diámetro Altura Peso.completo Peso.Carne Peso.Vísceras\n",
       "1 M      0.455    0.365    0.095  0.5140        0.2245     0.1010       \n",
       "2 M      0.350    0.265    0.090  0.2255        0.0995     0.0485       \n",
       "3 F      0.530    0.420    0.135  0.6770        0.2565     0.1415       \n",
       "4 M      0.440    0.365    0.125  0.5160        0.2155     0.1140       \n",
       "5 I      0.330    0.255    0.080  0.2050        0.0895     0.0395       \n",
       "6 I      0.425    0.300    0.095  0.3515        0.1410     0.0775       \n",
       "  Peso.Caparazón Anillos\n",
       "1 0.150          15     \n",
       "2 0.070           7     \n",
       "3 0.210           9     \n",
       "4 0.155          10     \n",
       "5 0.055           7     \n",
       "6 0.120           8     "
      ]
     },
     "metadata": {},
     "output_type": "display_data"
    },
    {
     "data": {
      "text/plain": [
       " Género      Longitud        Diámetro          Altura       Peso.completo   \n",
       " F:1307   Min.   :0.075   Min.   :0.0550   Min.   :0.0000   Min.   :0.0020  \n",
       " I:1342   1st Qu.:0.450   1st Qu.:0.3500   1st Qu.:0.1150   1st Qu.:0.4415  \n",
       " M:1528   Median :0.545   Median :0.4250   Median :0.1400   Median :0.7995  \n",
       "          Mean   :0.524   Mean   :0.4079   Mean   :0.1395   Mean   :0.8287  \n",
       "          3rd Qu.:0.615   3rd Qu.:0.4800   3rd Qu.:0.1650   3rd Qu.:1.1530  \n",
       "          Max.   :0.815   Max.   :0.6500   Max.   :1.1300   Max.   :2.8255  \n",
       "   Peso.Carne     Peso.Vísceras    Peso.Caparazón      Anillos      \n",
       " Min.   :0.0010   Min.   :0.0005   Min.   :0.0015   Min.   : 1.000  \n",
       " 1st Qu.:0.1860   1st Qu.:0.0935   1st Qu.:0.1300   1st Qu.: 8.000  \n",
       " Median :0.3360   Median :0.1710   Median :0.2340   Median : 9.000  \n",
       " Mean   :0.3594   Mean   :0.1806   Mean   :0.2388   Mean   : 9.934  \n",
       " 3rd Qu.:0.5020   3rd Qu.:0.2530   3rd Qu.:0.3290   3rd Qu.:11.000  \n",
       " Max.   :1.4880   Max.   :0.7600   Max.   :1.0050   Max.   :29.000  "
      ]
     },
     "metadata": {},
     "output_type": "display_data"
    }
   ],
   "source": [
    "head(mydata)\n",
    "summary(mydata)"
   ]
  },
  {
   "cell_type": "markdown",
   "metadata": {},
   "source": [
    "Agreguemos ahora una columna que contenga la categoría \"Adulto\" o \"Infante\". La misma se calculará a partir de la columna \"Género\". Si es \"F\" o \"M\" será \"A\" de adulto. Si es \"I\" se dejará \"I\"."
   ]
  },
  {
   "cell_type": "code",
   "execution_count": 34,
   "metadata": {},
   "outputs": [
    {
     "data": {
      "text/html": [
       "<table>\n",
       "<thead><tr><th scope=col>Género</th><th scope=col>Longitud</th><th scope=col>Diámetro</th><th scope=col>Altura</th><th scope=col>Peso.completo</th><th scope=col>Peso.Carne</th><th scope=col>Peso.Vísceras</th><th scope=col>Peso.Caparazón</th><th scope=col>Anillos</th><th scope=col>Adulto</th></tr></thead>\n",
       "<tbody>\n",
       "\t<tr><td>M     </td><td>0.455 </td><td>0.365 </td><td>0.095 </td><td>0.5140</td><td>0.2245</td><td>0.1010</td><td>0.150 </td><td>15    </td><td> TRUE </td></tr>\n",
       "\t<tr><td>M     </td><td>0.350 </td><td>0.265 </td><td>0.090 </td><td>0.2255</td><td>0.0995</td><td>0.0485</td><td>0.070 </td><td> 7    </td><td> TRUE </td></tr>\n",
       "\t<tr><td>F     </td><td>0.530 </td><td>0.420 </td><td>0.135 </td><td>0.6770</td><td>0.2565</td><td>0.1415</td><td>0.210 </td><td> 9    </td><td> TRUE </td></tr>\n",
       "\t<tr><td>M     </td><td>0.440 </td><td>0.365 </td><td>0.125 </td><td>0.5160</td><td>0.2155</td><td>0.1140</td><td>0.155 </td><td>10    </td><td> TRUE </td></tr>\n",
       "\t<tr><td>I     </td><td>0.330 </td><td>0.255 </td><td>0.080 </td><td>0.2050</td><td>0.0895</td><td>0.0395</td><td>0.055 </td><td> 7    </td><td>FALSE </td></tr>\n",
       "\t<tr><td>I     </td><td>0.425 </td><td>0.300 </td><td>0.095 </td><td>0.3515</td><td>0.1410</td><td>0.0775</td><td>0.120 </td><td> 8    </td><td>FALSE </td></tr>\n",
       "</tbody>\n",
       "</table>\n"
      ],
      "text/latex": [
       "\\begin{tabular}{r|llllllllll}\n",
       " Género & Longitud & Diámetro & Altura & Peso.completo & Peso.Carne & Peso.Vísceras & Peso.Caparazón & Anillos & Adulto\\\\\n",
       "\\hline\n",
       "\t M      & 0.455  & 0.365  & 0.095  & 0.5140 & 0.2245 & 0.1010 & 0.150  & 15     &  TRUE \\\\\n",
       "\t M      & 0.350  & 0.265  & 0.090  & 0.2255 & 0.0995 & 0.0485 & 0.070  &  7     &  TRUE \\\\\n",
       "\t F      & 0.530  & 0.420  & 0.135  & 0.6770 & 0.2565 & 0.1415 & 0.210  &  9     &  TRUE \\\\\n",
       "\t M      & 0.440  & 0.365  & 0.125  & 0.5160 & 0.2155 & 0.1140 & 0.155  & 10     &  TRUE \\\\\n",
       "\t I      & 0.330  & 0.255  & 0.080  & 0.2050 & 0.0895 & 0.0395 & 0.055  &  7     & FALSE \\\\\n",
       "\t I      & 0.425  & 0.300  & 0.095  & 0.3515 & 0.1410 & 0.0775 & 0.120  &  8     & FALSE \\\\\n",
       "\\end{tabular}\n"
      ],
      "text/markdown": [
       "\n",
       "Género | Longitud | Diámetro | Altura | Peso.completo | Peso.Carne | Peso.Vísceras | Peso.Caparazón | Anillos | Adulto | \n",
       "|---|---|---|---|---|---|\n",
       "| M      | 0.455  | 0.365  | 0.095  | 0.5140 | 0.2245 | 0.1010 | 0.150  | 15     |  TRUE  | \n",
       "| M      | 0.350  | 0.265  | 0.090  | 0.2255 | 0.0995 | 0.0485 | 0.070  |  7     |  TRUE  | \n",
       "| F      | 0.530  | 0.420  | 0.135  | 0.6770 | 0.2565 | 0.1415 | 0.210  |  9     |  TRUE  | \n",
       "| M      | 0.440  | 0.365  | 0.125  | 0.5160 | 0.2155 | 0.1140 | 0.155  | 10     |  TRUE  | \n",
       "| I      | 0.330  | 0.255  | 0.080  | 0.2050 | 0.0895 | 0.0395 | 0.055  |  7     | FALSE  | \n",
       "| I      | 0.425  | 0.300  | 0.095  | 0.3515 | 0.1410 | 0.0775 | 0.120  |  8     | FALSE  | \n",
       "\n",
       "\n"
      ],
      "text/plain": [
       "  Género Longitud Diámetro Altura Peso.completo Peso.Carne Peso.Vísceras\n",
       "1 M      0.455    0.365    0.095  0.5140        0.2245     0.1010       \n",
       "2 M      0.350    0.265    0.090  0.2255        0.0995     0.0485       \n",
       "3 F      0.530    0.420    0.135  0.6770        0.2565     0.1415       \n",
       "4 M      0.440    0.365    0.125  0.5160        0.2155     0.1140       \n",
       "5 I      0.330    0.255    0.080  0.2050        0.0895     0.0395       \n",
       "6 I      0.425    0.300    0.095  0.3515        0.1410     0.0775       \n",
       "  Peso.Caparazón Anillos Adulto\n",
       "1 0.150          15       TRUE \n",
       "2 0.070           7       TRUE \n",
       "3 0.210           9       TRUE \n",
       "4 0.155          10       TRUE \n",
       "5 0.055           7      FALSE \n",
       "6 0.120           8      FALSE "
      ]
     },
     "metadata": {},
     "output_type": "display_data"
    }
   ],
   "source": [
    "mydata$Adulto <- FALSE\n",
    "mydata$Adulto[mydata$Género== \"M\"] <- TRUE\n",
    "mydata$Adulto[mydata$Género == \"F\"] <- TRUE\n",
    "head(mydata)"
   ]
  },
  {
   "cell_type": "markdown",
   "metadata": {},
   "source": [
    "El siguiente paso es corroborar las suposiciones sobre las que se basa el método de LDA. Ellas son:\n",
    "\n",
    "- Normalidad de las variables\n",
    "- Homogeneidad de la varianza\n",
    "- Incorrelación de los predictores\n",
    "\n",
    "## Normalidad de las variables\n",
    "\n",
    "Vamos a aplicar dos métodos para verificar la normalidad de las variables:\n",
    "\n",
    "- qqplot: inspección visual\n",
    "- Lilliefors: Similar al método de Kolmogorov-Smirnov pero cuando se desconocen media y desvío estandar.\n",
    "\n",
    "El método de Shapiro-Wilk no se aplicará ya que está recomendado para menos de 50 observaciones.  \n",
    "Si bien el método de Kolmogorov-Smirnov (K-S) está recomendado para más de 50 observaciones, darpara aplicarlo lo mejor es conocer la media y el desvío estandar y no sus estimaciones.\n",
    "\n",
    "Las variables que se van a considerar en principio son todas, es decir:\n",
    "\n",
    "Longitud, Diámetro, Altura, Peso Completo, Peso Carne, Peso Vísceras, Peso Caparazón, Anillos\n",
    "\n",
    "Empecemos analizando la variable Longitud:"
   ]
  },
  {
   "cell_type": "code",
   "execution_count": 62,
   "metadata": {},
   "outputs": [
    {
     "data": {
      "image/png": "[encoded data removed]",
      "text/plain": [
       "plot without title"
      ]
     },
     "metadata": {},
     "output_type": "display_data"
    }
   ],
   "source": [
    "data_size=nrow(mydata)\n",
    "train_size <- floor(0.7 * data_size)\n",
    "## set the seed to make your partition reproducible\n",
    "set.seed(123)\n",
    "train_ind <- sample(seq_len(data_size), size = train_size)\n",
    "train <- mydata[train_ind, ] #training set\n",
    "test <- mydata[-train_ind, ] #test set\n",
    "\n",
    "g1 <- ggqqplot(train$Longitud,main = \"Longitud\")\n",
    "g2 <- ggqqplot(train$Diámetro,main = \"Diámetro\")\n",
    "g3 <- ggqqplot(train$Altura,main = \"Altura\")\n",
    "g4 <- ggqqplot(train$Peso.completo ,main = \"Peso Completo\")\n",
    "g5 <- ggqqplot(train$Peso.Carne,main = \"Peso Carne\")\n",
    "g6 <- ggqqplot(train$Peso.Víscera,main = \"Peso Víscera\")\n",
    "g7 <- ggqqplot(train$Peso.Caparazón,main = \"Peso Caparazón\")\n",
    "g8 <- ggqqplot(train$Anillos,main = \"Anillos\")\n",
    "g1grob <- ggplotGrob(g1)\n",
    "g2grob <- ggplotGrob(g2)\n",
    "g3grob <- ggplotGrob(g3)\n",
    "g4grob <- ggplotGrob(g4)\n",
    "g5grob <- ggplotGrob(g5)\n",
    "g6grob <- ggplotGrob(g6)\n",
    "g7grob <- ggplotGrob(g7)\n",
    "g8grob <- ggplotGrob(g8)\n",
    "grid.arrange(g1grob, g2grob,g3grob, g4grob,g5grob, g6grob,g7grob, g8grob)"
   ]
  },
  {
   "cell_type": "markdown",
   "metadata": {},
   "source": [
    "Se observa en las figuras anteriores que alrededor de la zona central de la distribución, en general se cumple la suposición de normalidad, pero esta suposición se pierde hacia los bordes. Ello es esperable, ya que longitudes, pesos y cantidades no pueden tomar valores negativos en la práctica, pero están definidos para una distribución normal. Es por ello que a simple vista se observa que no se cumple la condición de normalidad.\n",
    "Vamos a verificar esta observación con el método de Lilliefors:"
   ]
  },
  {
   "cell_type": "code",
   "execution_count": 63,
   "metadata": {},
   "outputs": [
    {
     "data": {
      "text/plain": [
       "\n",
       "\tLilliefors (Kolmogorov-Smirnov) normality test\n",
       "\n",
       "data:  train$Longitud\n",
       "D = 0.073756, p-value < 2.2e-16\n"
      ]
     },
     "metadata": {},
     "output_type": "display_data"
    },
    {
     "data": {
      "text/plain": [
       "\n",
       "\tLilliefors (Kolmogorov-Smirnov) normality test\n",
       "\n",
       "data:  train$Diámetro\n",
       "D = 0.075032, p-value < 2.2e-16\n"
      ]
     },
     "metadata": {},
     "output_type": "display_data"
    },
    {
     "data": {
      "text/plain": [
       "\n",
       "\tLilliefors (Kolmogorov-Smirnov) normality test\n",
       "\n",
       "data:  train$Altura\n",
       "D = 0.052729, p-value < 2.2e-16\n"
      ]
     },
     "metadata": {},
     "output_type": "display_data"
    },
    {
     "data": {
      "text/plain": [
       "\n",
       "\tLilliefors (Kolmogorov-Smirnov) normality test\n",
       "\n",
       "data:  train$Peso.completo\n",
       "D = 0.049124, p-value < 2.2e-16\n"
      ]
     },
     "metadata": {},
     "output_type": "display_data"
    },
    {
     "data": {
      "text/plain": [
       "\n",
       "\tLilliefors (Kolmogorov-Smirnov) normality test\n",
       "\n",
       "data:  train$Peso.Carne\n",
       "D = 0.055441, p-value < 2.2e-16\n"
      ]
     },
     "metadata": {},
     "output_type": "display_data"
    },
    {
     "data": {
      "text/plain": [
       "\n",
       "\tLilliefors (Kolmogorov-Smirnov) normality test\n",
       "\n",
       "data:  train$Peso.Vísceras\n",
       "D = 0.05396, p-value < 2.2e-16\n"
      ]
     },
     "metadata": {},
     "output_type": "display_data"
    },
    {
     "data": {
      "text/plain": [
       "\n",
       "\tLilliefors (Kolmogorov-Smirnov) normality test\n",
       "\n",
       "data:  train$Peso.Caparazón\n",
       "D = 0.047887, p-value < 2.2e-16\n"
      ]
     },
     "metadata": {},
     "output_type": "display_data"
    },
    {
     "data": {
      "text/plain": [
       "\n",
       "\tLilliefors (Kolmogorov-Smirnov) normality test\n",
       "\n",
       "data:  train$Anillos\n",
       "D = 0.14647, p-value < 2.2e-16\n"
      ]
     },
     "metadata": {},
     "output_type": "display_data"
    }
   ],
   "source": [
    "lillie.test(train$Longitud)\n",
    "lillie.test(train$Diámetro)\n",
    "lillie.test(train$Altura)\n",
    "lillie.test(train$Peso.completo)\n",
    "lillie.test(train$Peso.Carne)\n",
    "lillie.test(train$Peso.Vísceras)\n",
    "lillie.test(train$Peso.Caparazón)\n",
    "lillie.test(train$Anillos)\n"
   ]
  },
  {
   "cell_type": "markdown",
   "metadata": {},
   "source": [
    "Todos los p-value están muy por debajo del valor de corte de 0.05, el cual es el que debe ser superado para poder suponer normalidad.\n",
    "Si bien no se cumple la condición de normalidad, seguiremos adelante con el método ya que muchas veces da buenos resultados sin cumplir esta condición.\n",
    "\n",
    "## Incorrelación de los predictores\n",
    "\n",
    "Para analizar la correlación de las variables veamos la matriz de correlación cruzada de los predictores:"
   ]
  },
  {
   "cell_type": "code",
   "execution_count": 64,
   "metadata": {},
   "outputs": [],
   "source": [
    "#Borro del trainset las columnas que no me sirven\n",
    "train$Género <- NULL\n",
    "train_labels <- train$Adulto\n",
    "train$Adulto <- NULL"
   ]
  },
  {
   "cell_type": "code",
   "execution_count": 65,
   "metadata": {},
   "outputs": [
    {
     "data": {
      "text/plain": [
       "               Longitud Diámetro Altura Peso.completo Peso.Carne Peso.Vísceras\n",
       "Longitud           1.00     0.99   0.80          0.92       0.90          0.90\n",
       "Diámetro           0.99     1.00   0.81          0.93       0.90          0.90\n",
       "Altura             0.80     0.81   1.00          0.80       0.76          0.78\n",
       "Peso.completo      0.92     0.93   0.80          1.00       0.97          0.97\n",
       "Peso.Carne         0.90     0.90   0.76          0.97       1.00          0.93\n",
       "Peso.Vísceras      0.90     0.90   0.78          0.97       0.93          1.00\n",
       "Peso.Caparazón     0.90     0.90   0.80          0.95       0.88          0.91\n",
       "Anillos            0.56     0.57   0.54          0.54       0.42          0.51\n",
       "               Peso.Caparazón Anillos\n",
       "Longitud                 0.90    0.56\n",
       "Diámetro                 0.90    0.57\n",
       "Altura                   0.80    0.54\n",
       "Peso.completo            0.95    0.54\n",
       "Peso.Carne               0.88    0.42\n",
       "Peso.Vísceras            0.91    0.51\n",
       "Peso.Caparazón           1.00    0.63\n",
       "Anillos                  0.63    1.00\n",
       "\n",
       "n= 2923 \n",
       "\n",
       "\n",
       "P\n",
       "               Longitud Diámetro Altura Peso.completo Peso.Carne Peso.Vísceras\n",
       "Longitud                 0        0      0             0          0           \n",
       "Diámetro        0                 0      0             0          0           \n",
       "Altura          0        0               0             0          0           \n",
       "Peso.completo   0        0        0                    0          0           \n",
       "Peso.Carne      0        0        0      0                        0           \n",
       "Peso.Vísceras   0        0        0      0             0                      \n",
       "Peso.Caparazón  0        0        0      0             0          0           \n",
       "Anillos         0        0        0      0             0          0           \n",
       "               Peso.Caparazón Anillos\n",
       "Longitud        0              0     \n",
       "Diámetro        0              0     \n",
       "Altura          0              0     \n",
       "Peso.completo   0              0     \n",
       "Peso.Carne      0              0     \n",
       "Peso.Vísceras   0              0     \n",
       "Peso.Caparazón                 0     \n",
       "Anillos         0                    "
      ]
     },
     "metadata": {},
     "output_type": "display_data"
    }
   ],
   "source": [
    "library(\"Hmisc\")\n",
    "res2 <- rcorr(as.matrix(train))\n",
    "res2"
   ]
  },
  {
   "cell_type": "markdown",
   "metadata": {},
   "source": [
    "Según se ve, las métricas lineales (Longitud, Diámetro y altura) están altamente correlacionadas. Eliminaremos los predictores Diámetro y nos quedaremos con Longitud y Altura (que tienen una correlción de 0.8).\n",
    "También es notable la alta correlación que hay entre los cuatro pesos: Completo, Carne, Vísceras y Caparazón. Siendo que casi todas estas correlaciones están por encima de 0.9, nos quedaremos solo con dos de ellos: Peso Caparazón y Peso Carne, que tienen una correlación de 0.88.\n",
    "Por último conservaremos Anillos que tiene correlación mas baja con respecto a todas las variables."
   ]
  },
  {
   "cell_type": "code",
   "execution_count": 66,
   "metadata": {},
   "outputs": [
    {
     "data": {
      "text/plain": [
       "               Longitud Altura Peso.Carne Peso.Caparazón Anillos\n",
       "Longitud           1.00   0.80       0.90           0.90    0.56\n",
       "Altura             0.80   1.00       0.76           0.80    0.54\n",
       "Peso.Carne         0.90   0.76       1.00           0.88    0.42\n",
       "Peso.Caparazón     0.90   0.80       0.88           1.00    0.63\n",
       "Anillos            0.56   0.54       0.42           0.63    1.00\n",
       "\n",
       "n= 2923 \n",
       "\n",
       "\n",
       "P\n",
       "               Longitud Altura Peso.Carne Peso.Caparazón Anillos\n",
       "Longitud                 0      0          0              0     \n",
       "Altura          0               0          0              0     \n",
       "Peso.Carne      0        0                 0              0     \n",
       "Peso.Caparazón  0        0      0                         0     \n",
       "Anillos         0        0      0          0                    "
      ]
     },
     "metadata": {},
     "output_type": "display_data"
    }
   ],
   "source": [
    "train$Diámetro <- NULL\n",
    "train$Peso.completo <- NULL\n",
    "train$Peso.Vísceras <- NULL\n",
    "res2 <- rcorr(as.matrix(train))\n",
    "res2"
   ]
  },
  {
   "cell_type": "markdown",
   "metadata": {},
   "source": [
    "Si bien una de las hipótesis de LDA es que los predictores son incorrelacionados, seguiremos método adelante para evaluar cómo funciona para este caso.\n",
    "\n",
    "## Homogeneidad de la varianza / covarianza\n",
    "\n",
    "Para el caso de la homogeneidad de la varianza seremos mas rigurosos ya que en el caso de no cumplirse debemos utilizar el método QDA en vez del LDA. En el caso de fallar el test, utilizaremos QDA y LDA y compararemos los resultados.\n",
    "Se utilizará el test de Levene para evaluar la homogeneidad de la varianza."
   ]
  },
  {
   "cell_type": "code",
   "execution_count": 78,
   "metadata": {},
   "outputs": [],
   "source": [
    "train$Adulto <- train_labels\n",
    "train1 <- train[train[,\"Adulto\"]==TRUE,]\n",
    "train2 <- train[train[,\"Adulto\"]==FALSE,]"
   ]
  },
  {
   "cell_type": "code",
   "execution_count": 80,
   "metadata": {},
   "outputs": [
    {
     "data": {
      "text/html": [
       "<table>\n",
       "<thead><tr><th></th><th scope=col>Longitud</th><th scope=col>Altura</th><th scope=col>Peso.Carne</th><th scope=col>Peso.Caparazón</th><th scope=col>Anillos</th><th scope=col>Adulto</th></tr></thead>\n",
       "<tbody>\n",
       "\t<tr><th scope=row>Longitud</th><td>0.009299901</td><td>0.002539260</td><td>0.01811298 </td><td>0.010833319</td><td>0.09051062 </td><td>0          </td></tr>\n",
       "\t<tr><th scope=row>Altura</th><td>0.002539260</td><td>0.001600666</td><td>0.00531709 </td><td>0.003530592</td><td>0.03815249 </td><td>0          </td></tr>\n",
       "\t<tr><th scope=row>Peso.Carne</th><td>0.018112976</td><td>0.005317090</td><td>0.04484518 </td><td>0.022612197</td><td>0.10326779 </td><td>0          </td></tr>\n",
       "\t<tr><th scope=row>Peso.Caparazón</th><td>0.010833319</td><td>0.003530592</td><td>0.02261220 </td><td>0.017029547</td><td>0.18943797 </td><td>0          </td></tr>\n",
       "\t<tr><th scope=row>Anillos</th><td>0.090510621</td><td>0.038152488</td><td>0.10326779 </td><td>0.189437970</td><td>9.81693290 </td><td>0          </td></tr>\n",
       "\t<tr><th scope=row>Adulto</th><td>0.000000000</td><td>0.000000000</td><td>0.00000000 </td><td>0.000000000</td><td>0.00000000 </td><td>0          </td></tr>\n",
       "</tbody>\n",
       "</table>\n"
      ],
      "text/latex": [
       "\\begin{tabular}{r|llllll}\n",
       "  & Longitud & Altura & Peso.Carne & Peso.Caparazón & Anillos & Adulto\\\\\n",
       "\\hline\n",
       "\tLongitud & 0.009299901 & 0.002539260 & 0.01811298  & 0.010833319 & 0.09051062  & 0          \\\\\n",
       "\tAltura & 0.002539260 & 0.001600666 & 0.00531709  & 0.003530592 & 0.03815249  & 0          \\\\\n",
       "\tPeso.Carne & 0.018112976 & 0.005317090 & 0.04484518  & 0.022612197 & 0.10326779  & 0          \\\\\n",
       "\tPeso.Caparazón & 0.010833319 & 0.003530592 & 0.02261220  & 0.017029547 & 0.18943797  & 0          \\\\\n",
       "\tAnillos & 0.090510621 & 0.038152488 & 0.10326779  & 0.189437970 & 9.81693290  & 0          \\\\\n",
       "\tAdulto & 0.000000000 & 0.000000000 & 0.00000000  & 0.000000000 & 0.00000000  & 0          \\\\\n",
       "\\end{tabular}\n"
      ],
      "text/markdown": [
       "\n",
       "| <!--/--> | Longitud | Altura | Peso.Carne | Peso.Caparazón | Anillos | Adulto | \n",
       "|---|---|---|---|---|---|\n",
       "| Longitud | 0.009299901 | 0.002539260 | 0.01811298  | 0.010833319 | 0.09051062  | 0           | \n",
       "| Altura | 0.002539260 | 0.001600666 | 0.00531709  | 0.003530592 | 0.03815249  | 0           | \n",
       "| Peso.Carne | 0.018112976 | 0.005317090 | 0.04484518  | 0.022612197 | 0.10326779  | 0           | \n",
       "| Peso.Caparazón | 0.010833319 | 0.003530592 | 0.02261220  | 0.017029547 | 0.18943797  | 0           | \n",
       "| Anillos | 0.090510621 | 0.038152488 | 0.10326779  | 0.189437970 | 9.81693290  | 0           | \n",
       "| Adulto | 0.000000000 | 0.000000000 | 0.00000000  | 0.000000000 | 0.00000000  | 0           | \n",
       "\n",
       "\n"
      ],
      "text/plain": [
       "               Longitud    Altura      Peso.Carne Peso.Caparazón Anillos   \n",
       "Longitud       0.009299901 0.002539260 0.01811298 0.010833319    0.09051062\n",
       "Altura         0.002539260 0.001600666 0.00531709 0.003530592    0.03815249\n",
       "Peso.Carne     0.018112976 0.005317090 0.04484518 0.022612197    0.10326779\n",
       "Peso.Caparazón 0.010833319 0.003530592 0.02261220 0.017029547    0.18943797\n",
       "Anillos        0.090510621 0.038152488 0.10326779 0.189437970    9.81693290\n",
       "Adulto         0.000000000 0.000000000 0.00000000 0.000000000    0.00000000\n",
       "               Adulto\n",
       "Longitud       0     \n",
       "Altura         0     \n",
       "Peso.Carne     0     \n",
       "Peso.Caparazón 0     \n",
       "Anillos        0     \n",
       "Adulto         0     "
      ]
     },
     "metadata": {},
     "output_type": "display_data"
    }
   ],
   "source": [
    "cov(train1)"
   ]
  },
  {
   "cell_type": "code",
   "execution_count": 81,
   "metadata": {},
   "outputs": [
    {
     "data": {
      "text/html": [
       "<table>\n",
       "<thead><tr><th></th><th scope=col>Longitud</th><th scope=col>Altura</th><th scope=col>Peso.Carne</th><th scope=col>Peso.Caparazón</th><th scope=col>Anillos</th><th scope=col>Adulto</th></tr></thead>\n",
       "<tbody>\n",
       "\t<tr><th scope=row>Longitud</th><td>0.011911119</td><td>0.003181267</td><td>0.012478980</td><td>0.008431423</td><td>0.19095927 </td><td>0          </td></tr>\n",
       "\t<tr><th scope=row>Altura</th><td>0.003181267</td><td>0.001014043</td><td>0.003475478</td><td>0.002426964</td><td>0.05894278 </td><td>0          </td></tr>\n",
       "\t<tr><th scope=row>Peso.Carne</th><td>0.012478980</td><td>0.003475478</td><td>0.016321189</td><td>0.009922771</td><td>0.20317507 </td><td>0          </td></tr>\n",
       "\t<tr><th scope=row>Peso.Caparazón</th><td>0.008431423</td><td>0.002426964</td><td>0.009922771</td><td>0.007231195</td><td>0.15800704 </td><td>0          </td></tr>\n",
       "\t<tr><th scope=row>Anillos</th><td>0.190959272</td><td>0.058942782</td><td>0.203175070</td><td>0.158007040</td><td>6.44899289 </td><td>0          </td></tr>\n",
       "\t<tr><th scope=row>Adulto</th><td>0.000000000</td><td>0.000000000</td><td>0.000000000</td><td>0.000000000</td><td>0.00000000 </td><td>0          </td></tr>\n",
       "</tbody>\n",
       "</table>\n"
      ],
      "text/latex": [
       "\\begin{tabular}{r|llllll}\n",
       "  & Longitud & Altura & Peso.Carne & Peso.Caparazón & Anillos & Adulto\\\\\n",
       "\\hline\n",
       "\tLongitud & 0.011911119 & 0.003181267 & 0.012478980 & 0.008431423 & 0.19095927  & 0          \\\\\n",
       "\tAltura & 0.003181267 & 0.001014043 & 0.003475478 & 0.002426964 & 0.05894278  & 0          \\\\\n",
       "\tPeso.Carne & 0.012478980 & 0.003475478 & 0.016321189 & 0.009922771 & 0.20317507  & 0          \\\\\n",
       "\tPeso.Caparazón & 0.008431423 & 0.002426964 & 0.009922771 & 0.007231195 & 0.15800704  & 0          \\\\\n",
       "\tAnillos & 0.190959272 & 0.058942782 & 0.203175070 & 0.158007040 & 6.44899289  & 0          \\\\\n",
       "\tAdulto & 0.000000000 & 0.000000000 & 0.000000000 & 0.000000000 & 0.00000000  & 0          \\\\\n",
       "\\end{tabular}\n"
      ],
      "text/markdown": [
       "\n",
       "| <!--/--> | Longitud | Altura | Peso.Carne | Peso.Caparazón | Anillos | Adulto | \n",
       "|---|---|---|---|---|---|\n",
       "| Longitud | 0.011911119 | 0.003181267 | 0.012478980 | 0.008431423 | 0.19095927  | 0           | \n",
       "| Altura | 0.003181267 | 0.001014043 | 0.003475478 | 0.002426964 | 0.05894278  | 0           | \n",
       "| Peso.Carne | 0.012478980 | 0.003475478 | 0.016321189 | 0.009922771 | 0.20317507  | 0           | \n",
       "| Peso.Caparazón | 0.008431423 | 0.002426964 | 0.009922771 | 0.007231195 | 0.15800704  | 0           | \n",
       "| Anillos | 0.190959272 | 0.058942782 | 0.203175070 | 0.158007040 | 6.44899289  | 0           | \n",
       "| Adulto | 0.000000000 | 0.000000000 | 0.000000000 | 0.000000000 | 0.00000000  | 0           | \n",
       "\n",
       "\n"
      ],
      "text/plain": [
       "               Longitud    Altura      Peso.Carne  Peso.Caparazón Anillos   \n",
       "Longitud       0.011911119 0.003181267 0.012478980 0.008431423    0.19095927\n",
       "Altura         0.003181267 0.001014043 0.003475478 0.002426964    0.05894278\n",
       "Peso.Carne     0.012478980 0.003475478 0.016321189 0.009922771    0.20317507\n",
       "Peso.Caparazón 0.008431423 0.002426964 0.009922771 0.007231195    0.15800704\n",
       "Anillos        0.190959272 0.058942782 0.203175070 0.158007040    6.44899289\n",
       "Adulto         0.000000000 0.000000000 0.000000000 0.000000000    0.00000000\n",
       "               Adulto\n",
       "Longitud       0     \n",
       "Altura         0     \n",
       "Peso.Carne     0     \n",
       "Peso.Caparazón 0     \n",
       "Anillos        0     \n",
       "Adulto         0     "
      ]
     },
     "metadata": {},
     "output_type": "display_data"
    }
   ],
   "source": [
    "cov(train2)"
   ]
  },
  {
   "cell_type": "markdown",
   "metadata": {},
   "source": [
    "Si bien lo correcto sería analizar la varianza del estimador de covarianza y hacer un test de hipótesis para la igualdad de ambas matrices de covarianza, se intuye que no se cumple la condición de homosedasticidad, por lo que evaluaremos el clasificador que obtenemos con LDA con el que obtenemos con QDA y sacaremos algunas conclusiones.\n",
    "\n",
    "# Clasificador utilizando LDA"
   ]
  },
  {
   "cell_type": "code",
   "execution_count": 86,
   "metadata": {},
   "outputs": [],
   "source": [
    "clf <- lda(formula = Adulto ~ ., data = train)"
   ]
  },
  {
   "cell_type": "code",
   "execution_count": 96,
   "metadata": {},
   "outputs": [
    {
     "data": {
      "text/html": [
       "<dl class=dl-horizontal>\n",
       "\t<dt>FALSE</dt>\n",
       "\t\t<dd>0.327403352719808</dd>\n",
       "\t<dt>TRUE</dt>\n",
       "\t\t<dd>0.672596647280192</dd>\n",
       "</dl>\n"
      ],
      "text/latex": [
       "\\begin{description*}\n",
       "\\item[FALSE] 0.327403352719808\n",
       "\\item[TRUE] 0.672596647280192\n",
       "\\end{description*}\n"
      ],
      "text/markdown": [
       "FALSE\n",
       ":   0.327403352719808TRUE\n",
       ":   0.672596647280192\n",
       "\n"
      ],
      "text/plain": [
       "    FALSE      TRUE \n",
       "0.3274034 0.6725966 "
      ]
     },
     "metadata": {},
     "output_type": "display_data"
    }
   ],
   "source": [
    "# Probabilidades a priori\n",
    "clf$prior"
   ]
  },
  {
   "cell_type": "code",
   "execution_count": 97,
   "metadata": {},
   "outputs": [
    {
     "data": {
      "text/html": [
       "<dl class=dl-horizontal>\n",
       "\t<dt>FALSE</dt>\n",
       "\t\t<dd>957</dd>\n",
       "\t<dt>TRUE</dt>\n",
       "\t\t<dd>1966</dd>\n",
       "</dl>\n"
      ],
      "text/latex": [
       "\\begin{description*}\n",
       "\\item[FALSE] 957\n",
       "\\item[TRUE] 1966\n",
       "\\end{description*}\n"
      ],
      "text/markdown": [
       "FALSE\n",
       ":   957TRUE\n",
       ":   1966\n",
       "\n"
      ],
      "text/plain": [
       "FALSE  TRUE \n",
       "  957  1966 "
      ]
     },
     "metadata": {},
     "output_type": "display_data"
    }
   ],
   "source": [
    "# conteo de observaciones de cada una de las clases\n",
    "clf$counts"
   ]
  },
  {
   "cell_type": "code",
   "execution_count": 98,
   "metadata": {},
   "outputs": [
    {
     "data": {
      "text/html": [
       "<table>\n",
       "<thead><tr><th></th><th scope=col>Longitud</th><th scope=col>Altura</th><th scope=col>Peso.Carne</th><th scope=col>Peso.Caparazón</th><th scope=col>Anillos</th></tr></thead>\n",
       "<tbody>\n",
       "\t<tr><th scope=row>FALSE</th><td>0.4243992</td><td>0.107419 </td><td>0.1881526</td><td>0.1260658</td><td> 7.829676</td></tr>\n",
       "\t<tr><th scope=row>TRUE</th><td>0.5702467</td><td>0.154649 </td><td>0.4406887</td><td>0.2931923</td><td>10.941506</td></tr>\n",
       "</tbody>\n",
       "</table>\n"
      ],
      "text/latex": [
       "\\begin{tabular}{r|lllll}\n",
       "  & Longitud & Altura & Peso.Carne & Peso.Caparazón & Anillos\\\\\n",
       "\\hline\n",
       "\tFALSE & 0.4243992 & 0.107419  & 0.1881526 & 0.1260658 &  7.829676\\\\\n",
       "\tTRUE & 0.5702467 & 0.154649  & 0.4406887 & 0.2931923 & 10.941506\\\\\n",
       "\\end{tabular}\n"
      ],
      "text/markdown": [
       "\n",
       "| <!--/--> | Longitud | Altura | Peso.Carne | Peso.Caparazón | Anillos | \n",
       "|---|---|\n",
       "| FALSE | 0.4243992 | 0.107419  | 0.1881526 | 0.1260658 |  7.829676 | \n",
       "| TRUE | 0.5702467 | 0.154649  | 0.4406887 | 0.2931923 | 10.941506 | \n",
       "\n",
       "\n"
      ],
      "text/plain": [
       "      Longitud  Altura   Peso.Carne Peso.Caparazón Anillos  \n",
       "FALSE 0.4243992 0.107419 0.1881526  0.1260658       7.829676\n",
       "TRUE  0.5702467 0.154649 0.4406887  0.2931923      10.941506"
      ]
     },
     "metadata": {},
     "output_type": "display_data"
    }
   ],
   "source": [
    "# Medias de cada uno de los predictores\n",
    "clf$means"
   ]
  },
  {
   "cell_type": "code",
   "execution_count": 100,
   "metadata": {},
   "outputs": [
    {
     "data": {
      "text/html": [
       "<table>\n",
       "<thead><tr><th></th><th scope=col>LD1</th></tr></thead>\n",
       "<tbody>\n",
       "\t<tr><th scope=row>Longitud</th><td>3.1934379</td></tr>\n",
       "\t<tr><th scope=row>Altura</th><td>4.1704465</td></tr>\n",
       "\t<tr><th scope=row>Peso.Carne</th><td>1.8869373</td></tr>\n",
       "\t<tr><th scope=row>Peso.Caparazón</th><td>0.2623481</td></tr>\n",
       "\t<tr><th scope=row>Anillos</th><td>0.1253992</td></tr>\n",
       "</tbody>\n",
       "</table>\n"
      ],
      "text/latex": [
       "\\begin{tabular}{r|l}\n",
       "  & LD1\\\\\n",
       "\\hline\n",
       "\tLongitud & 3.1934379\\\\\n",
       "\tAltura & 4.1704465\\\\\n",
       "\tPeso.Carne & 1.8869373\\\\\n",
       "\tPeso.Caparazón & 0.2623481\\\\\n",
       "\tAnillos & 0.1253992\\\\\n",
       "\\end{tabular}\n"
      ],
      "text/markdown": [
       "\n",
       "| <!--/--> | LD1 | \n",
       "|---|---|---|---|---|\n",
       "| Longitud | 3.1934379 | \n",
       "| Altura | 4.1704465 | \n",
       "| Peso.Carne | 1.8869373 | \n",
       "| Peso.Caparazón | 0.2623481 | \n",
       "| Anillos | 0.1253992 | \n",
       "\n",
       "\n"
      ],
      "text/plain": [
       "               LD1      \n",
       "Longitud       3.1934379\n",
       "Altura         4.1704465\n",
       "Peso.Carne     1.8869373\n",
       "Peso.Caparazón 0.2623481\n",
       "Anillos        0.1253992"
      ]
     },
     "metadata": {},
     "output_type": "display_data"
    }
   ],
   "source": [
    "# Estos son los valores de escalamiento de cada uno de los predictores en las dimensiones \n",
    "# de LDA para generar las funciones de discriminación\n",
    "clf$scaling"
   ]
  },
  {
   "cell_type": "code",
   "execution_count": 102,
   "metadata": {},
   "outputs": [],
   "source": [
    "test$Género <- NULL\n",
    "test$Diámetro <- NULL\n",
    "test$Peso.completo <- NULL\n",
    "test$Peso.Vísceras <- NULL\n",
    "test_labels <- test$Adulto\n",
    "test$Adulto <- NULL"
   ]
  },
  {
   "cell_type": "code",
   "execution_count": 103,
   "metadata": {},
   "outputs": [],
   "source": [
    "plda = predict(object = clf, # predictions\n",
    "               newdata = test)"
   ]
  },
  {
   "cell_type": "code",
   "execution_count": 112,
   "metadata": {},
   "outputs": [
    {
     "data": {
      "text/html": [
       "0.791866028708134"
      ],
      "text/latex": [
       "0.791866028708134"
      ],
      "text/markdown": [
       "0.791866028708134"
      ],
      "text/plain": [
       "[1] 0.791866"
      ]
     },
     "metadata": {},
     "output_type": "display_data"
    }
   ],
   "source": [
    "#Medición del accuracy \n",
    "\n",
    "sum(test_labels==plda$class)/length(test_labels)"
   ]
  },
  {
   "cell_type": "markdown",
   "metadata": {},
   "source": [
    "Con estas decisiones se ha logrado una precisión del 79%. Veamos la matriz de confusión:"
   ]
  },
  {
   "cell_type": "code",
   "execution_count": 141,
   "metadata": {},
   "outputs": [
    {
     "data": {
      "text/plain": [
       "    obs\n",
       "pred   0   1\n",
       "   0 227 103\n",
       "   1 158 766\n",
       "attr(,\"class\")\n",
       "[1] \"confusion.matrix\""
      ]
     },
     "metadata": {},
     "output_type": "display_data"
    }
   ],
   "source": [
    "library(SDMTools)\n",
    "confusion.matrix(as.integer(test_labels), plda$posterior[,2], threshold = 0.5)"
   ]
  },
  {
   "cell_type": "markdown",
   "metadata": {},
   "source": [
    "Repitamos el proceso para todos los predictores"
   ]
  },
  {
   "cell_type": "code",
   "execution_count": 148,
   "metadata": {},
   "outputs": [],
   "source": [
    "set.seed(123)\n",
    "train_ind <- sample(seq_len(data_size), size = train_size)\n",
    "train <- mydata[train_ind, ] #training set\n",
    "test <- mydata[-train_ind, ] #test set\n"
   ]
  },
  {
   "cell_type": "code",
   "execution_count": 149,
   "metadata": {},
   "outputs": [
    {
     "data": {
      "text/html": [
       "0.795055821371611"
      ],
      "text/latex": [
       "0.795055821371611"
      ],
      "text/markdown": [
       "0.795055821371611"
      ],
      "text/plain": [
       "[1] 0.7950558"
      ]
     },
     "metadata": {},
     "output_type": "display_data"
    }
   ],
   "source": [
    "train$Género <- NULL\n",
    "test$Género <- NULL\n",
    "test_labels <- test$Adulto\n",
    "test$Adulto <- NULL\n",
    "clf2 <- lda(formula = Adulto ~ ., data = train)\n",
    "plda2 = predict(object = clf2, # predictions\n",
    "               newdata = test)\n",
    "\n",
    "#Medición del accuracy \n",
    "sum(test_labels==plda2$class)/length(test_labels)\n",
    "\n"
   ]
  },
  {
   "cell_type": "markdown",
   "metadata": {},
   "source": [
    "En principio el cambio que se observa en el accuracy es despreciable. Veamos qué ocurre con la matriz de confusión."
   ]
  },
  {
   "cell_type": "code",
   "execution_count": 150,
   "metadata": {},
   "outputs": [
    {
     "data": {
      "text/plain": [
       "    obs\n",
       "pred   0   1\n",
       "   0 233 105\n",
       "   1 152 764\n",
       "attr(,\"class\")\n",
       "[1] \"confusion.matrix\""
      ]
     },
     "metadata": {},
     "output_type": "display_data"
    }
   ],
   "source": [
    "confusion.matrix(as.integer(test_labels), plda2$posterior[,2], threshold = 0.5)"
   ]
  },
  {
   "cell_type": "markdown",
   "metadata": {},
   "source": [
    "Si la comparamos con la matriz del clasificador LDA con menos predictores, veremos que la diferencia es muy poca y que si bien la cantidad de verdaderos negativos aumentó con todos los predictores disponibles, la cantidad de verdaderos positivos disminuyó."
   ]
  },
  {
   "cell_type": "code",
   "execution_count": 152,
   "metadata": {},
   "outputs": [
    {
     "data": {
      "text/plain": [
       "    obs\n",
       "pred   0   1\n",
       "   0 227 103\n",
       "   1 158 766\n",
       "attr(,\"class\")\n",
       "[1] \"confusion.matrix\""
      ]
     },
     "metadata": {},
     "output_type": "display_data"
    }
   ],
   "source": [
    "confusion.matrix(as.integer(test_labels), plda$posterior[,2], threshold = 0.5)"
   ]
  },
  {
   "cell_type": "markdown",
   "metadata": {},
   "source": [
    "# Clasificador utilizando QDA\n",
    "\n",
    "En principio y por facilidad computacional (ya están preparados train y test) veremos qué pasa con QDA con todos los predictores:"
   ]
  },
  {
   "cell_type": "code",
   "execution_count": 153,
   "metadata": {},
   "outputs": [
    {
     "data": {
      "text/html": [
       "0.749601275917065"
      ],
      "text/latex": [
       "0.749601275917065"
      ],
      "text/markdown": [
       "0.749601275917065"
      ],
      "text/plain": [
       "[1] 0.7496013"
      ]
     },
     "metadata": {},
     "output_type": "display_data"
    }
   ],
   "source": [
    "clf3 <- qda(formula = Adulto ~ ., data = train)\n",
    "plda3 = predict(object = clf3, # predictions\n",
    "               newdata = test)\n",
    "\n",
    "#Medición del accuracy \n",
    "sum(test_labels==plda3$class)/length(test_labels)\n"
   ]
  },
  {
   "cell_type": "code",
   "execution_count": 154,
   "metadata": {},
   "outputs": [
    {
     "data": {
      "text/plain": [
       "    obs\n",
       "pred   0   1\n",
       "   0 322 251\n",
       "   1  63 618\n",
       "attr(,\"class\")\n",
       "[1] \"confusion.matrix\""
      ]
     },
     "metadata": {},
     "output_type": "display_data"
    }
   ],
   "source": [
    "confusion.matrix(as.integer(test_labels), plda3$posterior[,2], threshold = 0.5)"
   ]
  },
  {
   "cell_type": "markdown",
   "metadata": {},
   "source": [
    "Y ahora veamos los mismos datos pero para el grupo de predictores reducidos:"
   ]
  },
  {
   "cell_type": "code",
   "execution_count": 155,
   "metadata": {},
   "outputs": [
    {
     "data": {
      "text/html": [
       "0.75518341307815"
      ],
      "text/latex": [
       "0.75518341307815"
      ],
      "text/markdown": [
       "0.75518341307815"
      ],
      "text/plain": [
       "[1] 0.7551834"
      ]
     },
     "metadata": {},
     "output_type": "display_data"
    }
   ],
   "source": [
    "train$Diámetro <- NULL\n",
    "train$Peso.completo <- NULL\n",
    "train$Peso.Vísceras <- NULL\n",
    "test$Diámetro <- NULL\n",
    "test$Peso.completo <- NULL\n",
    "test$Peso.Vísceras <- NULL\n",
    "clf4 <- qda(formula = Adulto ~ ., data = train)\n",
    "plda4 = predict(object = clf4, # predictions\n",
    "               newdata = test)\n",
    "\n",
    "#Medición del accuracy \n",
    "sum(test_labels==plda4$class)/length(test_labels)\n"
   ]
  },
  {
   "cell_type": "code",
   "execution_count": 156,
   "metadata": {},
   "outputs": [
    {
     "data": {
      "text/plain": [
       "    obs\n",
       "pred   0   1\n",
       "   0 320 242\n",
       "   1  65 627\n",
       "attr(,\"class\")\n",
       "[1] \"confusion.matrix\""
      ]
     },
     "metadata": {},
     "output_type": "display_data"
    }
   ],
   "source": [
    "confusion.matrix(as.integer(test_labels), plda4$posterior[,2], threshold = 0.5)"
   ]
  },
  {
   "cell_type": "markdown",
   "metadata": {},
   "source": [
    "## Clasificador utilizando regresión logística"
   ]
  },
  {
   "cell_type": "code",
   "execution_count": 165,
   "metadata": {},
   "outputs": [
    {
     "data": {
      "text/html": [
       "0.901116427432217"
      ],
      "text/latex": [
       "0.901116427432217"
      ],
      "text/markdown": [
       "0.901116427432217"
      ],
      "text/plain": [
       "[1] 0.9011164"
      ]
     },
     "metadata": {},
     "output_type": "display_data"
    }
   ],
   "source": [
    "clf5 <- glm(formula = Adulto ~ ., family=binomial(link='logit'),data = train)\n",
    "plda5 = predict(object = clf5, # predictions\n",
    "               newdata = test)\n",
    "plda5<-predict(clf5, test,type=\"response\")\n",
    "#Medición del accuracy \n",
    "sum(test_labels-plda5<0.5)/length(test_labels)\n"
   ]
  },
  {
   "cell_type": "code",
   "execution_count": 163,
   "metadata": {},
   "outputs": [
    {
     "data": {
      "text/plain": [
       "    obs\n",
       "pred   0   1\n",
       "   0 264 124\n",
       "   1 121 745\n",
       "attr(,\"class\")\n",
       "[1] \"confusion.matrix\""
      ]
     },
     "metadata": {},
     "output_type": "display_data"
    }
   ],
   "source": [
    "confusion.matrix(as.integer(test_labels), plda5, threshold = 0.5)"
   ]
  },
  {
   "cell_type": "markdown",
   "metadata": {},
   "source": [
    "# Resumen y conclusiones"
   ]
  },
  {
   "cell_type": "markdown",
   "metadata": {},
   "source": [
    "Se aplicaron LDA y QDA para el dataset propuesto por la cátedra. Al verificar el cumplimiento de las hipótesis de LDA mencionadas anteriormente, se vió que no se cumple ninguna.  \n",
    "De todas formas se probó el método eliminando predictores con alta correlación y se vió una mejora con respecto al uso de la probabilidad a priori (67% contra 79%, un 12 % de mejoría). El uso de los predictores con fuerte correlación no provocó ninguna mejora significativa ni en el accuracy, ni en la matriz de confusión.\n",
    "Con QDA la performance bajó levemente, no necesariamente tenía que mejorar ya que no se cumplen las hipótesis del modelo probabilístico. Esta baja se vió tanto en el modelo con predictores reducidos, como con el uso de todos los predictores (74 y 75 % de accuracy respectivamente).\n",
    "Para finalizar se hizo una clasificación con un regresor lineal y se obtuvo una mejora significativa con respecto a LDA, tanto en el accuracy (90%) como en la matriz de confusión.  \n",
    "\n",
    "En conclusión, si bien el clasificador LDA no alcanzó el rendimiento del regresor logístico, mostró resultados significativos a pesar de que los datos no cumplen con las hipótesis. Es por ello que ante un problema de clasificación se lo puede tener en cuenta a pesar de no ser el clasificador Bayesiano óptimo (si no se cumplen las hipótesis)."
   ]
  },
  {
   "cell_type": "markdown",
   "metadata": {},
   "source": []
  }
 ],
 "metadata": {
  "kernelspec": {
   "display_name": "R",
   "language": "R",
   "name": "ir"
  },
  "language_info": {
   "codemirror_mode": "r",
   "file_extension": ".r",
   "mimetype": "text/x-r-source",
   "name": "R",
   "pygments_lexer": "r",
   "version": "3.5.0"
  }
 },
 "nbformat": 4,
 "nbformat_minor": 2
}
