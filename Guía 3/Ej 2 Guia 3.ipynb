{
 "cells": [
  {
   "cell_type": "markdown",
   "metadata": {},
   "source": [
    "# Guia 3 Ejercicio 2\n",
    "\n",
    "Para el data set College de ISL predecir el número de solicitudes en base a las restantes\n",
    "variables utilizando: Regresión lineal, Ridge Regression y Lasso.  \n",
    "En los dos últimos métodos elegir los parámetros mediante validación cruzada y reportar los\n",
    "errores."
   ]
  },
  {
   "cell_type": "code",
   "execution_count": 121,
   "metadata": {},
   "outputs": [],
   "source": [
    "library(\"ISLR\")\n",
    "library(\"dplyr\")\n",
    "library(MASS)\n",
    "library(glmnet) #para las regresiones Ridge y Lasso\n",
    "data(\"College\")\n",
    "mydata <- College"
   ]
  },
  {
   "cell_type": "code",
   "execution_count": 122,
   "metadata": {},
   "outputs": [
    {
     "data": {
      "text/html": [
       "<table>\n",
       "<thead><tr><th></th><th scope=col>Private</th><th scope=col>Apps</th><th scope=col>Accept</th><th scope=col>Enroll</th><th scope=col>Top10perc</th><th scope=col>Top25perc</th><th scope=col>F.Undergrad</th><th scope=col>P.Undergrad</th><th scope=col>Outstate</th><th scope=col>Room.Board</th><th scope=col>Books</th><th scope=col>Personal</th><th scope=col>PhD</th><th scope=col>Terminal</th><th scope=col>S.F.Ratio</th><th scope=col>perc.alumni</th><th scope=col>Expend</th><th scope=col>Grad.Rate</th></tr></thead>\n",
       "<tbody>\n",
       "\t<tr><th scope=row>Abilene Christian University</th><td>Yes  </td><td>1660 </td><td>1232 </td><td>721  </td><td>23   </td><td>52   </td><td>2885 </td><td> 537 </td><td> 7440</td><td>3300 </td><td>450  </td><td>2200 </td><td>70   </td><td>78   </td><td>18.1 </td><td>12   </td><td> 7041</td><td>60   </td></tr>\n",
       "\t<tr><th scope=row>Adelphi University</th><td>Yes  </td><td>2186 </td><td>1924 </td><td>512  </td><td>16   </td><td>29   </td><td>2683 </td><td>1227 </td><td>12280</td><td>6450 </td><td>750  </td><td>1500 </td><td>29   </td><td>30   </td><td>12.2 </td><td>16   </td><td>10527</td><td>56   </td></tr>\n",
       "\t<tr><th scope=row>Adrian College</th><td>Yes  </td><td>1428 </td><td>1097 </td><td>336  </td><td>22   </td><td>50   </td><td>1036 </td><td>  99 </td><td>11250</td><td>3750 </td><td>400  </td><td>1165 </td><td>53   </td><td>66   </td><td>12.9 </td><td>30   </td><td> 8735</td><td>54   </td></tr>\n",
       "\t<tr><th scope=row>Agnes Scott College</th><td>Yes  </td><td> 417 </td><td> 349 </td><td>137  </td><td>60   </td><td>89   </td><td> 510 </td><td>  63 </td><td>12960</td><td>5450 </td><td>450  </td><td> 875 </td><td>92   </td><td>97   </td><td> 7.7 </td><td>37   </td><td>19016</td><td>59   </td></tr>\n",
       "\t<tr><th scope=row>Alaska Pacific University</th><td>Yes  </td><td> 193 </td><td> 146 </td><td> 55  </td><td>16   </td><td>44   </td><td> 249 </td><td> 869 </td><td> 7560</td><td>4120 </td><td>800  </td><td>1500 </td><td>76   </td><td>72   </td><td>11.9 </td><td> 2   </td><td>10922</td><td>15   </td></tr>\n",
       "\t<tr><th scope=row>Albertson College</th><td>Yes  </td><td> 587 </td><td> 479 </td><td>158  </td><td>38   </td><td>62   </td><td> 678 </td><td>  41 </td><td>13500</td><td>3335 </td><td>500  </td><td> 675 </td><td>67   </td><td>73   </td><td> 9.4 </td><td>11   </td><td> 9727</td><td>55   </td></tr>\n",
       "</tbody>\n",
       "</table>\n"
      ],
      "text/latex": [
       "\\begin{tabular}{r|llllllllllllllllll}\n",
       "  & Private & Apps & Accept & Enroll & Top10perc & Top25perc & F.Undergrad & P.Undergrad & Outstate & Room.Board & Books & Personal & PhD & Terminal & S.F.Ratio & perc.alumni & Expend & Grad.Rate\\\\\n",
       "\\hline\n",
       "\tAbilene Christian University & Yes   & 1660  & 1232  & 721   & 23    & 52    & 2885  &  537  &  7440 & 3300  & 450   & 2200  & 70    & 78    & 18.1  & 12    &  7041 & 60   \\\\\n",
       "\tAdelphi University & Yes   & 2186  & 1924  & 512   & 16    & 29    & 2683  & 1227  & 12280 & 6450  & 750   & 1500  & 29    & 30    & 12.2  & 16    & 10527 & 56   \\\\\n",
       "\tAdrian College & Yes   & 1428  & 1097  & 336   & 22    & 50    & 1036  &   99  & 11250 & 3750  & 400   & 1165  & 53    & 66    & 12.9  & 30    &  8735 & 54   \\\\\n",
       "\tAgnes Scott College & Yes   &  417  &  349  & 137   & 60    & 89    &  510  &   63  & 12960 & 5450  & 450   &  875  & 92    & 97    &  7.7  & 37    & 19016 & 59   \\\\\n",
       "\tAlaska Pacific University & Yes   &  193  &  146  &  55   & 16    & 44    &  249  &  869  &  7560 & 4120  & 800   & 1500  & 76    & 72    & 11.9  &  2    & 10922 & 15   \\\\\n",
       "\tAlbertson College & Yes   &  587  &  479  & 158   & 38    & 62    &  678  &   41  & 13500 & 3335  & 500   &  675  & 67    & 73    &  9.4  & 11    &  9727 & 55   \\\\\n",
       "\\end{tabular}\n"
      ],
      "text/markdown": [
       "\n",
       "| <!--/--> | Private | Apps | Accept | Enroll | Top10perc | Top25perc | F.Undergrad | P.Undergrad | Outstate | Room.Board | Books | Personal | PhD | Terminal | S.F.Ratio | perc.alumni | Expend | Grad.Rate | \n",
       "|---|---|---|---|---|---|\n",
       "| Abilene Christian University | Yes   | 1660  | 1232  | 721   | 23    | 52    | 2885  |  537  |  7440 | 3300  | 450   | 2200  | 70    | 78    | 18.1  | 12    |  7041 | 60    | \n",
       "| Adelphi University | Yes   | 2186  | 1924  | 512   | 16    | 29    | 2683  | 1227  | 12280 | 6450  | 750   | 1500  | 29    | 30    | 12.2  | 16    | 10527 | 56    | \n",
       "| Adrian College | Yes   | 1428  | 1097  | 336   | 22    | 50    | 1036  |   99  | 11250 | 3750  | 400   | 1165  | 53    | 66    | 12.9  | 30    |  8735 | 54    | \n",
       "| Agnes Scott College | Yes   |  417  |  349  | 137   | 60    | 89    |  510  |   63  | 12960 | 5450  | 450   |  875  | 92    | 97    |  7.7  | 37    | 19016 | 59    | \n",
       "| Alaska Pacific University | Yes   |  193  |  146  |  55   | 16    | 44    |  249  |  869  |  7560 | 4120  | 800   | 1500  | 76    | 72    | 11.9  |  2    | 10922 | 15    | \n",
       "| Albertson College | Yes   |  587  |  479  | 158   | 38    | 62    |  678  |   41  | 13500 | 3335  | 500   |  675  | 67    | 73    |  9.4  | 11    |  9727 | 55    | \n",
       "\n",
       "\n"
      ],
      "text/plain": [
       "                             Private Apps Accept Enroll Top10perc Top25perc\n",
       "Abilene Christian University Yes     1660 1232   721    23        52       \n",
       "Adelphi University           Yes     2186 1924   512    16        29       \n",
       "Adrian College               Yes     1428 1097   336    22        50       \n",
       "Agnes Scott College          Yes      417  349   137    60        89       \n",
       "Alaska Pacific University    Yes      193  146    55    16        44       \n",
       "Albertson College            Yes      587  479   158    38        62       \n",
       "                             F.Undergrad P.Undergrad Outstate Room.Board Books\n",
       "Abilene Christian University 2885         537         7440    3300       450  \n",
       "Adelphi University           2683        1227        12280    6450       750  \n",
       "Adrian College               1036          99        11250    3750       400  \n",
       "Agnes Scott College           510          63        12960    5450       450  \n",
       "Alaska Pacific University     249         869         7560    4120       800  \n",
       "Albertson College             678          41        13500    3335       500  \n",
       "                             Personal PhD Terminal S.F.Ratio perc.alumni Expend\n",
       "Abilene Christian University 2200     70  78       18.1      12           7041 \n",
       "Adelphi University           1500     29  30       12.2      16          10527 \n",
       "Adrian College               1165     53  66       12.9      30           8735 \n",
       "Agnes Scott College           875     92  97        7.7      37          19016 \n",
       "Alaska Pacific University    1500     76  72       11.9       2          10922 \n",
       "Albertson College             675     67  73        9.4      11           9727 \n",
       "                             Grad.Rate\n",
       "Abilene Christian University 60       \n",
       "Adelphi University           56       \n",
       "Adrian College               54       \n",
       "Agnes Scott College          59       \n",
       "Alaska Pacific University    15       \n",
       "Albertson College            55       "
      ]
     },
     "metadata": {},
     "output_type": "display_data"
    }
   ],
   "source": [
    "# Visualizo el dataset para tener una idea acerca de cómo son los datos\n",
    "head(mydata)"
   ]
  },
  {
   "cell_type": "code",
   "execution_count": 123,
   "metadata": {},
   "outputs": [
    {
     "data": {
      "text/plain": [
       " Private        Apps           Accept          Enroll       Top10perc    \n",
       " No :212   Min.   :   81   Min.   :   72   Min.   :  35   Min.   : 1.00  \n",
       " Yes:565   1st Qu.:  776   1st Qu.:  604   1st Qu.: 242   1st Qu.:15.00  \n",
       "           Median : 1558   Median : 1110   Median : 434   Median :23.00  \n",
       "           Mean   : 3002   Mean   : 2019   Mean   : 780   Mean   :27.56  \n",
       "           3rd Qu.: 3624   3rd Qu.: 2424   3rd Qu.: 902   3rd Qu.:35.00  \n",
       "           Max.   :48094   Max.   :26330   Max.   :6392   Max.   :96.00  \n",
       "   Top25perc      F.Undergrad     P.Undergrad         Outstate    \n",
       " Min.   :  9.0   Min.   :  139   Min.   :    1.0   Min.   : 2340  \n",
       " 1st Qu.: 41.0   1st Qu.:  992   1st Qu.:   95.0   1st Qu.: 7320  \n",
       " Median : 54.0   Median : 1707   Median :  353.0   Median : 9990  \n",
       " Mean   : 55.8   Mean   : 3700   Mean   :  855.3   Mean   :10441  \n",
       " 3rd Qu.: 69.0   3rd Qu.: 4005   3rd Qu.:  967.0   3rd Qu.:12925  \n",
       " Max.   :100.0   Max.   :31643   Max.   :21836.0   Max.   :21700  \n",
       "   Room.Board       Books           Personal         PhD        \n",
       " Min.   :1780   Min.   :  96.0   Min.   : 250   Min.   :  8.00  \n",
       " 1st Qu.:3597   1st Qu.: 470.0   1st Qu.: 850   1st Qu.: 62.00  \n",
       " Median :4200   Median : 500.0   Median :1200   Median : 75.00  \n",
       " Mean   :4358   Mean   : 549.4   Mean   :1341   Mean   : 72.66  \n",
       " 3rd Qu.:5050   3rd Qu.: 600.0   3rd Qu.:1700   3rd Qu.: 85.00  \n",
       " Max.   :8124   Max.   :2340.0   Max.   :6800   Max.   :103.00  \n",
       "    Terminal       S.F.Ratio      perc.alumni        Expend     \n",
       " Min.   : 24.0   Min.   : 2.50   Min.   : 0.00   Min.   : 3186  \n",
       " 1st Qu.: 71.0   1st Qu.:11.50   1st Qu.:13.00   1st Qu.: 6751  \n",
       " Median : 82.0   Median :13.60   Median :21.00   Median : 8377  \n",
       " Mean   : 79.7   Mean   :14.09   Mean   :22.74   Mean   : 9660  \n",
       " 3rd Qu.: 92.0   3rd Qu.:16.50   3rd Qu.:31.00   3rd Qu.:10830  \n",
       " Max.   :100.0   Max.   :39.80   Max.   :64.00   Max.   :56233  \n",
       "   Grad.Rate     \n",
       " Min.   : 10.00  \n",
       " 1st Qu.: 53.00  \n",
       " Median : 65.00  \n",
       " Mean   : 65.46  \n",
       " 3rd Qu.: 78.00  \n",
       " Max.   :118.00  "
      ]
     },
     "metadata": {},
     "output_type": "display_data"
    }
   ],
   "source": [
    "# Siempre es interesante ver el summary de un dataset.\n",
    "\n",
    "summary(mydata)"
   ]
  },
  {
   "cell_type": "markdown",
   "metadata": {},
   "source": [
    "## Pasos a seguir\n",
    "\n",
    "- Primero, voy a convertir la columna \"Private\" a una variable numérica que valga 0 para \"No\" y 1 para \"Yes\".  \n",
    "- Segundo, voy a separar el dataset en tres: 70% para training, \n",
    "15% para hacer cross-validation para elegir los parámetros y por último,\n",
    "un 15% para testear los modelos."
   ]
  },
  {
   "cell_type": "code",
   "execution_count": 124,
   "metadata": {},
   "outputs": [],
   "source": [
    "## Convierto la columna \"Private\"\n",
    "mydata=mutate(mydata, Private = ifelse(Private == \"No\",0,1))\n",
    "# Separo el dataset en tres\n",
    "set.seed(222)\n",
    "data_size=nrow(mydata)\n",
    "mydata <- mydata[sample(nrow(mydata)),]\n",
    "train <- mydata[0:floor(0.70 * data_size),]\n",
    "cv <- mydata[floor(0.7 * data_size):floor(0.85 * data_size),]\n",
    "test <- mydata[floor(0.85 * data_size):data_size,]\n",
    "x=train\n",
    "x$Apps=NULL\n",
    "x=data.matrix(x)\n",
    "y=data.matrix(train$Apps)\n",
    "x_test=test\n",
    "x_test$Apps=NULL\n",
    "x_test=data.matrix(x_test)\n",
    "y_test=data.matrix(test$Apps)\n",
    "x_cv=cv\n",
    "x_cv$Apps=NULL\n",
    "x_cv=data.matrix(x_cv)\n",
    "y_cv=data.matrix(cv$Apps)"
   ]
  },
  {
   "cell_type": "code",
   "execution_count": 125,
   "metadata": {},
   "outputs": [
    {
     "data": {
      "text/html": [
       "<table>\n",
       "<thead><tr><th></th><th scope=col>Private</th><th scope=col>Apps</th><th scope=col>Accept</th><th scope=col>Enroll</th><th scope=col>Top10perc</th><th scope=col>Top25perc</th><th scope=col>F.Undergrad</th><th scope=col>P.Undergrad</th><th scope=col>Outstate</th><th scope=col>Room.Board</th><th scope=col>Books</th><th scope=col>Personal</th><th scope=col>PhD</th><th scope=col>Terminal</th><th scope=col>S.F.Ratio</th><th scope=col>perc.alumni</th><th scope=col>Expend</th><th scope=col>Grad.Rate</th></tr></thead>\n",
       "<tbody>\n",
       "\t<tr><th scope=row>724</th><td>1    </td><td>1231 </td><td>1074 </td><td> 345 </td><td>34   </td><td>66   </td><td>1295 </td><td>105  </td><td>11600</td><td>3610 </td><td>400  </td><td> 850 </td><td>66   </td><td>91   </td><td>12.4 </td><td>37   </td><td> 7735</td><td>67   </td></tr>\n",
       "\t<tr><th scope=row>52</th><td>1    </td><td> 202 </td><td> 184 </td><td> 122 </td><td>19   </td><td>42   </td><td> 537 </td><td>101  </td><td> 8540</td><td>3580 </td><td>500  </td><td>1400 </td><td>61   </td><td>80   </td><td> 8.8 </td><td>32   </td><td> 8324</td><td>56   </td></tr>\n",
       "\t<tr><th scope=row>387</th><td>1    </td><td>1232 </td><td> 955 </td><td> 303 </td><td>23   </td><td>58   </td><td>1241 </td><td>485  </td><td>14990</td><td>4730 </td><td>550  </td><td>1250 </td><td>86   </td><td>92   </td><td>15.2 </td><td>28   </td><td> 9566</td><td>74   </td></tr>\n",
       "\t<tr><th scope=row>1</th><td>1    </td><td>1660 </td><td>1232 </td><td> 721 </td><td>23   </td><td>52   </td><td>2885 </td><td>537  </td><td> 7440</td><td>3300 </td><td>450  </td><td>2200 </td><td>70   </td><td>78   </td><td>18.1 </td><td>12   </td><td> 7041</td><td>60   </td></tr>\n",
       "\t<tr><th scope=row>709</th><td>1    </td><td>7791 </td><td>4690 </td><td>1499 </td><td>71   </td><td>92   </td><td>5500 </td><td> 90  </td><td>17865</td><td>6525 </td><td>630  </td><td> 952 </td><td>93   </td><td>98   </td><td> 5.8 </td><td>26   </td><td>23850</td><td>83   </td></tr>\n",
       "\t<tr><th scope=row>740</th><td>0    </td><td>1164 </td><td>1062 </td><td> 478 </td><td>12   </td><td>25   </td><td>2138 </td><td>227  </td><td> 4470</td><td>2890 </td><td>600  </td><td>1210 </td><td>33   </td><td>33   </td><td>16.3 </td><td>10   </td><td> 4249</td><td>60   </td></tr>\n",
       "</tbody>\n",
       "</table>\n"
      ],
      "text/latex": [
       "\\begin{tabular}{r|llllllllllllllllll}\n",
       "  & Private & Apps & Accept & Enroll & Top10perc & Top25perc & F.Undergrad & P.Undergrad & Outstate & Room.Board & Books & Personal & PhD & Terminal & S.F.Ratio & perc.alumni & Expend & Grad.Rate\\\\\n",
       "\\hline\n",
       "\t724 & 1     & 1231  & 1074  &  345  & 34    & 66    & 1295  & 105   & 11600 & 3610  & 400   &  850  & 66    & 91    & 12.4  & 37    &  7735 & 67   \\\\\n",
       "\t52 & 1     &  202  &  184  &  122  & 19    & 42    &  537  & 101   &  8540 & 3580  & 500   & 1400  & 61    & 80    &  8.8  & 32    &  8324 & 56   \\\\\n",
       "\t387 & 1     & 1232  &  955  &  303  & 23    & 58    & 1241  & 485   & 14990 & 4730  & 550   & 1250  & 86    & 92    & 15.2  & 28    &  9566 & 74   \\\\\n",
       "\t1 & 1     & 1660  & 1232  &  721  & 23    & 52    & 2885  & 537   &  7440 & 3300  & 450   & 2200  & 70    & 78    & 18.1  & 12    &  7041 & 60   \\\\\n",
       "\t709 & 1     & 7791  & 4690  & 1499  & 71    & 92    & 5500  &  90   & 17865 & 6525  & 630   &  952  & 93    & 98    &  5.8  & 26    & 23850 & 83   \\\\\n",
       "\t740 & 0     & 1164  & 1062  &  478  & 12    & 25    & 2138  & 227   &  4470 & 2890  & 600   & 1210  & 33    & 33    & 16.3  & 10    &  4249 & 60   \\\\\n",
       "\\end{tabular}\n"
      ],
      "text/markdown": [
       "\n",
       "| <!--/--> | Private | Apps | Accept | Enroll | Top10perc | Top25perc | F.Undergrad | P.Undergrad | Outstate | Room.Board | Books | Personal | PhD | Terminal | S.F.Ratio | perc.alumni | Expend | Grad.Rate | \n",
       "|---|---|---|---|---|---|\n",
       "| 724 | 1     | 1231  | 1074  |  345  | 34    | 66    | 1295  | 105   | 11600 | 3610  | 400   |  850  | 66    | 91    | 12.4  | 37    |  7735 | 67    | \n",
       "| 52 | 1     |  202  |  184  |  122  | 19    | 42    |  537  | 101   |  8540 | 3580  | 500   | 1400  | 61    | 80    |  8.8  | 32    |  8324 | 56    | \n",
       "| 387 | 1     | 1232  |  955  |  303  | 23    | 58    | 1241  | 485   | 14990 | 4730  | 550   | 1250  | 86    | 92    | 15.2  | 28    |  9566 | 74    | \n",
       "| 1 | 1     | 1660  | 1232  |  721  | 23    | 52    | 2885  | 537   |  7440 | 3300  | 450   | 2200  | 70    | 78    | 18.1  | 12    |  7041 | 60    | \n",
       "| 709 | 1     | 7791  | 4690  | 1499  | 71    | 92    | 5500  |  90   | 17865 | 6525  | 630   |  952  | 93    | 98    |  5.8  | 26    | 23850 | 83    | \n",
       "| 740 | 0     | 1164  | 1062  |  478  | 12    | 25    | 2138  | 227   |  4470 | 2890  | 600   | 1210  | 33    | 33    | 16.3  | 10    |  4249 | 60    | \n",
       "\n",
       "\n"
      ],
      "text/plain": [
       "    Private Apps Accept Enroll Top10perc Top25perc F.Undergrad P.Undergrad\n",
       "724 1       1231 1074    345   34        66        1295        105        \n",
       "52  1        202  184    122   19        42         537        101        \n",
       "387 1       1232  955    303   23        58        1241        485        \n",
       "1   1       1660 1232    721   23        52        2885        537        \n",
       "709 1       7791 4690   1499   71        92        5500         90        \n",
       "740 0       1164 1062    478   12        25        2138        227        \n",
       "    Outstate Room.Board Books Personal PhD Terminal S.F.Ratio perc.alumni\n",
       "724 11600    3610       400    850     66  91       12.4      37         \n",
       "52   8540    3580       500   1400     61  80        8.8      32         \n",
       "387 14990    4730       550   1250     86  92       15.2      28         \n",
       "1    7440    3300       450   2200     70  78       18.1      12         \n",
       "709 17865    6525       630    952     93  98        5.8      26         \n",
       "740  4470    2890       600   1210     33  33       16.3      10         \n",
       "    Expend Grad.Rate\n",
       "724  7735  67       \n",
       "52   8324  56       \n",
       "387  9566  74       \n",
       "1    7041  60       \n",
       "709 23850  83       \n",
       "740  4249  60       "
      ]
     },
     "metadata": {},
     "output_type": "display_data"
    }
   ],
   "source": [
    "# Visualizo cómo quedo mi dataframe\n",
    "head(mydata)"
   ]
  },
  {
   "cell_type": "code",
   "execution_count": 126,
   "metadata": {},
   "outputs": [
    {
     "data": {
      "text/plain": [
       "    Private            Apps             Accept          Enroll      \n",
       " Min.   :0.0000   Min.   :  100.0   Min.   :   90   Min.   :  35.0  \n",
       " 1st Qu.:0.0000   1st Qu.:  820.5   1st Qu.:  635   1st Qu.: 254.5  \n",
       " Median :1.0000   Median : 1660.0   Median : 1221   Median : 444.0  \n",
       " Mean   :0.7293   Mean   : 3007.6   Mean   : 2053   Mean   : 789.1  \n",
       " 3rd Qu.:1.0000   3rd Qu.: 3806.5   3rd Qu.: 2592   3rd Qu.: 912.0  \n",
       " Max.   :1.0000   Max.   :21804.0   Max.   :18744   Max.   :6392.0  \n",
       "   Top10perc      Top25perc       F.Undergrad     P.Undergrad     \n",
       " Min.   : 1.0   Min.   :  9.00   Min.   :  199   Min.   :    1.0  \n",
       " 1st Qu.:15.0   1st Qu.: 41.00   1st Qu.: 1048   1st Qu.:   98.5  \n",
       " Median :24.0   Median : 55.00   Median : 1773   Median :  355.0  \n",
       " Mean   :27.9   Mean   : 56.47   Mean   : 3713   Mean   :  885.8  \n",
       " 3rd Qu.:36.0   3rd Qu.: 70.00   3rd Qu.: 4228   3rd Qu.:  967.5  \n",
       " Max.   :96.0   Max.   :100.00   Max.   :31643   Max.   :21836.0  \n",
       "    Outstate       Room.Board       Books         Personal     \n",
       " Min.   : 2340   Min.   :1780   Min.   :  96   Min.   : 300.0  \n",
       " 1st Qu.: 7362   1st Qu.:3600   1st Qu.: 485   1st Qu.: 837.5  \n",
       " Median : 9996   Median :4200   Median : 500   Median :1200.0  \n",
       " Mean   :10548   Mean   :4364   Mean   : 549   Mean   :1321.9  \n",
       " 3rd Qu.:13240   3rd Qu.:5082   3rd Qu.: 600   3rd Qu.:1660.0  \n",
       " Max.   :20100   Max.   :8124   Max.   :2000   Max.   :4913.0  \n",
       "      PhD            Terminal       S.F.Ratio     perc.alumni   \n",
       " Min.   : 10.00   Min.   : 24.0   Min.   : 2.5   Min.   : 1.00  \n",
       " 1st Qu.: 63.50   1st Qu.: 72.0   1st Qu.:11.5   1st Qu.:13.00  \n",
       " Median : 75.00   Median : 82.0   Median :13.6   Median :21.00  \n",
       " Mean   : 73.23   Mean   : 80.1   Mean   :14.0   Mean   :22.56  \n",
       " 3rd Qu.: 86.00   3rd Qu.: 92.0   3rd Qu.:16.4   3rd Qu.:31.00  \n",
       " Max.   :100.00   Max.   :100.0   Max.   :27.8   Max.   :63.00  \n",
       "     Expend        Grad.Rate     \n",
       " Min.   : 3186   Min.   : 10.00  \n",
       " 1st Qu.: 6804   1st Qu.: 53.00  \n",
       " Median : 8425   Median : 66.00  \n",
       " Mean   : 9680   Mean   : 65.57  \n",
       " 3rd Qu.:10872   3rd Qu.: 78.00  \n",
       " Max.   :56233   Max.   :118.00  "
      ]
     },
     "metadata": {},
     "output_type": "display_data"
    }
   ],
   "source": [
    "summary(train)"
   ]
  },
  {
   "cell_type": "code",
   "execution_count": 127,
   "metadata": {},
   "outputs": [
    {
     "data": {
      "text/html": [
       "543"
      ],
      "text/latex": [
       "543"
      ],
      "text/markdown": [
       "543"
      ],
      "text/plain": [
       "[1] 543"
      ]
     },
     "metadata": {},
     "output_type": "display_data"
    }
   ],
   "source": [
    "#Imprimo la cantidad de filas de train\n",
    "nrow(train)"
   ]
  },
  {
   "cell_type": "code",
   "execution_count": 128,
   "metadata": {},
   "outputs": [
    {
     "data": {
      "text/html": [
       "118"
      ],
      "text/latex": [
       "118"
      ],
      "text/markdown": [
       "118"
      ],
      "text/plain": [
       "[1] 118"
      ]
     },
     "metadata": {},
     "output_type": "display_data"
    }
   ],
   "source": [
    "# Imprimo la cantidad de filas de cv\n",
    "nrow(cv)"
   ]
  },
  {
   "cell_type": "code",
   "execution_count": 129,
   "metadata": {},
   "outputs": [
    {
     "data": {
      "text/html": [
       "118"
      ],
      "text/latex": [
       "118"
      ],
      "text/markdown": [
       "118"
      ],
      "text/plain": [
       "[1] 118"
      ]
     },
     "metadata": {},
     "output_type": "display_data"
    }
   ],
   "source": [
    "# Imprimo la cantidad de filas de test\n",
    "nrow(test)"
   ]
  },
  {
   "cell_type": "markdown",
   "metadata": {},
   "source": [
    "## Regresión lineal\n",
    "\n",
    "Hago el fit de la regresión lineal y chequeo el error para el conjunto de testing. Lo correcto sería hacer un análisis de los p-values de cada uno de los predictores, pero como la idea es comparar el efecto de la regularización, se utilizarán los mismos predictores para los tres métodos (todos)."
   ]
  },
  {
   "cell_type": "code",
   "execution_count": 130,
   "metadata": {},
   "outputs": [
    {
     "name": "stdout",
     "output_type": "stream",
     "text": [
      "[1] \"El rmse para el train-set es de:\"\n"
     ]
    },
    {
     "data": {
      "text/html": [
       "910.677276767027"
      ],
      "text/latex": [
       "910.677276767027"
      ],
      "text/markdown": [
       "910.677276767027"
      ],
      "text/plain": [
       "[1] 910.6773"
      ]
     },
     "metadata": {},
     "output_type": "display_data"
    },
    {
     "name": "stdout",
     "output_type": "stream",
     "text": [
      "[1] \"El rmse para el test-set encontrado es de:\"\n"
     ]
    },
    {
     "data": {
      "text/html": [
       "867.629072412069"
      ],
      "text/latex": [
       "867.629072412069"
      ],
      "text/markdown": [
       "867.629072412069"
      ],
      "text/plain": [
       "[1] 867.6291"
      ]
     },
     "metadata": {},
     "output_type": "display_data"
    }
   ],
   "source": [
    "clf <-lm(Apps~ . , data=train)\n",
    "print(\"El rmse para el train-set es de:\")\n",
    "plda<-predict(clf, train)\n",
    "sqrt(sum((plda-train$Apps)**2/length(plda)))\n",
    "print(\"El rmse para el test-set encontrado es de:\")\n",
    "plda<-predict(clf, test)\n",
    "sqrt(sum((plda-test$Apps)**2)/length(plda))\n",
    "#summary(clf)"
   ]
  },
  {
   "cell_type": "code",
   "execution_count": null,
   "metadata": {},
   "outputs": [],
   "source": []
  },
  {
   "cell_type": "markdown",
   "metadata": {},
   "source": [
    "## Ridge Regression\n",
    "\n",
    "Se aplicará Ridge Regression, seleccionando valores de lambda entre 0 y 1. Nos quedamos con el valor de lambda que tenga un mínimo error en el cv set."
   ]
  },
  {
   "cell_type": "code",
   "execution_count": 131,
   "metadata": {},
   "outputs": [],
   "source": [
    "lambdas <- exp(seq(0, 10, by = .01))\n",
    "rmse_train=integer(length(lambdas))\n",
    "rmse_cv=integer(length(lambdas))\n",
    "rmse_test=integer(length(lambdas))"
   ]
  },
  {
   "cell_type": "code",
   "execution_count": 132,
   "metadata": {},
   "outputs": [],
   "source": [
    "min_rmse=100000000\n",
    "lambda=0\n",
    "for (idx in seq(length(lambdas))) {\n",
    "    ridge_clf <- glmnet(x, y, alpha = 0, lambda = lambdas[idx])\n",
    "    plda=predict(ridge_clf,newx=data.matrix(x_cv)) # make predictions\n",
    "    rmse_cv[idx]=sqrt(sum((plda-y_cv)**2/length(plda)))\n",
    "    if(rmse_cv[idx]<min_rmse){\n",
    "        min_rmse=rmse_cv[idx]\n",
    "        lambda=lambdas[idx]\n",
    "    }\n",
    "    plda=predict(ridge_clf,newx=data.matrix(x)) # make predictions\n",
    "    rmse_train[idx]=sqrt(sum((plda-y)**2/length(plda)))\n",
    "    plda=predict(ridge_clf,newx=data.matrix(x_test)) # make predictions\n",
    "    rmse_test[idx]=sqrt(sum((plda-y_test)**2/length(plda)))\n",
    "    }"
   ]
  },
  {
   "cell_type": "code",
   "execution_count": 133,
   "metadata": {},
   "outputs": [
    {
     "name": "stdout",
     "output_type": "stream",
     "text": [
      "El lambda con el minimo rmse encontrado es:[1] 1\n",
      "El mínimo rmse encontrado para el cross-validation set es:[1] 1745.509\n"
     ]
    },
    {
     "data": {
      "image/png": "[encoded data removed]",
      "text/plain": [
       "plot without title"
      ]
     },
     "metadata": {},
     "output_type": "display_data"
    }
   ],
   "source": [
    "plot(lambdas,rmse_train,type=\"l\",col=\"red\", log = \"x\")\n",
    "lines(lambdas,rmse_test,type=\"l\",col=\"green\")\n",
    "lines(lambdas,rmse_cv,type=\"l\",col=\"blue\")\n",
    "cat(\"El lambda con el minimo rmse encontrado es:\")\n",
    "print(lambda)\n",
    "cat(\"El mínimo rmse encontrado para el cross-validation set es:\")\n",
    "print(min_rmse)"
   ]
  },
  {
   "cell_type": "code",
   "execution_count": 134,
   "metadata": {},
   "outputs": [
    {
     "name": "stdout",
     "output_type": "stream",
     "text": [
      "[1] \"El rmse encontrado para el train-set es:\"\n"
     ]
    },
    {
     "data": {
      "text/html": [
       "910.700899273392"
      ],
      "text/latex": [
       "910.700899273392"
      ],
      "text/markdown": [
       "910.700899273392"
      ],
      "text/plain": [
       "[1] 910.7009"
      ]
     },
     "metadata": {},
     "output_type": "display_data"
    },
    {
     "name": "stdout",
     "output_type": "stream",
     "text": [
      "[1] \"El rmse encontrado para el cv-set es:\"\n"
     ]
    },
    {
     "data": {
      "text/html": [
       "1745.50925180571"
      ],
      "text/latex": [
       "1745.50925180571"
      ],
      "text/markdown": [
       "1745.50925180571"
      ],
      "text/plain": [
       "[1] 1745.509"
      ]
     },
     "metadata": {},
     "output_type": "display_data"
    },
    {
     "name": "stdout",
     "output_type": "stream",
     "text": [
      "[1] \"El rmse encontrado para el test-set es:\"\n"
     ]
    },
    {
     "data": {
      "text/html": [
       "867.069907748651"
      ],
      "text/latex": [
       "867.069907748651"
      ],
      "text/markdown": [
       "867.069907748651"
      ],
      "text/plain": [
       "[1] 867.0699"
      ]
     },
     "metadata": {},
     "output_type": "display_data"
    }
   ],
   "source": [
    "ridge_clf <- glmnet(x, y, alpha = 0, lambda = lambda)\n",
    "print(\"El rmse encontrado para el train-set es:\")\n",
    "plda=predict(ridge_clf,newx=data.matrix(x)) # make predictions\n",
    "sqrt(sum((plda-y)**2/length(plda)))\n",
    "print(\"El rmse encontrado para el cv-set es:\")\n",
    "plda=predict(ridge_clf,newx=data.matrix(x_cv)) # make predictions\n",
    "sqrt(sum((plda-y_cv)**2/length(plda)))\n",
    "print(\"El rmse encontrado para el test-set es:\")\n",
    "plda=predict(ridge_clf,newx=data.matrix(x_test)) # make predictions\n",
    "sqrt(sum((plda-y_test)**2/length(plda)))\n"
   ]
  },
  {
   "cell_type": "markdown",
   "metadata": {},
   "source": [
    "## Lasso Regression\n",
    "\n",
    "Se aplicará Lasso Regression, seleccionando valores de lambda entre 0 y 1. Nos quedamos con el valor de lambda que tenga un mínimo error en el cv set."
   ]
  },
  {
   "cell_type": "code",
   "execution_count": 135,
   "metadata": {},
   "outputs": [],
   "source": [
    "lambdas <- exp(seq(-2, 10, by = .01))\n",
    "rmse_train=integer(length(lambdas))\n",
    "rmse_cv=integer(length(lambdas))\n",
    "rmse_test=integer(length(lambdas))"
   ]
  },
  {
   "cell_type": "code",
   "execution_count": 136,
   "metadata": {},
   "outputs": [],
   "source": [
    "min_rmse=100000000\n",
    "lambda=0\n",
    "for (idx in seq(length(lambdas))) {\n",
    "    lasso_clf <- glmnet(x, y, alpha = 1, lambda = lambdas[idx])\n",
    "    plda=predict(lasso_clf,newx=data.matrix(x_cv)) # make predictions\n",
    "    rmse_cv[idx]=sqrt(sum((plda-y_cv)**2/length(plda)))\n",
    "    if(rmse_cv[idx]<min_rmse){\n",
    "        min_rmse=rmse_cv[idx]\n",
    "        lambda=lambdas[idx]\n",
    "    }\n",
    "    plda=predict(lasso_clf,newx=data.matrix(x)) # make predictions\n",
    "    rmse_train[idx]=sqrt(sum((plda-y)**2/length(plda)))\n",
    "    plda=predict(lasso_clf,newx=data.matrix(x_test)) # make predictions\n",
    "    rmse_test[idx]=sqrt(sum((plda-y_test)**2/length(plda)))\n",
    "    }"
   ]
  },
  {
   "cell_type": "code",
   "execution_count": 137,
   "metadata": {},
   "outputs": [
    {
     "name": "stdout",
     "output_type": "stream",
     "text": [
      "El lambda con el minimo rmse encontrado es:[1] 0.1353353\n",
      "El mínimo rmse encontrado para el cross-validation set es:[1] 1743.148\n"
     ]
    },
    {
     "data": {
      "image/png": "[encoded data removed]",
      "text/plain": [
       "plot without title"
      ]
     },
     "metadata": {},
     "output_type": "display_data"
    }
   ],
   "source": [
    "plot(lambdas,rmse_train,type=\"l\",col=\"red\", log = \"x\")\n",
    "lines(lambdas,rmse_test,type=\"l\",col=\"green\")\n",
    "lines(lambdas,rmse_cv,type=\"l\",col=\"blue\")\n",
    "cat(\"El lambda con el minimo rmse encontrado es:\")\n",
    "print(lambda)\n",
    "cat(\"El mínimo rmse encontrado para el cross-validation set es:\")\n",
    "print(min_rmse)"
   ]
  },
  {
   "cell_type": "code",
   "execution_count": 138,
   "metadata": {},
   "outputs": [
    {
     "name": "stdout",
     "output_type": "stream",
     "text": [
      "[1] \"El rmse para el train-set es:\"\n"
     ]
    },
    {
     "data": {
      "text/html": [
       "910.688552410712"
      ],
      "text/latex": [
       "910.688552410712"
      ],
      "text/markdown": [
       "910.688552410712"
      ],
      "text/plain": [
       "[1] 910.6886"
      ]
     },
     "metadata": {},
     "output_type": "display_data"
    },
    {
     "name": "stdout",
     "output_type": "stream",
     "text": [
      "[1] \"El rmse para el cv-set es:\"\n"
     ]
    },
    {
     "data": {
      "text/html": [
       "1743.14763713588"
      ],
      "text/latex": [
       "1743.14763713588"
      ],
      "text/markdown": [
       "1743.14763713588"
      ],
      "text/plain": [
       "[1] 1743.148"
      ]
     },
     "metadata": {},
     "output_type": "display_data"
    },
    {
     "name": "stdout",
     "output_type": "stream",
     "text": [
      "[1] \"El rmse para el test-set es:\"\n"
     ]
    },
    {
     "data": {
      "text/html": [
       "867.0322220162"
      ],
      "text/latex": [
       "867.0322220162"
      ],
      "text/markdown": [
       "867.0322220162"
      ],
      "text/plain": [
       "[1] 867.0322"
      ]
     },
     "metadata": {},
     "output_type": "display_data"
    }
   ],
   "source": [
    "ridge_clf <- glmnet(x, y, alpha = 1, lambda = lambda)\n",
    "print(\"El rmse para el train-set es:\")\n",
    "plda=predict(ridge_clf,newx=data.matrix(x)) # make predictions\n",
    "sqrt(sum((plda-y)**2/length(plda)))\n",
    "print(\"El rmse para el cv-set es:\")\n",
    "plda=predict(ridge_clf,newx=data.matrix(x_cv)) # make predictions\n",
    "sqrt(sum((plda-y_cv)**2/length(plda)))\n",
    "print(\"El rmse para el test-set es:\")\n",
    "plda=predict(ridge_clf,newx=data.matrix(x_test)) # make predictions\n",
    "sqrt(sum((plda-y_test)**2/length(plda)))\n"
   ]
  },
  {
   "cell_type": "markdown",
   "metadata": {},
   "source": [
    "## Análisis parcial\n",
    "\n",
    "Se nota que el dataset no es lo suficientemente grande para elegir hiperparámetros utilizando el cross-validation set como ha sido utilizado, ya que se ve que los hiperparámetros son muy dependientes del cv-set elegido.\n",
    "Por este motivo se van a juntar las tablas x_cv con x_train y se volverán a aplicar las regresiones de Ridge y Lasso pero esta vez aplicando la técnica de K-folding para elegir el valor de los lambda. \n",
    "Para que la comparación sea justa entre los tres modelos, se volverá a ajustar la regresión lineal utilizando  los datos de x_cv y x_train mezclados.\n",
    "Para implementar la técnica de k-folding se usará cv.glmnet."
   ]
  },
  {
   "cell_type": "code",
   "execution_count": 139,
   "metadata": {},
   "outputs": [],
   "source": [
    "# Separo el dataset en dos\n",
    "# Ya está mezclado de la sección anterior\n",
    "train <- mydata[0:floor(0.85 * data_size),]\n",
    "test <- mydata[floor(0.85 * data_size):data_size,]\n",
    "x=train\n",
    "x$Apps=NULL\n",
    "x=data.matrix(x)\n",
    "y=data.matrix(train$Apps)\n",
    "x_test=test\n",
    "x_test$Apps=NULL\n",
    "x_test=data.matrix(x_test)\n",
    "y_test=data.matrix(test$Apps)"
   ]
  },
  {
   "cell_type": "markdown",
   "metadata": {},
   "source": [
    "## Regresión Lineal"
   ]
  },
  {
   "cell_type": "code",
   "execution_count": 140,
   "metadata": {},
   "outputs": [
    {
     "name": "stdout",
     "output_type": "stream",
     "text": [
      "[1] \"El rmse para el train-set es de:\"\n"
     ]
    },
    {
     "data": {
      "text/html": [
       "1054.85831485867"
      ],
      "text/latex": [
       "1054.85831485867"
      ],
      "text/markdown": [
       "1054.85831485867"
      ],
      "text/plain": [
       "[1] 1054.858"
      ]
     },
     "metadata": {},
     "output_type": "display_data"
    },
    {
     "name": "stdout",
     "output_type": "stream",
     "text": [
      "[1] \"El rmse para el test-set encontrado es de:\"\n"
     ]
    },
    {
     "data": {
      "text/html": [
       "899.710927457414"
      ],
      "text/latex": [
       "899.710927457414"
      ],
      "text/markdown": [
       "899.710927457414"
      ],
      "text/plain": [
       "[1] 899.7109"
      ]
     },
     "metadata": {},
     "output_type": "display_data"
    }
   ],
   "source": [
    "clf <-lm(Apps~ . , data=train)\n",
    "print(\"El rmse para el train-set es de:\")\n",
    "plda<-predict(clf, train)\n",
    "sqrt(sum((plda-train$Apps)**2)/length(plda))\n",
    "print(\"El rmse para el test-set encontrado es de:\")\n",
    "plda<-predict(clf, test)\n",
    "sqrt(sum((plda-test$Apps)**2)/length(plda))"
   ]
  },
  {
   "cell_type": "markdown",
   "metadata": {},
   "source": [
    "## Ridge Regression"
   ]
  },
  {
   "cell_type": "code",
   "execution_count": 150,
   "metadata": {},
   "outputs": [],
   "source": [
    "set.seed(321)\n",
    "lambdas <- exp(seq(-20,20, by = .1))\n",
    "rmse_train=integer(length(lambdas))\n",
    "rmse_cv=integer(length(lambdas))\n",
    "rmse_test=integer(length(lambdas))\n",
    "clfs_ridge <-cv.glmnet(x, y, alpha = 0, lambda = lambdas,nfolds=220)"
   ]
  },
  {
   "cell_type": "code",
   "execution_count": 151,
   "metadata": {},
   "outputs": [
    {
     "name": "stdout",
     "output_type": "stream",
     "text": [
      "[1] \"El lambda que da el mínimo rmse es:\"\n"
     ]
    },
    {
     "data": {
      "text/html": [
       "2.77508324224076e-08"
      ],
      "text/latex": [
       "2.77508324224076e-08"
      ],
      "text/markdown": [
       "2.77508324224076e-08"
      ],
      "text/plain": [
       "[1] 2.775083e-08"
      ]
     },
     "metadata": {},
     "output_type": "display_data"
    }
   ],
   "source": [
    "print(\"El lambda que da el mínimo rmse es:\")\n",
    "clfs_ridge$lambda.min"
   ]
  },
  {
   "cell_type": "code",
   "execution_count": 152,
   "metadata": {},
   "outputs": [
    {
     "data": {
      "text/html": [
       "899.710927444472"
      ],
      "text/latex": [
       "899.710927444472"
      ],
      "text/markdown": [
       "899.710927444472"
      ],
      "text/plain": [
       "[1] 899.7109"
      ]
     },
     "metadata": {},
     "output_type": "display_data"
    }
   ],
   "source": [
    "plda=predict(clfs_ridge,newx=data.matrix(x_test),s=\"lambda.min\") # make predictions\n",
    "sqrt(sum((plda-y_test)**2/length(plda)))"
   ]
  },
  {
   "cell_type": "markdown",
   "metadata": {},
   "source": [
    "## Lasso Regression"
   ]
  },
  {
   "cell_type": "code",
   "execution_count": 153,
   "metadata": {},
   "outputs": [],
   "source": [
    "set.seed(321)\n",
    "lambdas <- exp(seq(-20,20, by = .1))\n",
    "rmse_train=integer(length(lambdas))\n",
    "rmse_cv=integer(length(lambdas))\n",
    "rmse_test=integer(length(lambdas))\n",
    "clfs_lasso <-cv.glmnet(x, y, alpha = 1, lambda = lambdas)"
   ]
  },
  {
   "cell_type": "code",
   "execution_count": 154,
   "metadata": {},
   "outputs": [
    {
     "name": "stdout",
     "output_type": "stream",
     "text": [
      "[1] \"El lambda que da el mínimo rmse es:\"\n"
     ]
    },
    {
     "data": {
      "text/html": [
       "2.77508324224076e-08"
      ],
      "text/latex": [
       "2.77508324224076e-08"
      ],
      "text/markdown": [
       "2.77508324224076e-08"
      ],
      "text/plain": [
       "[1] 2.775083e-08"
      ]
     },
     "metadata": {},
     "output_type": "display_data"
    }
   ],
   "source": [
    "print(\"El lambda que da el mínimo rmse es:\")\n",
    "clfs_lasso$lambda.min"
   ]
  },
  {
   "cell_type": "code",
   "execution_count": 155,
   "metadata": {},
   "outputs": [
    {
     "data": {
      "text/html": [
       "899.710927327029"
      ],
      "text/latex": [
       "899.710927327029"
      ],
      "text/markdown": [
       "899.710927327029"
      ],
      "text/plain": [
       "[1] 899.7109"
      ]
     },
     "metadata": {},
     "output_type": "display_data"
    }
   ],
   "source": [
    "plda=predict(clfs_lasso,newx=data.matrix(x_test),s=\"lambda.min\") # make predictions\n",
    "sqrt(sum((plda-y_test)**2/length(plda)))"
   ]
  },
  {
   "cell_type": "markdown",
   "metadata": {},
   "source": [
    "## Conclusión\n",
    "\n",
    "Se implementaron regresiones lineales, lasso y ridge para el dataset utilizado. Se observó que los resultados son MUY dependientes del valor de la semilla utilizada por lo que no se puede sacar una conclusión categórica. Habría que hacer un análisis estadístico del dataset para ver por qué ocurre esto, pero está mas allá de los alcances del ejercicio."
   ]
  },
  {
   "cell_type": "code",
   "execution_count": null,
   "metadata": {},
   "outputs": [],
   "source": []
  }
 ],
 "metadata": {
  "kernelspec": {
   "display_name": "R",
   "language": "R",
   "name": "ir"
  },
  "language_info": {
   "codemirror_mode": "r",
   "file_extension": ".r",
   "mimetype": "text/x-r-source",
   "name": "R",
   "pygments_lexer": "r",
   "version": "3.5.0"
  }
 },
 "nbformat": 4,
 "nbformat_minor": 2
}
