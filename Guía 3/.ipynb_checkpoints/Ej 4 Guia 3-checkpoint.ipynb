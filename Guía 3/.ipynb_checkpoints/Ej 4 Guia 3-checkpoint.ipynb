{
 "cells": [
  {
   "cell_type": "markdown",
   "metadata": {},
   "source": [
    "# Ejericicio 4 Guía 3\n",
    "\n",
    "Para la base de datos Caravan del data set de ISLR:\n",
    "1. Separando la muestra en 1000 observaciones para el training y el resto para el testing, utilizar\n",
    "el método de Boosting utilizando 1000 árboles, cada uno de dos hojas (stumps).\n",
    "2. Identificar las 3 variables más importantes. Armar un árbol óptimo basado en esas tres\n",
    "variables y comparar el error de validación cruzada con respecto al método anterior."
   ]
  },
  {
   "cell_type": "code",
   "execution_count": 329,
   "metadata": {},
   "outputs": [],
   "source": [
    "library(\"ISLR\")\n",
    "library(\"dplyr\")\n",
    "library(MASS)\n",
    "library(tree)\n",
    "library(glmnet) #para las regresiones Ridge y Lasso\n",
    "data(\"Caravan\")\n",
    "mydata <- Caravan"
   ]
  },
  {
   "cell_type": "code",
   "execution_count": 330,
   "metadata": {},
   "outputs": [
    {
     "data": {
      "text/html": [
       "<table>\n",
       "<thead><tr><th scope=col>MOSTYPE</th><th scope=col>MAANTHUI</th><th scope=col>MGEMOMV</th><th scope=col>MGEMLEEF</th><th scope=col>MOSHOOFD</th><th scope=col>MGODRK</th><th scope=col>MGODPR</th><th scope=col>MGODOV</th><th scope=col>MGODGE</th><th scope=col>MRELGE</th><th scope=col>⋯</th><th scope=col>APERSONG</th><th scope=col>AGEZONG</th><th scope=col>AWAOREG</th><th scope=col>ABRAND</th><th scope=col>AZEILPL</th><th scope=col>APLEZIER</th><th scope=col>AFIETS</th><th scope=col>AINBOED</th><th scope=col>ABYSTAND</th><th scope=col>Purchase</th></tr></thead>\n",
       "<tbody>\n",
       "\t<tr><td>33</td><td>1 </td><td>3 </td><td>2 </td><td> 8</td><td>0 </td><td>5 </td><td>1 </td><td>3 </td><td>7 </td><td>⋯ </td><td>0 </td><td>0 </td><td>0 </td><td>1 </td><td>0 </td><td>0 </td><td>0 </td><td>0 </td><td>0 </td><td>No</td></tr>\n",
       "\t<tr><td>37</td><td>1 </td><td>2 </td><td>2 </td><td> 8</td><td>1 </td><td>4 </td><td>1 </td><td>4 </td><td>6 </td><td>⋯ </td><td>0 </td><td>0 </td><td>0 </td><td>1 </td><td>0 </td><td>0 </td><td>0 </td><td>0 </td><td>0 </td><td>No</td></tr>\n",
       "\t<tr><td>37</td><td>1 </td><td>2 </td><td>2 </td><td> 8</td><td>0 </td><td>4 </td><td>2 </td><td>4 </td><td>3 </td><td>⋯ </td><td>0 </td><td>0 </td><td>0 </td><td>1 </td><td>0 </td><td>0 </td><td>0 </td><td>0 </td><td>0 </td><td>No</td></tr>\n",
       "\t<tr><td> 9</td><td>1 </td><td>3 </td><td>3 </td><td> 3</td><td>2 </td><td>3 </td><td>2 </td><td>4 </td><td>5 </td><td>⋯ </td><td>0 </td><td>0 </td><td>0 </td><td>1 </td><td>0 </td><td>0 </td><td>0 </td><td>0 </td><td>0 </td><td>No</td></tr>\n",
       "\t<tr><td>40</td><td>1 </td><td>4 </td><td>2 </td><td>10</td><td>1 </td><td>4 </td><td>1 </td><td>4 </td><td>7 </td><td>⋯ </td><td>0 </td><td>0 </td><td>0 </td><td>1 </td><td>0 </td><td>0 </td><td>0 </td><td>0 </td><td>0 </td><td>No</td></tr>\n",
       "\t<tr><td>23</td><td>1 </td><td>2 </td><td>1 </td><td> 5</td><td>0 </td><td>5 </td><td>0 </td><td>5 </td><td>0 </td><td>⋯ </td><td>0 </td><td>0 </td><td>0 </td><td>0 </td><td>0 </td><td>0 </td><td>0 </td><td>0 </td><td>0 </td><td>No</td></tr>\n",
       "</tbody>\n",
       "</table>\n"
      ],
      "text/latex": [
       "\\begin{tabular}{r|llllllllllllllllllllllllllllllllllllllllllllllllllllllllllllllllllllllllllllllllllllll}\n",
       " MOSTYPE & MAANTHUI & MGEMOMV & MGEMLEEF & MOSHOOFD & MGODRK & MGODPR & MGODOV & MGODGE & MRELGE & ⋯ & APERSONG & AGEZONG & AWAOREG & ABRAND & AZEILPL & APLEZIER & AFIETS & AINBOED & ABYSTAND & Purchase\\\\\n",
       "\\hline\n",
       "\t 33 & 1  & 3  & 2  &  8 & 0  & 5  & 1  & 3  & 7  & ⋯  & 0  & 0  & 0  & 1  & 0  & 0  & 0  & 0  & 0  & No\\\\\n",
       "\t 37 & 1  & 2  & 2  &  8 & 1  & 4  & 1  & 4  & 6  & ⋯  & 0  & 0  & 0  & 1  & 0  & 0  & 0  & 0  & 0  & No\\\\\n",
       "\t 37 & 1  & 2  & 2  &  8 & 0  & 4  & 2  & 4  & 3  & ⋯  & 0  & 0  & 0  & 1  & 0  & 0  & 0  & 0  & 0  & No\\\\\n",
       "\t  9 & 1  & 3  & 3  &  3 & 2  & 3  & 2  & 4  & 5  & ⋯  & 0  & 0  & 0  & 1  & 0  & 0  & 0  & 0  & 0  & No\\\\\n",
       "\t 40 & 1  & 4  & 2  & 10 & 1  & 4  & 1  & 4  & 7  & ⋯  & 0  & 0  & 0  & 1  & 0  & 0  & 0  & 0  & 0  & No\\\\\n",
       "\t 23 & 1  & 2  & 1  &  5 & 0  & 5  & 0  & 5  & 0  & ⋯  & 0  & 0  & 0  & 0  & 0  & 0  & 0  & 0  & 0  & No\\\\\n",
       "\\end{tabular}\n"
      ],
      "text/markdown": [
       "\n",
       "MOSTYPE | MAANTHUI | MGEMOMV | MGEMLEEF | MOSHOOFD | MGODRK | MGODPR | MGODOV | MGODGE | MRELGE | ⋯ | APERSONG | AGEZONG | AWAOREG | ABRAND | AZEILPL | APLEZIER | AFIETS | AINBOED | ABYSTAND | Purchase | \n",
       "|---|---|---|---|---|---|\n",
       "| 33 | 1  | 3  | 2  |  8 | 0  | 5  | 1  | 3  | 7  | ⋯  | 0  | 0  | 0  | 1  | 0  | 0  | 0  | 0  | 0  | No | \n",
       "| 37 | 1  | 2  | 2  |  8 | 1  | 4  | 1  | 4  | 6  | ⋯  | 0  | 0  | 0  | 1  | 0  | 0  | 0  | 0  | 0  | No | \n",
       "| 37 | 1  | 2  | 2  |  8 | 0  | 4  | 2  | 4  | 3  | ⋯  | 0  | 0  | 0  | 1  | 0  | 0  | 0  | 0  | 0  | No | \n",
       "|  9 | 1  | 3  | 3  |  3 | 2  | 3  | 2  | 4  | 5  | ⋯  | 0  | 0  | 0  | 1  | 0  | 0  | 0  | 0  | 0  | No | \n",
       "| 40 | 1  | 4  | 2  | 10 | 1  | 4  | 1  | 4  | 7  | ⋯  | 0  | 0  | 0  | 1  | 0  | 0  | 0  | 0  | 0  | No | \n",
       "| 23 | 1  | 2  | 1  |  5 | 0  | 5  | 0  | 5  | 0  | ⋯  | 0  | 0  | 0  | 0  | 0  | 0  | 0  | 0  | 0  | No | \n",
       "\n",
       "\n"
      ],
      "text/plain": [
       "  MOSTYPE MAANTHUI MGEMOMV MGEMLEEF MOSHOOFD MGODRK MGODPR MGODOV MGODGE MRELGE\n",
       "1 33      1        3       2         8       0      5      1      3      7     \n",
       "2 37      1        2       2         8       1      4      1      4      6     \n",
       "3 37      1        2       2         8       0      4      2      4      3     \n",
       "4  9      1        3       3         3       2      3      2      4      5     \n",
       "5 40      1        4       2        10       1      4      1      4      7     \n",
       "6 23      1        2       1         5       0      5      0      5      0     \n",
       "  ⋯ APERSONG AGEZONG AWAOREG ABRAND AZEILPL APLEZIER AFIETS AINBOED ABYSTAND\n",
       "1 ⋯ 0        0       0       1      0       0        0      0       0       \n",
       "2 ⋯ 0        0       0       1      0       0        0      0       0       \n",
       "3 ⋯ 0        0       0       1      0       0        0      0       0       \n",
       "4 ⋯ 0        0       0       1      0       0        0      0       0       \n",
       "5 ⋯ 0        0       0       1      0       0        0      0       0       \n",
       "6 ⋯ 0        0       0       0      0       0        0      0       0       \n",
       "  Purchase\n",
       "1 No      \n",
       "2 No      \n",
       "3 No      \n",
       "4 No      \n",
       "5 No      \n",
       "6 No      "
      ]
     },
     "metadata": {},
     "output_type": "display_data"
    }
   ],
   "source": [
    "head(mydata)"
   ]
  },
  {
   "cell_type": "code",
   "execution_count": 331,
   "metadata": {},
   "outputs": [],
   "source": [
    "## Convierto la columna \"Purchase\"\n",
    "mydata=mutate(mydata, Purchase = ifelse(Purchase == \"No\",0,1))\n",
    "# Separo el dataset en tres\n",
    "set.seed(500)\n",
    "data_size=nrow(mydata)\n",
    "mydata <- mydata[sample(nrow(mydata)),]\n",
    "train <- mydata[0:1000,]\n",
    "cv <- mydata[1000:data_size,]"
   ]
  },
  {
   "cell_type": "code",
   "execution_count": 332,
   "metadata": {},
   "outputs": [],
   "source": [
    "library(gbm)\n",
    "boost<-gbm(Purchase~., data=train, distribution = \"bernoulli\",n.trees = 1000, interaction.depth = 1)"
   ]
  },
  {
   "cell_type": "code",
   "execution_count": 333,
   "metadata": {},
   "outputs": [
    {
     "name": "stderr",
     "output_type": "stream",
     "text": [
      "Warning message in pred - cv$Purchase:\n",
      "“longer object length is not a multiple of shorter object length”"
     ]
    }
   ],
   "source": [
    "prob<-predict(boost,newdata = cv, n.trees = 1000)\n",
    "error<-mean((pred-cv$Purchase)^2)"
   ]
  },
  {
   "cell_type": "code",
   "execution_count": 334,
   "metadata": {},
   "outputs": [
    {
     "data": {
      "text/html": [
       "5822"
      ],
      "text/latex": [
       "5822"
      ],
      "text/markdown": [
       "5822"
      ],
      "text/plain": [
       "[1] 5822"
      ]
     },
     "metadata": {},
     "output_type": "display_data"
    }
   ],
   "source": [
    "data_size"
   ]
  },
  {
   "cell_type": "code",
   "execution_count": 335,
   "metadata": {},
   "outputs": [
    {
     "name": "stdout",
     "output_type": "stream",
     "text": [
      "[1] \"El error cuadrático es:\"\n"
     ]
    },
    {
     "data": {
      "text/html": [
       "8.72631059869902"
      ],
      "text/latex": [
       "8.72631059869902"
      ],
      "text/markdown": [
       "8.72631059869902"
      ],
      "text/plain": [
       "[1] 8.726311"
      ]
     },
     "metadata": {},
     "output_type": "display_data"
    }
   ],
   "source": [
    "print(\"El error cuadrático es:\")\n",
    "error"
   ]
  },
  {
   "cell_type": "markdown",
   "metadata": {},
   "source": [
    "## 2)\n",
    "Si bien no es del todo correcto elegir las variables mas importantes mirando la correlación de los predictores con la clase (ya que la correlacíón es lineal y los árboles de decisión son alineales) la utilizaremos para determinar las tres variables mas importantes."
   ]
  },
  {
   "cell_type": "code",
   "execution_count": 336,
   "metadata": {},
   "outputs": [
    {
     "data": {
      "text/html": [
       "<dl class=dl-horizontal>\n",
       "\t<dt>Purchase</dt>\n",
       "\t\t<dd>1</dd>\n",
       "\t<dt>PPERSAUT</dt>\n",
       "\t\t<dd>0.150909714824454</dd>\n",
       "\t<dt>APERSAUT</dt>\n",
       "\t\t<dd>0.144210464452192</dd>\n",
       "\t<dt>APLEZIER</dt>\n",
       "\t\t<dd>0.105699504466039</dd>\n",
       "</dl>\n"
      ],
      "text/latex": [
       "\\begin{description*}\n",
       "\\item[Purchase] 1\n",
       "\\item[PPERSAUT] 0.150909714824454\n",
       "\\item[APERSAUT] 0.144210464452192\n",
       "\\item[APLEZIER] 0.105699504466039\n",
       "\\end{description*}\n"
      ],
      "text/markdown": [
       "Purchase\n",
       ":   1PPERSAUT\n",
       ":   0.150909714824454APERSAUT\n",
       ":   0.144210464452192APLEZIER\n",
       ":   0.105699504466039\n",
       "\n"
      ],
      "text/plain": [
       " Purchase  PPERSAUT  APERSAUT  APLEZIER \n",
       "1.0000000 0.1509097 0.1442105 0.1056995 "
      ]
     },
     "metadata": {},
     "output_type": "display_data"
    }
   ],
   "source": [
    "sort(abs(cor(mydata)[86,]),decreasing=TRUE)[1:4] #Muestra las correlaciones de los predictores con purchase"
   ]
  },
  {
   "cell_type": "code",
   "execution_count": 337,
   "metadata": {},
   "outputs": [],
   "source": [
    "mydata2 <- mydata[,c(\"PPERSAUT\",\"APERSAUT\",\"APLEZIER\",\"Purchase\")]\n",
    "set.seed(500)\n",
    "data_size=nrow(mydata2)\n",
    "mydata2 <- mydata2[sample(nrow(mydata2)),]\n",
    "train <- mydata2[0:1000,]\n",
    "cv <- mydata2[1000:data_size,]"
   ]
  },
  {
   "cell_type": "code",
   "execution_count": 338,
   "metadata": {},
   "outputs": [],
   "source": [
    "arbol<-tree(Purchase~., data=train)"
   ]
  },
  {
   "cell_type": "code",
   "execution_count": 339,
   "metadata": {},
   "outputs": [
    {
     "name": "stderr",
     "output_type": "stream",
     "text": [
      "Warning message in pred - cv$Purchase:\n",
      "“longer object length is not a multiple of shorter object length”"
     ]
    }
   ],
   "source": [
    "prob<-predict(arbol,newdata = cv)\n",
    "error<-mean((pred-cv$Purchase)^2)"
   ]
  },
  {
   "cell_type": "code",
   "execution_count": 340,
   "metadata": {},
   "outputs": [
    {
     "name": "stdout",
     "output_type": "stream",
     "text": [
      "[1] \"El error cuadrático usando un arbol óptimo es:\"\n"
     ]
    },
    {
     "data": {
      "text/html": [
       "8.72549663792311"
      ],
      "text/latex": [
       "8.72549663792311"
      ],
      "text/markdown": [
       "8.72549663792311"
      ],
      "text/plain": [
       "[1] 8.725497"
      ]
     },
     "metadata": {},
     "output_type": "display_data"
    }
   ],
   "source": [
    "print(\"El error cuadrático usando un arbol óptimo es:\")\n",
    "error"
   ]
  },
  {
   "cell_type": "code",
   "execution_count": 341,
   "metadata": {},
   "outputs": [
    {
     "data": {
      "text/html": [
       "<table>\n",
       "<thead><tr><th></th><th scope=col>PPERSAUT</th><th scope=col>APERSAUT</th><th scope=col>APLEZIER</th><th scope=col>Purchase</th></tr></thead>\n",
       "<tbody>\n",
       "\t<tr><th scope=row>5274</th><td>0</td><td>0</td><td>0</td><td>0</td></tr>\n",
       "\t<tr><th scope=row>1358</th><td>0</td><td>0</td><td>0</td><td>0</td></tr>\n",
       "\t<tr><th scope=row>4240</th><td>0</td><td>0</td><td>0</td><td>0</td></tr>\n",
       "\t<tr><th scope=row>297</th><td>6</td><td>1</td><td>0</td><td>0</td></tr>\n",
       "\t<tr><th scope=row>4573</th><td>6</td><td>1</td><td>0</td><td>0</td></tr>\n",
       "\t<tr><th scope=row>2016</th><td>0</td><td>0</td><td>0</td><td>0</td></tr>\n",
       "</tbody>\n",
       "</table>\n"
      ],
      "text/latex": [
       "\\begin{tabular}{r|llll}\n",
       "  & PPERSAUT & APERSAUT & APLEZIER & Purchase\\\\\n",
       "\\hline\n",
       "\t5274 & 0 & 0 & 0 & 0\\\\\n",
       "\t1358 & 0 & 0 & 0 & 0\\\\\n",
       "\t4240 & 0 & 0 & 0 & 0\\\\\n",
       "\t297 & 6 & 1 & 0 & 0\\\\\n",
       "\t4573 & 6 & 1 & 0 & 0\\\\\n",
       "\t2016 & 0 & 0 & 0 & 0\\\\\n",
       "\\end{tabular}\n"
      ],
      "text/markdown": [
       "\n",
       "| <!--/--> | PPERSAUT | APERSAUT | APLEZIER | Purchase | \n",
       "|---|---|---|---|---|---|\n",
       "| 5274 | 0 | 0 | 0 | 0 | \n",
       "| 1358 | 0 | 0 | 0 | 0 | \n",
       "| 4240 | 0 | 0 | 0 | 0 | \n",
       "| 297 | 6 | 1 | 0 | 0 | \n",
       "| 4573 | 6 | 1 | 0 | 0 | \n",
       "| 2016 | 0 | 0 | 0 | 0 | \n",
       "\n",
       "\n"
      ],
      "text/plain": [
       "     PPERSAUT APERSAUT APLEZIER Purchase\n",
       "5274 0        0        0        0       \n",
       "1358 0        0        0        0       \n",
       "4240 0        0        0        0       \n",
       "297  6        1        0        0       \n",
       "4573 6        1        0        0       \n",
       "2016 0        0        0        0       "
      ]
     },
     "metadata": {},
     "output_type": "display_data"
    }
   ],
   "source": [
    "head(cv)"
   ]
  },
  {
   "cell_type": "markdown",
   "metadata": {},
   "source": [
    "El error cuadrático usando un árbol óptimo es aproximadamente igual al error cuadrático usando boosting con un arbol de dos hojas."
   ]
  },
  {
   "cell_type": "code",
   "execution_count": null,
   "metadata": {},
   "outputs": [],
   "source": []
  }
 ],
 "metadata": {
  "kernelspec": {
   "display_name": "R",
   "language": "R",
   "name": "ir"
  },
  "language_info": {
   "codemirror_mode": "r",
   "file_extension": ".r",
   "mimetype": "text/x-r-source",
   "name": "R",
   "pygments_lexer": "r",
   "version": "3.5.0"
  }
 },
 "nbformat": 4,
 "nbformat_minor": 2
}
