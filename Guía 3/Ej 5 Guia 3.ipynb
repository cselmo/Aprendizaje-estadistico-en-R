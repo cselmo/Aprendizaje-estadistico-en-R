{
 "cells": [
  {
   "cell_type": "markdown",
   "metadata": {},
   "source": [
    "# Ejercicio 5 Guia 3\n",
    "\n",
    "Realizar un algoritmo en R que genere un árbol binario de clasificación binaria, para datos con\n",
    "dos predictores. Utilizar como criterio de costo el error de clasificación en cada una de las regiones y\n",
    "como criterio de corte, que haya un mínimo de dos observaciones en cada nodo terminal. Aplicarlo\n",
    "sobre algunos de los datos anteriores (eligiendo) dos predictores solamente.\n",
    "\n",
    "Llamaremos a la cantidad de observaciones mínimas de un cluster, min_obs."
   ]
  },
  {
   "cell_type": "markdown",
   "metadata": {},
   "source": [
    "## Algoritmo\n",
    "\n",
    "1. Se crea un nodo raíz. Se vincularán a este nodo todas las observaciones disponibles.\n",
    "2. Para el nodo  seleccionado y las observaciones vinculadas al nodo:\n",
    "3. Armar una lista de predictores ordenados al azar. La llamaremos pred.  \n",
    "4. Para cada predictor pred[i]:   \n",
    "    4.1 Armar una lista ordenada de valores que puede tomar el predictor pred[i], eiminando las repeticiones. La llamaremos obs[j].  *(Se eliminan las repeticiones ya que no tiene sentido hacer varias veces el mismo procesamiento para el mismo valor)*  \n",
    "    4.2 Para cada valor de obs[j] con j variando desde min_obs+1 hasta length(obs)-min_obs: *Estos límites se toman para cumplir con la condición de cantidad mínima de observaciones, se puede hacer que j varíe linealmente entre esos límites, o se puede pasar por todos los valores de j propuestos en orden aleatorio. Esto hace que se puedan tener distintos árboles para cada corrida sin alterar la esencia del algoritmo*  \n",
    "       4.2.1 Calcular el error suponiendo que las observaciones para las que pred[i] sea menor a $(obs[j-1] + obs[j])/2$ pertenecen a la clase 1 y las observaciones para las que pred[i] sea mayor a $(obs[j-1] + obs[j])/2$ pertenecen a la clase 2.  \n",
    "       4.2.2 Calcular el error suponiendo que las observaciones para las que pred[i] sea menor a $(obs[j-1] + obs[j])/2$ pertenecen a la clase 2 y las observaciones para las que pred[i] sea mayor a $(obs[j-1] + obs[j])/2$ pertenecen a la clase 1.  \n",
    "   4.3 Quedarse con el caso de menor error de los dos puntos anteriores calculados para todos los pred[i]. Si salió de 4.2.1 definiremos clase1L=TRUE si salió de 4.2.2 definiremos clase1L=FALSE. Definiremos errorL como el error de clasificación para el cluster cuyas observaciones están por debajo del umbral y errorR como el error de clasificación para el cluster cuyas observaciones están por encima del umbral. ($umbral=(obs[j-1] + obs[j])/2$, para la combinación i,j de menor costo). Definiremos también best_pred como el predictor pred[i] para el cual se cumplió la condición de mínimo error. Definiremos cantL como la cantidad de observaciones obsL que quedaron por debajo del umbral y cantR como la cantidad de observaciones obsR que quedaron por encima del umbral.   \n",
    "   4.4 Para el nodo que se está procesando se asocia la condición \"Si pred[i] < umbral\" y se crean dos nodos hijo, uno para la condición=verdadera y otro para la condición=falsa. Los llamaremos nodoL y nodoR respectivamente.  \n",
    "   4.5 Si errorL=0 o cantL=min_obs:  \n",
    "   - nodoL es una hoja y su valor es clase1 si clase1L=TRUE o clase2 si clase1L=FALSE. \n",
    "   - Caso contrario se selecciona el nodoL con las observaciones obsL y se empieza a correr otra instancia del algoritmo desde el punto 2. Cuando termine la ejecución de ese algoritmo se volverá a este punto.\n",
    "   4.6 Si errorR=0 o cantR=min_obs:  \n",
    "   - nodoR es una hoja y su valor es clase2 si clase1L=TRUE o clase1 si clase1L=FALSE. \n",
    "   - Caso contrario se selecciona el nodoR con las observaciones obsR y se empieza a correr otra instancia del algoritmo desde el punto 2. Cuando termine la ejecución de ese algoritmo se volverá a este punto.\n",
    "5. Fin del algoritmo\n",
    "   \n",
    "## Implementación del árbol como estructura de datos\n",
    "\n",
    "El árbol se guardará en un dataframe con las siguientes columnas: \n",
    "\n",
    "- id: id del nodo\n",
    "- parent: id del nodo padre (-1 para el raíz)\n",
    "- left_child: id del hijo izquierdo\n",
    "- right_child: id del hijo derecho\n",
    "- predictor: en el caso de que no sea una hoja (o nodo terminal), qué predictor se usará para hacer la comparación.\n",
    "- threshold: el valor de umbral contra el que se comparará el predictor correspondiente a cada observación, para elegir al hijo en el procedimiento de decisión\n",
    "- leaf: TRUE si es hoja, FALSE si tiene hijos.\n",
    "- class: si es hoja, qué clase se debe devolver cuando se llega a este nodo.\n",
    "\n",
    "Para operar con el árbol se definen las siguientes funciones:\n",
    "\n",
    "* create_tree(): crea un árbol. Devuelve una estructura *out* con los siguientes elementos:\n",
    " * out\\$next_id: próximo id a utilizar cuando se cree un nodo  \n",
    " * out\\$nodes: cantidad de nodos del árbol  \n",
    " * out\\$tree: dataframe con el árbol  \n",
    "\n",
    "* add_root(tree): crea el nodo raíz. Recibe una estructura igual a la que devuelve create_tree, devuelve la estructura actualizada.\n",
    "\n",
    "* add_sons(tree,parent_id): crea dos hijos para el nodo parent_id. Recibe una estructura igual a la que devuelve create_tree, devuelve la estructura actualizada.\n",
    "\n",
    "* edit_node(tree,node_id,predictor,threshold,class): actualiza los valores predictor, threshold y class para el nodo node_id. Recibe una estructura igual a la que devuelve create_tree, mas los valores de predictor, threshold y class. Devuelve la estructura actualizada.\n",
    "\n",
    "A continuación, la implementación del árbol:"
   ]
  },
  {
   "cell_type": "code",
   "execution_count": 1,
   "metadata": {},
   "outputs": [],
   "source": [
    "create_tree <- function(){\n",
    "    tree=data.frame(\"id\"=integer(), \"parent\"=integer(),\"left_child\"=integer(), \"right_child\"=integer(), \"predictor\"=integer(),\"threshold\"=double(), \"leaf\"=logical(), \"class\"=double())\n",
    "    next_id=0\n",
    "    nodes=0\n",
    "    return(list(tree=tree,next_id=next_id,nodes=nodes))\n",
    "}\n",
    "\n",
    "add_root <- function(tree){\n",
    "    if(tree$nodes==0){\n",
    "        tree$tree=rbind(tree$tree,list(\"id\"=tree$next_id,\"parent\"=-1,\"left_child\"=-1,\"right_child\"=-1,\"predictor\"=-1,\"threshold\"=0,leaf=TRUE,class=-1))\n",
    "    } else {\n",
    "        print(\"Tree must be empty\")\n",
    "    }\n",
    "    #print(tree$tree)\n",
    "    tree$next_id=tree$next_id+1\n",
    "    tree$nodes=tree$nodes+1\n",
    "    return(tree)\n",
    "}\n",
    "\n",
    "add_sons <- function(tree,parent_id){\n",
    "    tree$tree=rbind(tree$tree,list(\"id\"=tree$next_id,\"parent\"=parent_id,\"left_child\"=-1,\"right_child\"=-1,\"predictor\"=-1,\"threshold\"=0,leaf=TRUE,class=-1))\n",
    "    tree$tree[tree$tree[\"id\"]==parent_id,][\"left_child\"]=tree$next_id\n",
    "    tree$next_id=tree$next_id+1\n",
    "    tree$tree=rbind(tree$tree,list(\"id\"=tree$next_id,\"parent\"=parent_id,\"left_child\"=-1,\"right_child\"=-1,\"predictor\"=-1,\"threshold\"=0,leaf=TRUE,class=-1))\n",
    "    tree$tree[tree$tree[\"id\"]==parent_id,][\"right_child\"]=tree$next_id\n",
    "    tree$next_id=tree$next_id+1\n",
    "    tree$tree[tree$tree[\"id\"]==parent_id,][\"leaf\"]=FALSE\n",
    "    tree$nodes=tree$nodes+2\n",
    "    return(tree)\n",
    "}\n",
    "\n",
    "edit_node <- function(tree,node_id,predictor=-1,threshold=-1,class=-1){\n",
    "    tree$tree[tree$tree[\"id\"]==node_id,][\"predictor\"]=predictor\n",
    "    tree$tree[tree$tree[\"id\"]==node_id,][\"threshold\"]=threshold\n",
    "    tree$tree[tree$tree[\"id\"]==node_id,][\"class\"]=class\n",
    "    return(tree)\n",
    "}"
   ]
  },
  {
   "cell_type": "markdown",
   "metadata": {},
   "source": [
    "### Pruebas del árbol definido"
   ]
  },
  {
   "cell_type": "code",
   "execution_count": 2,
   "metadata": {},
   "outputs": [
    {
     "data": {
      "text/html": [
       "<dl>\n",
       "\t<dt>$tree</dt>\n",
       "\t\t<dd><table>\n",
       "<thead><tr><th scope=col>id</th><th scope=col>parent</th><th scope=col>left_child</th><th scope=col>right_child</th><th scope=col>predictor</th><th scope=col>threshold</th><th scope=col>leaf</th><th scope=col>class</th></tr></thead>\n",
       "<tbody>\n",
       "</tbody>\n",
       "</table>\n",
       "</dd>\n",
       "\t<dt>$next_id</dt>\n",
       "\t\t<dd>0</dd>\n",
       "\t<dt>$nodes</dt>\n",
       "\t\t<dd>0</dd>\n",
       "</dl>\n"
      ],
      "text/latex": [
       "\\begin{description}\n",
       "\\item[\\$tree] \\begin{tabular}{r|llllllll}\n",
       " id & parent & left\\_child & right\\_child & predictor & threshold & leaf & class\\\\\n",
       "\\hline\n",
       "\\end{tabular}\n",
       "\n",
       "\\item[\\$next\\_id] 0\n",
       "\\item[\\$nodes] 0\n",
       "\\end{description}\n"
      ],
      "text/markdown": [
       "$tree\n",
       ":   \n",
       "id | parent | left_child | right_child | predictor | threshold | leaf | class | \n",
       "||\n",
       "\n",
       "\n",
       "\n",
       "$next_id\n",
       ":   0\n",
       "$nodes\n",
       ":   0\n",
       "\n",
       "\n"
      ],
      "text/plain": [
       "$tree\n",
       "[1] id          parent      left_child  right_child predictor   threshold  \n",
       "[7] leaf        class      \n",
       "<0 rows> (or 0-length row.names)\n",
       "\n",
       "$next_id\n",
       "[1] 0\n",
       "\n",
       "$nodes\n",
       "[1] 0\n"
      ]
     },
     "metadata": {},
     "output_type": "display_data"
    }
   ],
   "source": [
    "# Creo un árbol\n",
    "arbol=create_tree()\n",
    "arbol"
   ]
  },
  {
   "cell_type": "code",
   "execution_count": 3,
   "metadata": {},
   "outputs": [
    {
     "data": {
      "text/html": [
       "<dl>\n",
       "\t<dt>$tree</dt>\n",
       "\t\t<dd><table>\n",
       "<thead><tr><th scope=col>id</th><th scope=col>parent</th><th scope=col>left_child</th><th scope=col>right_child</th><th scope=col>predictor</th><th scope=col>threshold</th><th scope=col>leaf</th><th scope=col>class</th></tr></thead>\n",
       "<tbody>\n",
       "\t<tr><td>0   </td><td>-1  </td><td>-1  </td><td>-1  </td><td>-1  </td><td>0   </td><td>TRUE</td><td>-1  </td></tr>\n",
       "</tbody>\n",
       "</table>\n",
       "</dd>\n",
       "\t<dt>$next_id</dt>\n",
       "\t\t<dd>1</dd>\n",
       "\t<dt>$nodes</dt>\n",
       "\t\t<dd>1</dd>\n",
       "</dl>\n"
      ],
      "text/latex": [
       "\\begin{description}\n",
       "\\item[\\$tree] \\begin{tabular}{r|llllllll}\n",
       " id & parent & left\\_child & right\\_child & predictor & threshold & leaf & class\\\\\n",
       "\\hline\n",
       "\t 0    & -1   & -1   & -1   & -1   & 0    & TRUE & -1  \\\\\n",
       "\\end{tabular}\n",
       "\n",
       "\\item[\\$next\\_id] 1\n",
       "\\item[\\$nodes] 1\n",
       "\\end{description}\n"
      ],
      "text/markdown": [
       "$tree\n",
       ":   \n",
       "id | parent | left_child | right_child | predictor | threshold | leaf | class | \n",
       "|---|\n",
       "| 0    | -1   | -1   | -1   | -1   | 0    | TRUE | -1   | \n",
       "\n",
       "\n",
       "\n",
       "$next_id\n",
       ":   1\n",
       "$nodes\n",
       ":   1\n",
       "\n",
       "\n"
      ],
      "text/plain": [
       "$tree\n",
       "  id parent left_child right_child predictor threshold leaf class\n",
       "1  0     -1         -1          -1        -1         0 TRUE    -1\n",
       "\n",
       "$next_id\n",
       "[1] 1\n",
       "\n",
       "$nodes\n",
       "[1] 1\n"
      ]
     },
     "metadata": {},
     "output_type": "display_data"
    }
   ],
   "source": [
    "# Agrego el nodo raíz\n",
    "arbol=add_root(arbol)\n",
    "arbol"
   ]
  },
  {
   "cell_type": "code",
   "execution_count": 4,
   "metadata": {},
   "outputs": [
    {
     "data": {
      "text/html": [
       "<dl>\n",
       "\t<dt>$tree</dt>\n",
       "\t\t<dd><table>\n",
       "<thead><tr><th scope=col>id</th><th scope=col>parent</th><th scope=col>left_child</th><th scope=col>right_child</th><th scope=col>predictor</th><th scope=col>threshold</th><th scope=col>leaf</th><th scope=col>class</th></tr></thead>\n",
       "<tbody>\n",
       "\t<tr><td>0    </td><td>-1   </td><td> 1   </td><td> 2   </td><td>-1   </td><td>0    </td><td>FALSE</td><td>-1   </td></tr>\n",
       "\t<tr><td>1    </td><td> 0   </td><td>-1   </td><td>-1   </td><td>-1   </td><td>0    </td><td> TRUE</td><td>-1   </td></tr>\n",
       "\t<tr><td>2    </td><td> 0   </td><td>-1   </td><td>-1   </td><td>-1   </td><td>0    </td><td> TRUE</td><td>-1   </td></tr>\n",
       "</tbody>\n",
       "</table>\n",
       "</dd>\n",
       "\t<dt>$next_id</dt>\n",
       "\t\t<dd>3</dd>\n",
       "\t<dt>$nodes</dt>\n",
       "\t\t<dd>3</dd>\n",
       "</dl>\n"
      ],
      "text/latex": [
       "\\begin{description}\n",
       "\\item[\\$tree] \\begin{tabular}{r|llllllll}\n",
       " id & parent & left\\_child & right\\_child & predictor & threshold & leaf & class\\\\\n",
       "\\hline\n",
       "\t 0     & -1    &  1    &  2    & -1    & 0     & FALSE & -1   \\\\\n",
       "\t 1     &  0    & -1    & -1    & -1    & 0     &  TRUE & -1   \\\\\n",
       "\t 2     &  0    & -1    & -1    & -1    & 0     &  TRUE & -1   \\\\\n",
       "\\end{tabular}\n",
       "\n",
       "\\item[\\$next\\_id] 3\n",
       "\\item[\\$nodes] 3\n",
       "\\end{description}\n"
      ],
      "text/markdown": [
       "$tree\n",
       ":   \n",
       "id | parent | left_child | right_child | predictor | threshold | leaf | class | \n",
       "|---|---|---|\n",
       "| 0     | -1    |  1    |  2    | -1    | 0     | FALSE | -1    | \n",
       "| 1     |  0    | -1    | -1    | -1    | 0     |  TRUE | -1    | \n",
       "| 2     |  0    | -1    | -1    | -1    | 0     |  TRUE | -1    | \n",
       "\n",
       "\n",
       "\n",
       "$next_id\n",
       ":   3\n",
       "$nodes\n",
       ":   3\n",
       "\n",
       "\n"
      ],
      "text/plain": [
       "$tree\n",
       "  id parent left_child right_child predictor threshold  leaf class\n",
       "1  0     -1          1           2        -1         0 FALSE    -1\n",
       "2  1      0         -1          -1        -1         0  TRUE    -1\n",
       "3  2      0         -1          -1        -1         0  TRUE    -1\n",
       "\n",
       "$next_id\n",
       "[1] 3\n",
       "\n",
       "$nodes\n",
       "[1] 3\n"
      ]
     },
     "metadata": {},
     "output_type": "display_data"
    }
   ],
   "source": [
    "# Creo dos hijos para el nodo raíz\n",
    "arbol=add_sons(arbol,0)\n",
    "arbol"
   ]
  },
  {
   "cell_type": "code",
   "execution_count": 5,
   "metadata": {},
   "outputs": [
    {
     "data": {
      "text/html": [
       "<dl>\n",
       "\t<dt>$tree</dt>\n",
       "\t\t<dd><table>\n",
       "<thead><tr><th scope=col>id</th><th scope=col>parent</th><th scope=col>left_child</th><th scope=col>right_child</th><th scope=col>predictor</th><th scope=col>threshold</th><th scope=col>leaf</th><th scope=col>class</th></tr></thead>\n",
       "<tbody>\n",
       "\t<tr><td>0    </td><td>-1   </td><td> 1   </td><td> 2   </td><td>-1   </td><td>0    </td><td>FALSE</td><td>-1   </td></tr>\n",
       "\t<tr><td>1    </td><td> 0   </td><td>-1   </td><td>-1   </td><td>-1   </td><td>0    </td><td> TRUE</td><td>-1   </td></tr>\n",
       "\t<tr><td>2    </td><td> 0   </td><td>-1   </td><td>-1   </td><td> 4   </td><td>5    </td><td> TRUE</td><td> 2   </td></tr>\n",
       "</tbody>\n",
       "</table>\n",
       "</dd>\n",
       "\t<dt>$next_id</dt>\n",
       "\t\t<dd>3</dd>\n",
       "\t<dt>$nodes</dt>\n",
       "\t\t<dd>3</dd>\n",
       "</dl>\n"
      ],
      "text/latex": [
       "\\begin{description}\n",
       "\\item[\\$tree] \\begin{tabular}{r|llllllll}\n",
       " id & parent & left\\_child & right\\_child & predictor & threshold & leaf & class\\\\\n",
       "\\hline\n",
       "\t 0     & -1    &  1    &  2    & -1    & 0     & FALSE & -1   \\\\\n",
       "\t 1     &  0    & -1    & -1    & -1    & 0     &  TRUE & -1   \\\\\n",
       "\t 2     &  0    & -1    & -1    &  4    & 5     &  TRUE &  2   \\\\\n",
       "\\end{tabular}\n",
       "\n",
       "\\item[\\$next\\_id] 3\n",
       "\\item[\\$nodes] 3\n",
       "\\end{description}\n"
      ],
      "text/markdown": [
       "$tree\n",
       ":   \n",
       "id | parent | left_child | right_child | predictor | threshold | leaf | class | \n",
       "|---|---|---|\n",
       "| 0     | -1    |  1    |  2    | -1    | 0     | FALSE | -1    | \n",
       "| 1     |  0    | -1    | -1    | -1    | 0     |  TRUE | -1    | \n",
       "| 2     |  0    | -1    | -1    |  4    | 5     |  TRUE |  2    | \n",
       "\n",
       "\n",
       "\n",
       "$next_id\n",
       ":   3\n",
       "$nodes\n",
       ":   3\n",
       "\n",
       "\n"
      ],
      "text/plain": [
       "$tree\n",
       "  id parent left_child right_child predictor threshold  leaf class\n",
       "1  0     -1          1           2        -1         0 FALSE    -1\n",
       "2  1      0         -1          -1        -1         0  TRUE    -1\n",
       "3  2      0         -1          -1         4         5  TRUE     2\n",
       "\n",
       "$next_id\n",
       "[1] 3\n",
       "\n",
       "$nodes\n",
       "[1] 3\n"
      ]
     },
     "metadata": {},
     "output_type": "display_data"
    }
   ],
   "source": [
    "# Modifico los valores de predictor, threshold y class para el nodo 2\n",
    "arbol=edit_node(arbol,2,4,5,2)\n",
    "arbol"
   ]
  },
  {
   "cell_type": "code",
   "execution_count": 6,
   "metadata": {},
   "outputs": [
    {
     "data": {
      "text/html": [
       "<dl>\n",
       "\t<dt>$tree</dt>\n",
       "\t\t<dd><table>\n",
       "<thead><tr><th scope=col>id</th><th scope=col>parent</th><th scope=col>left_child</th><th scope=col>right_child</th><th scope=col>predictor</th><th scope=col>threshold</th><th scope=col>leaf</th><th scope=col>class</th></tr></thead>\n",
       "<tbody>\n",
       "\t<tr><td>0    </td><td>-1   </td><td> 1   </td><td> 2   </td><td>-1   </td><td>0    </td><td>FALSE</td><td>-1   </td></tr>\n",
       "\t<tr><td>1    </td><td> 0   </td><td>-1   </td><td>-1   </td><td>-1   </td><td>0    </td><td> TRUE</td><td>-1   </td></tr>\n",
       "\t<tr><td>2    </td><td> 0   </td><td> 3   </td><td> 4   </td><td> 4   </td><td>5    </td><td>FALSE</td><td> 2   </td></tr>\n",
       "\t<tr><td>3    </td><td> 2   </td><td>-1   </td><td>-1   </td><td>-1   </td><td>0    </td><td> TRUE</td><td>-1   </td></tr>\n",
       "\t<tr><td>4    </td><td> 2   </td><td>-1   </td><td>-1   </td><td>-1   </td><td>0    </td><td> TRUE</td><td>-1   </td></tr>\n",
       "</tbody>\n",
       "</table>\n",
       "</dd>\n",
       "\t<dt>$next_id</dt>\n",
       "\t\t<dd>5</dd>\n",
       "\t<dt>$nodes</dt>\n",
       "\t\t<dd>5</dd>\n",
       "</dl>\n"
      ],
      "text/latex": [
       "\\begin{description}\n",
       "\\item[\\$tree] \\begin{tabular}{r|llllllll}\n",
       " id & parent & left\\_child & right\\_child & predictor & threshold & leaf & class\\\\\n",
       "\\hline\n",
       "\t 0     & -1    &  1    &  2    & -1    & 0     & FALSE & -1   \\\\\n",
       "\t 1     &  0    & -1    & -1    & -1    & 0     &  TRUE & -1   \\\\\n",
       "\t 2     &  0    &  3    &  4    &  4    & 5     & FALSE &  2   \\\\\n",
       "\t 3     &  2    & -1    & -1    & -1    & 0     &  TRUE & -1   \\\\\n",
       "\t 4     &  2    & -1    & -1    & -1    & 0     &  TRUE & -1   \\\\\n",
       "\\end{tabular}\n",
       "\n",
       "\\item[\\$next\\_id] 5\n",
       "\\item[\\$nodes] 5\n",
       "\\end{description}\n"
      ],
      "text/markdown": [
       "$tree\n",
       ":   \n",
       "id | parent | left_child | right_child | predictor | threshold | leaf | class | \n",
       "|---|---|---|---|---|\n",
       "| 0     | -1    |  1    |  2    | -1    | 0     | FALSE | -1    | \n",
       "| 1     |  0    | -1    | -1    | -1    | 0     |  TRUE | -1    | \n",
       "| 2     |  0    |  3    |  4    |  4    | 5     | FALSE |  2    | \n",
       "| 3     |  2    | -1    | -1    | -1    | 0     |  TRUE | -1    | \n",
       "| 4     |  2    | -1    | -1    | -1    | 0     |  TRUE | -1    | \n",
       "\n",
       "\n",
       "\n",
       "$next_id\n",
       ":   5\n",
       "$nodes\n",
       ":   5\n",
       "\n",
       "\n"
      ],
      "text/plain": [
       "$tree\n",
       "  id parent left_child right_child predictor threshold  leaf class\n",
       "1  0     -1          1           2        -1         0 FALSE    -1\n",
       "2  1      0         -1          -1        -1         0  TRUE    -1\n",
       "3  2      0          3           4         4         5 FALSE     2\n",
       "4  3      2         -1          -1        -1         0  TRUE    -1\n",
       "5  4      2         -1          -1        -1         0  TRUE    -1\n",
       "\n",
       "$next_id\n",
       "[1] 5\n",
       "\n",
       "$nodes\n",
       "[1] 5\n"
      ]
     },
     "metadata": {},
     "output_type": "display_data"
    }
   ],
   "source": [
    "# Creo dos hijos para el nodo dos\n",
    "arbol=add_sons(arbol,2)\n",
    "arbol"
   ]
  },
  {
   "cell_type": "markdown",
   "metadata": {},
   "source": [
    "## Implementación del algoritmo\n",
    "\n",
    "Para implementar el árbol de decisiones se utilizarán funciones recurrentes. La naturaleza recurrente del algoritmo está explícita en el punto 4.5 detallado anteriormente.\n",
    "\n",
    "Las funciones que se implementarán serán:\n",
    "\n",
    "* get_part(x,target,min_obs,clase1, clase2): recibe un conjunto de observaciones, el nombre de la columna de target (con las clases) y la cantidad de observaciones mínimas por nodo. También recibe los elementos que define a las clases 1 y 2. Devuelve una estructura out cuyos elementos son:\n",
    " * out\\$pred: predictor que se utilizará para dividr las observaciones en dos subconjuntos. Es el pred[i] mencionado en el punto 4.4.\n",
    " * out\\$val: valor de  umbral contra el que se comparará pred[i]. Es el umbral mencionado en el punto 4.4\n",
    " * out\\$class1L: TRUE si la clase 1 queda por debajo del umbral, FALSE caso contrario, según lo especificado en el punto 4.3\n",
    " * out\\$errorL: errorL definido en el punto 4.3 del algoritmo.\n",
    " * out\\$errorR: errorR definido en el punto 4.3 del algoritmo.\n",
    " * out\\$cantL: cantidad de observaciones que quedan por debajo del umbral\n",
    " * out\\$cantR: cantidad de observaciones que quedan por encima del umbral"
   ]
  },
  {
   "cell_type": "code",
   "execution_count": 7,
   "metadata": {},
   "outputs": [],
   "source": [
    "get_part <- function(x,target,min_obs,clase1,clase2) {\n",
    "    n_preds=ncol(x)-1\n",
    "    n_obs=nrow(x)\n",
    "    pred_cut=0\n",
    "    pred_val=0\n",
    "    error=100000000\n",
    "    errorL=0\n",
    "    errorR=0\n",
    "    cantL=0\n",
    "    cantR=0\n",
    "    finR=FALSE\n",
    "    finL=FALSE\n",
    "    class1L=TRUE\n",
    "    for (pred in sample(n_preds)){ #Implementa los puntos 3 ,4 y 4.1 del algoritmo\n",
    "        x_aux=unique(x[pred]) #Implementa el punto 4.2\n",
    "        x_aux=x_aux[order(x_aux),]\n",
    "        for (idx in sample(length(x_aux)-1)) { #Implementa el punto 4.2 \n",
    "            umb=0.5*(x_aux[idx]+x_aux[idx+1])\n",
    "            sel=(x[pred]<umb)\n",
    "            cantL_aux=nrow(x[sel,]) # cuántas observaciones quedaron por debajo del umbral\n",
    "            cantR_aux=nrow(x[!sel,]) # cuántas observaciones quedaron igual o por encima del umbral\n",
    "            if(cantL_aux>=min_obs & cantR_aux>=min_obs){\n",
    "                errorL_aux=sum(x[target][sel,]==clase2) #Pruebo clasificando la clase1 debajo del umbral y clase2 igual o por encima\n",
    "                errorR_aux=sum(x[target][!sel,]==clase1)\n",
    "                aux_error=errorL_aux+errorR_aux\n",
    "                if(aux_error < error) { #si el error obtenido para esta clasificación es menor que el mínimo guardado, actualizo los parámetros\n",
    "                    pred_cut=pred\n",
    "                    pred_val=umb\n",
    "                    class1L=TRUE\n",
    "                    error=aux_error\n",
    "                    errorL=errorL_aux\n",
    "                    errorR=errorR_aux\n",
    "                    cantR=cantR_aux\n",
    "                    cantL=cantL_aux\n",
    "                }\n",
    "                errorL_aux=sum(x[target][sel,]==clase1) #Pruebo clasificando la clase2 debajo del umbral y clase1 igual o por encima\n",
    "                errorR_aux=sum(x[target][!sel,]==clase2)\n",
    "                aux_error=errorL_aux+errorR_aux\n",
    "                if(aux_error<error) { #si el error obtenido para esta clasificación es menor que el mínimo guardado, actualizo los parámetros\n",
    "                    pred_cut=pred\n",
    "                    pred_val=umb\n",
    "                    class1L=FALSE\n",
    "                    error=aux_error\n",
    "                    errorL=errorL_aux\n",
    "                    errorR=errorR_aux\n",
    "                    cantR=cantR_aux\n",
    "                    cantL=cantL_aux\n",
    "                }\n",
    "\n",
    "            }\n",
    "        }\n",
    "    }\n",
    "    if(cantR==min_obs || errorR==0){    #Si están todos correctamente clasificados, o el cluster tiene la mínima cantidad de observaciones, \n",
    "                                        #el nodo derecho no requiere mas procesamiento\n",
    "        finR=TRUE\n",
    "    }\n",
    "    if(cantL==min_obs || errorL==0){    #Si están todos correctamente clasificados, o el cluster tiene la mínima cantidad de observaciones, \n",
    "                                        #el nodo izquierdo no requiere mas procesamiento\n",
    "        finL=TRUE\n",
    "    }\n",
    "    return(list(pred=pred_cut,umb=pred_val,left=class1L,errorR=errorR,errorL=errorL,cantL=cantL,cantR=cantR,finL=finL,finR=finR))\n",
    "}"
   ]
  },
  {
   "cell_type": "code",
   "execution_count": 8,
   "metadata": {},
   "outputs": [
    {
     "name": "stdout",
     "output_type": "stream",
     "text": [
      "Se debe hacer una división con pred1<-0.5 --> TRUE.\n",
      "Eso deja  0 mal clasificados a izquierda y 2 mal clasificados a derecha."
     ]
    },
    {
     "data": {
      "image/png": "[encoded data removed]",
      "text/plain": [
       "plot without title"
      ]
     },
     "metadata": {},
     "output_type": "display_data"
    }
   ],
   "source": [
    "# Pruebas\n",
    "\n",
    "min_obs=2\n",
    "clase1=\"verde\"\n",
    "clase2=\"rojo\"\n",
    "\n",
    "# Dataframe de prueba para probar las funciones\n",
    "x=data.frame(\"pred1\"=c(1,4,4,4,3,2,7,5),\"pred2\"=c(-3,-4,5,8,13,2,2,7),\"color\"=c(\"verde\",\"verde\",\"rojo\",\"rojo\",\"verde\",\"rojo\",\"rojo\",\"verde\"))\n",
    "plot(x$pred1,x$pred2, col=c(\"red\",\"green\")[x$color],\n",
    "     xlab = 'Pred1', ylab = 'Pred2', pch = 19)\n",
    "grid()\n",
    "\n",
    "#Se prueba la función que busca la partición de menor error\n",
    "alpha=get_part(x,\"color\",min_obs,clase1,clase2)\n",
    "\n",
    "cat(\"Se debe hacer una división con \",colnames(x)[1],\"<\", alpha$umb,\" --> \",alpha$left,\".\",sep=\"\")\n",
    "cat(\"\\nEso deja \",alpha$errorL,\"mal clasificados a izquierda y\",alpha$errorR,\"mal clasificados a derecha.\")"
   ]
  },
  {
   "cell_type": "markdown",
   "metadata": {},
   "source": [
    "Se implementará la función:\n",
    "\n",
    "* recurr_arbol(tree, x, target,min_obs,clase1, clase2): recibe un nodo, un dataframe con los datos, el nombre de la columna con las clases de destino, la cantidad mínima de observaciones por cluster y los elemenos que definen las clases 1 y 2. Devuelve una estructura de datos out cuyos elementos son:\n",
    "\n",
    " * out\\$next_id: próximo id a utilizar cuando se cree un nodo  \n",
    " * out\\$nodes: cantidad de nodos del árbol  \n",
    " * out\\$tree: dataframe con el árbol\n",
    " \n",
    "los cuales representan un arbol entrenado. La función implementa la etapa recursiva del algoritmo anteriormente presentado.\n"
   ]
  },
  {
   "cell_type": "code",
   "execution_count": 9,
   "metadata": {},
   "outputs": [],
   "source": [
    "recurr_arbol <- function(x, target,min_obs,clase1, clase2){\n",
    "    alfa=get_part(x, target,min_obs,clase1, clase2)\n",
    "    cat(\"Se debe hacer una división con \",colnames(x)[1],\"<\", alfa$umb,\" --> \",alfa$left,\".\",sep=\"\")\n",
    "    cat(\"\\nEso deja \",alfa$errorL,\"mal clasificados a izquierda y\",alfa$errorR,\"mal clasificados a derecha.\\n\")\n",
    "    sel=(x[alfa$pred]<alfa$umb)\n",
    "    if(alfa$finL==FALSE){\n",
    "        sub_arbolL=x[sel,]\n",
    "        recurr_arbol(sub_arbolL,target,min_obs,clase1,clase2)\n",
    "    }\n",
    "    if(alfa$finR==FALSE){\n",
    "        sub_arbolR=x[!sel,]\n",
    "        recurr_arbol(sub_arbolR,target,min_obs,clase1,clase2)\n",
    "    }\n",
    "}"
   ]
  },
  {
   "cell_type": "code",
   "execution_count": 10,
   "metadata": {},
   "outputs": [
    {
     "name": "stdout",
     "output_type": "stream",
     "text": [
      "Se debe hacer una división con pred1<-0.5 --> TRUE.\n",
      "Eso deja  0 mal clasificados a izquierda y 2 mal clasificados a derecha.\n",
      "Se debe hacer una división con pred1<6 --> FALSE.\n",
      "Eso deja  0 mal clasificados a izquierda y 1 mal clasificados a derecha.\n",
      "Se debe hacer una división con pred1<0 --> TRUE.\n",
      "Eso deja  0 mal clasificados a izquierda y 0 mal clasificados a derecha.\n"
     ]
    },
    {
     "data": {
      "image/png": "[encoded data removed]",
      "text/plain": [
       "plot without title"
      ]
     },
     "metadata": {},
     "output_type": "display_data"
    }
   ],
   "source": [
    "# Se hace una prueba sobre recurr_arbol. Cabe aclarar que el texto presentado no alcanza para construir el arbol en su totalidad.\n",
    "plot(x$pred1,x$pred2, col=c(\"red\",\"green\")[x$color],\n",
    "     xlab = 'Pred1', ylab = 'Pred2', pch = 19)\n",
    "grid()\n",
    "recurr_arbol(x,\"color\",2,\"verde\",\"rojo\")"
   ]
  },
  {
   "cell_type": "markdown",
   "metadata": {},
   "source": [
    "En principio en R no se pueden pasar referencias (ver https://stackoverflow.com/questions/2603184/can-you-pass-by-reference-in-r) lo cual hace que el manejo de la memoria pasando el arbol en cada llamado de recurrencia sea muy ineficiente. Por ello, se va a definir un arbol de forma global, y se modificarán las funciones para que vayan modificando el árbol. De esta forma se evita hacer muchas copias del mismo."
   ]
  },
  {
   "cell_type": "code",
   "execution_count": 11,
   "metadata": {},
   "outputs": [
    {
     "data": {
      "text/html": [
       "<dl>\n",
       "\t<dt>$tree</dt>\n",
       "\t\t<dd><table>\n",
       "<thead><tr><th scope=col>id</th><th scope=col>parent</th><th scope=col>left_child</th><th scope=col>right_child</th><th scope=col>predictor</th><th scope=col>threshold</th><th scope=col>leaf</th><th scope=col>class</th></tr></thead>\n",
       "<tbody>\n",
       "</tbody>\n",
       "</table>\n",
       "</dd>\n",
       "\t<dt>$next_id</dt>\n",
       "\t\t<dd>0</dd>\n",
       "\t<dt>$nodes</dt>\n",
       "\t\t<dd>0</dd>\n",
       "</dl>\n"
      ],
      "text/latex": [
       "\\begin{description}\n",
       "\\item[\\$tree] \\begin{tabular}{r|llllllll}\n",
       " id & parent & left\\_child & right\\_child & predictor & threshold & leaf & class\\\\\n",
       "\\hline\n",
       "\\end{tabular}\n",
       "\n",
       "\\item[\\$next\\_id] 0\n",
       "\\item[\\$nodes] 0\n",
       "\\end{description}\n"
      ],
      "text/markdown": [
       "$tree\n",
       ":   \n",
       "id | parent | left_child | right_child | predictor | threshold | leaf | class | \n",
       "||\n",
       "\n",
       "\n",
       "\n",
       "$next_id\n",
       ":   0\n",
       "$nodes\n",
       ":   0\n",
       "\n",
       "\n"
      ],
      "text/plain": [
       "$tree\n",
       "[1] id          parent      left_child  right_child predictor   threshold  \n",
       "[7] leaf        class      \n",
       "<0 rows> (or 0-length row.names)\n",
       "\n",
       "$next_id\n",
       "[1] 0\n",
       "\n",
       "$nodes\n",
       "[1] 0\n"
      ]
     },
     "metadata": {},
     "output_type": "display_data"
    }
   ],
   "source": [
    "# Creo el decision tree\n",
    "decision_tree=create_tree()\n",
    "decision_tree"
   ]
  },
  {
   "cell_type": "code",
   "execution_count": 12,
   "metadata": {},
   "outputs": [
    {
     "data": {
      "text/html": [
       "<dl>\n",
       "\t<dt>$tree</dt>\n",
       "\t\t<dd><table>\n",
       "<thead><tr><th scope=col>id</th><th scope=col>parent</th><th scope=col>left_child</th><th scope=col>right_child</th><th scope=col>predictor</th><th scope=col>threshold</th><th scope=col>leaf</th><th scope=col>class</th></tr></thead>\n",
       "<tbody>\n",
       "\t<tr><td>0   </td><td>-1  </td><td>-1  </td><td>-1  </td><td>-1  </td><td>0   </td><td>TRUE</td><td>-1  </td></tr>\n",
       "</tbody>\n",
       "</table>\n",
       "</dd>\n",
       "\t<dt>$next_id</dt>\n",
       "\t\t<dd>1</dd>\n",
       "\t<dt>$nodes</dt>\n",
       "\t\t<dd>1</dd>\n",
       "</dl>\n"
      ],
      "text/latex": [
       "\\begin{description}\n",
       "\\item[\\$tree] \\begin{tabular}{r|llllllll}\n",
       " id & parent & left\\_child & right\\_child & predictor & threshold & leaf & class\\\\\n",
       "\\hline\n",
       "\t 0    & -1   & -1   & -1   & -1   & 0    & TRUE & -1  \\\\\n",
       "\\end{tabular}\n",
       "\n",
       "\\item[\\$next\\_id] 1\n",
       "\\item[\\$nodes] 1\n",
       "\\end{description}\n"
      ],
      "text/markdown": [
       "$tree\n",
       ":   \n",
       "id | parent | left_child | right_child | predictor | threshold | leaf | class | \n",
       "|---|\n",
       "| 0    | -1   | -1   | -1   | -1   | 0    | TRUE | -1   | \n",
       "\n",
       "\n",
       "\n",
       "$next_id\n",
       ":   1\n",
       "$nodes\n",
       ":   1\n",
       "\n",
       "\n"
      ],
      "text/plain": [
       "$tree\n",
       "  id parent left_child right_child predictor threshold leaf class\n",
       "1  0     -1         -1          -1        -1         0 TRUE    -1\n",
       "\n",
       "$next_id\n",
       "[1] 1\n",
       "\n",
       "$nodes\n",
       "[1] 1\n"
      ]
     },
     "metadata": {},
     "output_type": "display_data"
    }
   ],
   "source": [
    "# Creo el nodo raíz y lo dejo vacío\n",
    "decision_tree=add_root(decision_tree)\n",
    "decision_tree"
   ]
  },
  {
   "cell_type": "code",
   "execution_count": null,
   "metadata": {},
   "outputs": [],
   "source": []
  },
  {
   "cell_type": "code",
   "execution_count": 13,
   "metadata": {},
   "outputs": [],
   "source": [
    "recurr_arbol <- function(decision_tree, current_node,x, target,min_obs,clase1, clase2){\n",
    "    alfa=get_part(x, target,min_obs,clase1, clase2)\n",
    "    if(alfa$pred!=0){ # Si pudo hacer alguna división que cumpla con la condición de min_obs\n",
    "        decision_tree=edit_node(decision_tree,current_node,alfa$pred,alfa$umb,alfa$left) #Se guarda la clase favorecida por si en algún momento se implementa el pruning\n",
    "        decision_tree=add_sons(decision_tree,current_node)\n",
    "        sonL=decision_tree$next_id-2\n",
    "        sonR=decision_tree$next_id-1\n",
    "        decision_tree=edit_node(decision_tree,sonL,class=alfa$left)\n",
    "        decision_tree=edit_node(decision_tree,sonR,class=alfa$left)\n",
    "    }\n",
    "    sel=(x[alfa$pred]<alfa$umb)\n",
    "    if(alfa$finL==FALSE){\n",
    "        sub_arbolL=x[sel,]\n",
    "        decision_tree=recurr_arbol(decision_tree,sonL,sub_arbolL,target,min_obs,clase1,clase2)\n",
    "    }\n",
    "    if(alfa$finR==FALSE){\n",
    "        sub_arbolR=x[!sel,]\n",
    "        decision_tree=recurr_arbol(decision_tree,sonR,sub_arbolR,target,min_obs,clase1,clase2)\n",
    "    }\n",
    "    return(decision_tree)\n",
    "}"
   ]
  },
  {
   "cell_type": "code",
   "execution_count": 14,
   "metadata": {},
   "outputs": [
    {
     "data": {
      "text/html": [
       "<dl>\n",
       "\t<dt>$tree</dt>\n",
       "\t\t<dd><table>\n",
       "<thead><tr><th scope=col>id</th><th scope=col>parent</th><th scope=col>left_child</th><th scope=col>right_child</th><th scope=col>predictor</th><th scope=col>threshold</th><th scope=col>leaf</th><th scope=col>class</th></tr></thead>\n",
       "<tbody>\n",
       "\t<tr><td>0    </td><td>-1   </td><td> 1   </td><td> 2   </td><td> 2   </td><td>-0.5 </td><td>FALSE</td><td>1    </td></tr>\n",
       "\t<tr><td>1    </td><td> 0   </td><td>-1   </td><td>-1   </td><td>-1   </td><td>-1.0 </td><td> TRUE</td><td>1    </td></tr>\n",
       "\t<tr><td>2    </td><td> 0   </td><td> 3   </td><td> 4   </td><td> 2   </td><td> 6.0 </td><td>FALSE</td><td>0    </td></tr>\n",
       "\t<tr><td>3    </td><td> 2   </td><td>-1   </td><td>-1   </td><td>-1   </td><td>-1.0 </td><td> TRUE</td><td>0    </td></tr>\n",
       "\t<tr><td>4    </td><td> 2   </td><td>-1   </td><td>-1   </td><td>-1   </td><td>-1.0 </td><td> TRUE</td><td>0    </td></tr>\n",
       "</tbody>\n",
       "</table>\n",
       "</dd>\n",
       "\t<dt>$next_id</dt>\n",
       "\t\t<dd>5</dd>\n",
       "\t<dt>$nodes</dt>\n",
       "\t\t<dd>5</dd>\n",
       "</dl>\n"
      ],
      "text/latex": [
       "\\begin{description}\n",
       "\\item[\\$tree] \\begin{tabular}{r|llllllll}\n",
       " id & parent & left\\_child & right\\_child & predictor & threshold & leaf & class\\\\\n",
       "\\hline\n",
       "\t 0     & -1    &  1    &  2    &  2    & -0.5  & FALSE & 1    \\\\\n",
       "\t 1     &  0    & -1    & -1    & -1    & -1.0  &  TRUE & 1    \\\\\n",
       "\t 2     &  0    &  3    &  4    &  2    &  6.0  & FALSE & 0    \\\\\n",
       "\t 3     &  2    & -1    & -1    & -1    & -1.0  &  TRUE & 0    \\\\\n",
       "\t 4     &  2    & -1    & -1    & -1    & -1.0  &  TRUE & 0    \\\\\n",
       "\\end{tabular}\n",
       "\n",
       "\\item[\\$next\\_id] 5\n",
       "\\item[\\$nodes] 5\n",
       "\\end{description}\n"
      ],
      "text/markdown": [
       "$tree\n",
       ":   \n",
       "id | parent | left_child | right_child | predictor | threshold | leaf | class | \n",
       "|---|---|---|---|---|\n",
       "| 0     | -1    |  1    |  2    |  2    | -0.5  | FALSE | 1     | \n",
       "| 1     |  0    | -1    | -1    | -1    | -1.0  |  TRUE | 1     | \n",
       "| 2     |  0    |  3    |  4    |  2    |  6.0  | FALSE | 0     | \n",
       "| 3     |  2    | -1    | -1    | -1    | -1.0  |  TRUE | 0     | \n",
       "| 4     |  2    | -1    | -1    | -1    | -1.0  |  TRUE | 0     | \n",
       "\n",
       "\n",
       "\n",
       "$next_id\n",
       ":   5\n",
       "$nodes\n",
       ":   5\n",
       "\n",
       "\n"
      ],
      "text/plain": [
       "$tree\n",
       "  id parent left_child right_child predictor threshold  leaf class\n",
       "1  0     -1          1           2         2      -0.5 FALSE     1\n",
       "2  1      0         -1          -1        -1      -1.0  TRUE     1\n",
       "3  2      0          3           4         2       6.0 FALSE     0\n",
       "4  3      2         -1          -1        -1      -1.0  TRUE     0\n",
       "5  4      2         -1          -1        -1      -1.0  TRUE     0\n",
       "\n",
       "$next_id\n",
       "[1] 5\n",
       "\n",
       "$nodes\n",
       "[1] 5\n"
      ]
     },
     "metadata": {},
     "output_type": "display_data"
    },
    {
     "data": {
      "image/png": "[encoded data removed]",
      "text/plain": [
       "plot without title"
      ]
     },
     "metadata": {},
     "output_type": "display_data"
    }
   ],
   "source": [
    "# Se hace una prueba sobre recurr_arbol. Cabe aclarar que el texto presentado no alcanza para construir el arbol en su totalidad.\n",
    "plot(x$pred1,x$pred2, col=c(\"red\",\"green\")[x$color],\n",
    "     xlab = 'Pred1', ylab = 'Pred2', pch = 19)\n",
    "grid()\n",
    "decision_tree=recurr_arbol(decision_tree,0,x,\"color\",2,\"verde\",\"rojo\")\n",
    "decision_tree"
   ]
  },
  {
   "cell_type": "markdown",
   "metadata": {},
   "source": [
    "Para la utilización del árbol como predictor lo único que hay que tener en cuenta es que cuando la condición es verdadera, se debe bajar por la rama izquierda, y cuando la condición es falsa, se debe bajar por la rama derecha.\n",
    "Generemos una función que reciba el árbol y un dataframe con observaciones y devuelva las clasificaciones:"
   ]
  },
  {
   "cell_type": "code",
   "execution_count": 15,
   "metadata": {},
   "outputs": [],
   "source": [
    "decision_tree_predict <- function(decision_tree,x,clase1,clase2){\n",
    "    cant_obs=nrow(x)\n",
    "    output=rep(-1,cant_obs)\n",
    "    for(i in 1:cant_obs) { #Se corre este procedimiento para cada observación\n",
    "        obs <- x[i,]\n",
    "        end=FALSE #se hará TRUE cuando llegue a una hoja\n",
    "        node_id=0 #nodo raíz\n",
    "        while(end==FALSE){\n",
    "            node=decision_tree$tree[decision_tree$tree$id==node_id,]\n",
    "            if(node[[\"leaf\"]]==TRUE){ #si llegó a una hoja pongo la clase correspondiente a la salida\n",
    "                if(node[[\"class\"]]==TRUE){ \n",
    "                    output[i]=clase1\n",
    "                }else{\n",
    "                    output[i]=clase2\n",
    "                }\n",
    "                \n",
    "                end=TRUE\n",
    "            } else { #si no llegó a una hoja, sigo recorriendo el arbol\n",
    "                if(obs[node[[\"predictor\"]]]<node[[\"threshold\"]]){\n",
    "                    node_id=node[[\"left_child\"]]\n",
    "                } else {\n",
    "                    node_id=node[[\"right_child\"]]\n",
    "                }\n",
    "            }\n",
    "        }\n",
    "    }\n",
    "    return(output)\n",
    "}"
   ]
  },
  {
   "cell_type": "code",
   "execution_count": 16,
   "metadata": {},
   "outputs": [
    {
     "data": {
      "text/html": [
       "<ol class=list-inline>\n",
       "\t<li>'verde'</li>\n",
       "\t<li>'verde'</li>\n",
       "\t<li>'rojo'</li>\n",
       "\t<li>'rojo'</li>\n",
       "\t<li>'rojo'</li>\n",
       "\t<li>'rojo'</li>\n",
       "\t<li>'rojo'</li>\n",
       "\t<li>'rojo'</li>\n",
       "</ol>\n"
      ],
      "text/latex": [
       "\\begin{enumerate*}\n",
       "\\item 'verde'\n",
       "\\item 'verde'\n",
       "\\item 'rojo'\n",
       "\\item 'rojo'\n",
       "\\item 'rojo'\n",
       "\\item 'rojo'\n",
       "\\item 'rojo'\n",
       "\\item 'rojo'\n",
       "\\end{enumerate*}\n"
      ],
      "text/markdown": [
       "1. 'verde'\n",
       "2. 'verde'\n",
       "3. 'rojo'\n",
       "4. 'rojo'\n",
       "5. 'rojo'\n",
       "6. 'rojo'\n",
       "7. 'rojo'\n",
       "8. 'rojo'\n",
       "\n",
       "\n"
      ],
      "text/plain": [
       "[1] \"verde\" \"verde\" \"rojo\"  \"rojo\"  \"rojo\"  \"rojo\"  \"rojo\"  \"rojo\" "
      ]
     },
     "metadata": {},
     "output_type": "display_data"
    }
   ],
   "source": [
    "prediccion=decision_tree_predict(decision_tree,x,\"verde\",\"rojo\")\n",
    "prediccion"
   ]
  },
  {
   "cell_type": "code",
   "execution_count": 17,
   "metadata": {},
   "outputs": [
    {
     "data": {
      "text/html": [
       "<ol class=list-inline>\n",
       "\t<li>verde</li>\n",
       "\t<li>verde</li>\n",
       "\t<li>rojo</li>\n",
       "\t<li>rojo</li>\n",
       "\t<li>verde</li>\n",
       "\t<li>rojo</li>\n",
       "\t<li>rojo</li>\n",
       "\t<li>verde</li>\n",
       "</ol>\n",
       "\n",
       "<details>\n",
       "\t<summary style=display:list-item;cursor:pointer>\n",
       "\t\t<strong>Levels</strong>:\n",
       "\t</summary>\n",
       "\t<ol class=list-inline>\n",
       "\t\t<li>'rojo'</li>\n",
       "\t\t<li>'verde'</li>\n",
       "\t</ol>\n",
       "</details>"
      ],
      "text/latex": [
       "\\begin{enumerate*}\n",
       "\\item verde\n",
       "\\item verde\n",
       "\\item rojo\n",
       "\\item rojo\n",
       "\\item verde\n",
       "\\item rojo\n",
       "\\item rojo\n",
       "\\item verde\n",
       "\\end{enumerate*}\n",
       "\n",
       "\\emph{Levels}: \\begin{enumerate*}\n",
       "\\item 'rojo'\n",
       "\\item 'verde'\n",
       "\\end{enumerate*}\n"
      ],
      "text/markdown": [
       "1. verde\n",
       "2. verde\n",
       "3. rojo\n",
       "4. rojo\n",
       "5. verde\n",
       "6. rojo\n",
       "7. rojo\n",
       "8. verde\n",
       "\n",
       "\n",
       "\n",
       "**Levels**: 1. 'rojo'\n",
       "2. 'verde'\n",
       "\n",
       "\n"
      ],
      "text/plain": [
       "[1] verde verde rojo  rojo  verde rojo  rojo  verde\n",
       "Levels: rojo verde"
      ]
     },
     "metadata": {},
     "output_type": "display_data"
    }
   ],
   "source": [
    "x[[\"color\"]]"
   ]
  },
  {
   "cell_type": "code",
   "execution_count": 18,
   "metadata": {},
   "outputs": [
    {
     "name": "stdout",
     "output_type": "stream",
     "text": [
      "El accuracy del predictor es: 75 %"
     ]
    }
   ],
   "source": [
    "cat(\"El accuracy del predictor es:\",sum(prediccion==x[[\"color\"]])/length(prediccion)*100,\"%\")"
   ]
  },
  {
   "cell_type": "markdown",
   "metadata": {},
   "source": [
    "Ahora vamos a probar la herramienta con un dataset mas completo"
   ]
  },
  {
   "cell_type": "code",
   "execution_count": 19,
   "metadata": {},
   "outputs": [
    {
     "name": "stderr",
     "output_type": "stream",
     "text": [
      "\n",
      "Attaching package: ‘dplyr’\n",
      "\n",
      "The following objects are masked from ‘package:stats’:\n",
      "\n",
      "    filter, lag\n",
      "\n",
      "The following objects are masked from ‘package:base’:\n",
      "\n",
      "    intersect, setdiff, setequal, union\n",
      "\n",
      "\n",
      "Attaching package: ‘MASS’\n",
      "\n",
      "The following object is masked from ‘package:dplyr’:\n",
      "\n",
      "    select\n",
      "\n"
     ]
    },
    {
     "data": {
      "text/html": [
       "<table>\n",
       "<thead><tr><th></th><th scope=col>Accept</th><th scope=col>Enroll</th><th scope=col>Top10perc</th><th scope=col>Top25perc</th><th scope=col>Private</th></tr></thead>\n",
       "<tbody>\n",
       "\t<tr><th scope=row>Abilene Christian University</th><td>1232</td><td>721 </td><td>23  </td><td>52  </td><td>Yes </td></tr>\n",
       "\t<tr><th scope=row>Adelphi University</th><td>1924</td><td>512 </td><td>16  </td><td>29  </td><td>Yes </td></tr>\n",
       "\t<tr><th scope=row>Adrian College</th><td>1097</td><td>336 </td><td>22  </td><td>50  </td><td>Yes </td></tr>\n",
       "\t<tr><th scope=row>Agnes Scott College</th><td> 349</td><td>137 </td><td>60  </td><td>89  </td><td>Yes </td></tr>\n",
       "\t<tr><th scope=row>Alaska Pacific University</th><td> 146</td><td> 55 </td><td>16  </td><td>44  </td><td>Yes </td></tr>\n",
       "\t<tr><th scope=row>Albertson College</th><td> 479</td><td>158 </td><td>38  </td><td>62  </td><td>Yes </td></tr>\n",
       "</tbody>\n",
       "</table>\n"
      ],
      "text/latex": [
       "\\begin{tabular}{r|lllll}\n",
       "  & Accept & Enroll & Top10perc & Top25perc & Private\\\\\n",
       "\\hline\n",
       "\tAbilene Christian University & 1232 & 721  & 23   & 52   & Yes \\\\\n",
       "\tAdelphi University & 1924 & 512  & 16   & 29   & Yes \\\\\n",
       "\tAdrian College & 1097 & 336  & 22   & 50   & Yes \\\\\n",
       "\tAgnes Scott College &  349 & 137  & 60   & 89   & Yes \\\\\n",
       "\tAlaska Pacific University &  146 &  55  & 16   & 44   & Yes \\\\\n",
       "\tAlbertson College &  479 & 158  & 38   & 62   & Yes \\\\\n",
       "\\end{tabular}\n"
      ],
      "text/markdown": [
       "\n",
       "| <!--/--> | Accept | Enroll | Top10perc | Top25perc | Private | \n",
       "|---|---|---|---|---|---|\n",
       "| Abilene Christian University | 1232 | 721  | 23   | 52   | Yes  | \n",
       "| Adelphi University | 1924 | 512  | 16   | 29   | Yes  | \n",
       "| Adrian College | 1097 | 336  | 22   | 50   | Yes  | \n",
       "| Agnes Scott College |  349 | 137  | 60   | 89   | Yes  | \n",
       "| Alaska Pacific University |  146 |  55  | 16   | 44   | Yes  | \n",
       "| Albertson College |  479 | 158  | 38   | 62   | Yes  | \n",
       "\n",
       "\n"
      ],
      "text/plain": [
       "                             Accept Enroll Top10perc Top25perc Private\n",
       "Abilene Christian University 1232   721    23        52        Yes    \n",
       "Adelphi University           1924   512    16        29        Yes    \n",
       "Adrian College               1097   336    22        50        Yes    \n",
       "Agnes Scott College           349   137    60        89        Yes    \n",
       "Alaska Pacific University     146    55    16        44        Yes    \n",
       "Albertson College             479   158    38        62        Yes    "
      ]
     },
     "metadata": {},
     "output_type": "display_data"
    }
   ],
   "source": [
    "library(\"ISLR\")\n",
    "library(\"dplyr\")\n",
    "library(MASS)\n",
    "data(\"College\")\n",
    "mydata <- College[1:100,]\n",
    "y=mydata$Private\n",
    "mydata$Private=NULL\n",
    "mydata=mydata[2:5]\n",
    "mydata$Private=y\n",
    "mydata_test <- College[101:200,]\n",
    "y=mydata_test$Private\n",
    "mydata_test$Private=NULL\n",
    "mydata_test=mydata_test[2:5]\n",
    "mydata_test$Private=y\n",
    "head(mydata)"
   ]
  },
  {
   "cell_type": "code",
   "execution_count": 20,
   "metadata": {},
   "outputs": [
    {
     "data": {
      "text/html": [
       "<dl>\n",
       "\t<dt>$tree</dt>\n",
       "\t\t<dd><table>\n",
       "<thead><tr><th scope=col>id</th><th scope=col>parent</th><th scope=col>left_child</th><th scope=col>right_child</th><th scope=col>predictor</th><th scope=col>threshold</th><th scope=col>leaf</th><th scope=col>class</th></tr></thead>\n",
       "<tbody>\n",
       "</tbody>\n",
       "</table>\n",
       "</dd>\n",
       "\t<dt>$next_id</dt>\n",
       "\t\t<dd>0</dd>\n",
       "\t<dt>$nodes</dt>\n",
       "\t\t<dd>0</dd>\n",
       "</dl>\n"
      ],
      "text/latex": [
       "\\begin{description}\n",
       "\\item[\\$tree] \\begin{tabular}{r|llllllll}\n",
       " id & parent & left\\_child & right\\_child & predictor & threshold & leaf & class\\\\\n",
       "\\hline\n",
       "\\end{tabular}\n",
       "\n",
       "\\item[\\$next\\_id] 0\n",
       "\\item[\\$nodes] 0\n",
       "\\end{description}\n"
      ],
      "text/markdown": [
       "$tree\n",
       ":   \n",
       "id | parent | left_child | right_child | predictor | threshold | leaf | class | \n",
       "||\n",
       "\n",
       "\n",
       "\n",
       "$next_id\n",
       ":   0\n",
       "$nodes\n",
       ":   0\n",
       "\n",
       "\n"
      ],
      "text/plain": [
       "$tree\n",
       "[1] id          parent      left_child  right_child predictor   threshold  \n",
       "[7] leaf        class      \n",
       "<0 rows> (or 0-length row.names)\n",
       "\n",
       "$next_id\n",
       "[1] 0\n",
       "\n",
       "$nodes\n",
       "[1] 0\n"
      ]
     },
     "metadata": {},
     "output_type": "display_data"
    }
   ],
   "source": [
    "# Creo el decision tree\n",
    "decision_tree2=create_tree()\n",
    "decision_tree2"
   ]
  },
  {
   "cell_type": "code",
   "execution_count": 21,
   "metadata": {},
   "outputs": [
    {
     "data": {
      "text/html": [
       "<dl>\n",
       "\t<dt>$tree</dt>\n",
       "\t\t<dd><table>\n",
       "<thead><tr><th scope=col>id</th><th scope=col>parent</th><th scope=col>left_child</th><th scope=col>right_child</th><th scope=col>predictor</th><th scope=col>threshold</th><th scope=col>leaf</th><th scope=col>class</th></tr></thead>\n",
       "<tbody>\n",
       "\t<tr><td>0   </td><td>-1  </td><td>-1  </td><td>-1  </td><td>-1  </td><td>0   </td><td>TRUE</td><td>-1  </td></tr>\n",
       "</tbody>\n",
       "</table>\n",
       "</dd>\n",
       "\t<dt>$next_id</dt>\n",
       "\t\t<dd>1</dd>\n",
       "\t<dt>$nodes</dt>\n",
       "\t\t<dd>1</dd>\n",
       "</dl>\n"
      ],
      "text/latex": [
       "\\begin{description}\n",
       "\\item[\\$tree] \\begin{tabular}{r|llllllll}\n",
       " id & parent & left\\_child & right\\_child & predictor & threshold & leaf & class\\\\\n",
       "\\hline\n",
       "\t 0    & -1   & -1   & -1   & -1   & 0    & TRUE & -1  \\\\\n",
       "\\end{tabular}\n",
       "\n",
       "\\item[\\$next\\_id] 1\n",
       "\\item[\\$nodes] 1\n",
       "\\end{description}\n"
      ],
      "text/markdown": [
       "$tree\n",
       ":   \n",
       "id | parent | left_child | right_child | predictor | threshold | leaf | class | \n",
       "|---|\n",
       "| 0    | -1   | -1   | -1   | -1   | 0    | TRUE | -1   | \n",
       "\n",
       "\n",
       "\n",
       "$next_id\n",
       ":   1\n",
       "$nodes\n",
       ":   1\n",
       "\n",
       "\n"
      ],
      "text/plain": [
       "$tree\n",
       "  id parent left_child right_child predictor threshold leaf class\n",
       "1  0     -1         -1          -1        -1         0 TRUE    -1\n",
       "\n",
       "$next_id\n",
       "[1] 1\n",
       "\n",
       "$nodes\n",
       "[1] 1\n"
      ]
     },
     "metadata": {},
     "output_type": "display_data"
    }
   ],
   "source": [
    "# Creo el nodo raíz y lo dejo vacío\n",
    "decision_tree2=add_root(decision_tree2)\n",
    "decision_tree2"
   ]
  },
  {
   "cell_type": "code",
   "execution_count": 22,
   "metadata": {},
   "outputs": [
    {
     "data": {
      "text/html": [
       "<dl>\n",
       "\t<dt>$tree</dt>\n",
       "\t\t<dd><table>\n",
       "<thead><tr><th scope=col>id</th><th scope=col>parent</th><th scope=col>left_child</th><th scope=col>right_child</th><th scope=col>predictor</th><th scope=col>threshold</th><th scope=col>leaf</th><th scope=col>class</th></tr></thead>\n",
       "<tbody>\n",
       "\t<tr><td> 0    </td><td>-1    </td><td> 1    </td><td> 2    </td><td> 2    </td><td>1472.5</td><td>FALSE </td><td>1     </td></tr>\n",
       "\t<tr><td> 1    </td><td> 0    </td><td> 3    </td><td> 4    </td><td> 4    </td><td>  22.5</td><td>FALSE </td><td>0     </td></tr>\n",
       "\t<tr><td> 2    </td><td> 0    </td><td>37    </td><td>38    </td><td> 3    </td><td>  29.5</td><td>FALSE </td><td>0     </td></tr>\n",
       "\t<tr><td> 3    </td><td> 1    </td><td>-1    </td><td>-1    </td><td>-1    </td><td>  -1.0</td><td> TRUE </td><td>0     </td></tr>\n",
       "\t<tr><td> 4    </td><td> 1    </td><td> 5    </td><td> 6    </td><td> 2    </td><td> 932.0</td><td>FALSE </td><td>1     </td></tr>\n",
       "\t<tr><td> 5    </td><td> 4    </td><td> 7    </td><td> 8    </td><td> 4    </td><td>  95.5</td><td>FALSE </td><td>1     </td></tr>\n",
       "\t<tr><td> 6    </td><td> 4    </td><td>35    </td><td>36    </td><td> 2    </td><td>1043.0</td><td>FALSE </td><td>0     </td></tr>\n",
       "\t<tr><td> 7    </td><td> 5    </td><td> 9    </td><td>10    </td><td> 1    </td><td>3294.5</td><td>FALSE </td><td>1     </td></tr>\n",
       "\t<tr><td> 8    </td><td> 5    </td><td>-1    </td><td>-1    </td><td>-1    </td><td>  -1.0</td><td> TRUE </td><td>1     </td></tr>\n",
       "\t<tr><td> 9    </td><td> 7    </td><td>11    </td><td>12    </td><td> 3    </td><td>   9.0</td><td>FALSE </td><td>0     </td></tr>\n",
       "\t<tr><td>10    </td><td> 7    </td><td>-1    </td><td>-1    </td><td>-1    </td><td>  -1.0</td><td> TRUE </td><td>1     </td></tr>\n",
       "\t<tr><td>11    </td><td> 9    </td><td>-1    </td><td>-1    </td><td>-1    </td><td>  -1.0</td><td> TRUE </td><td>0     </td></tr>\n",
       "\t<tr><td>12    </td><td> 9    </td><td>13    </td><td>14    </td><td> 2    </td><td>  72.5</td><td>FALSE </td><td>0     </td></tr>\n",
       "\t<tr><td>13    </td><td>12    </td><td>-1    </td><td>-1    </td><td>-1    </td><td>  -1.0</td><td> TRUE </td><td>0     </td></tr>\n",
       "\t<tr><td>14    </td><td>12    </td><td>15    </td><td>16    </td><td> 1    </td><td> 219.5</td><td>FALSE </td><td>0     </td></tr>\n",
       "\t<tr><td>15    </td><td>14    </td><td>-1    </td><td>-1    </td><td>-1    </td><td>  -1.0</td><td> TRUE </td><td>0     </td></tr>\n",
       "\t<tr><td>16    </td><td>14    </td><td>17    </td><td>18    </td><td> 4    </td><td>  94.0</td><td>FALSE </td><td>1     </td></tr>\n",
       "\t<tr><td>17    </td><td>16    </td><td>19    </td><td>20    </td><td> 2    </td><td> 746.5</td><td>FALSE </td><td>1     </td></tr>\n",
       "\t<tr><td>18    </td><td>16    </td><td>-1    </td><td>-1    </td><td>-1    </td><td>  -1.0</td><td> TRUE </td><td>1     </td></tr>\n",
       "\t<tr><td>19    </td><td>17    </td><td>21    </td><td>22    </td><td> 2    </td><td> 717.0</td><td>FALSE </td><td>1     </td></tr>\n",
       "\t<tr><td>20    </td><td>17    </td><td>-1    </td><td>-1    </td><td>-1    </td><td>  -1.0</td><td> TRUE </td><td>1     </td></tr>\n",
       "\t<tr><td>21    </td><td>19    </td><td>23    </td><td>24    </td><td> 4    </td><td>  91.0</td><td>FALSE </td><td>1     </td></tr>\n",
       "\t<tr><td>22    </td><td>19    </td><td>-1    </td><td>-1    </td><td>-1    </td><td>  -1.0</td><td> TRUE </td><td>1     </td></tr>\n",
       "\t<tr><td>23    </td><td>21    </td><td>25    </td><td>26    </td><td> 2    </td><td> 103.5</td><td>FALSE </td><td>0     </td></tr>\n",
       "\t<tr><td>24    </td><td>21    </td><td>-1    </td><td>-1    </td><td>-1    </td><td>  -1.0</td><td> TRUE </td><td>1     </td></tr>\n",
       "\t<tr><td>25    </td><td>23    </td><td>-1    </td><td>-1    </td><td>-1    </td><td>  -1.0</td><td> TRUE </td><td>0     </td></tr>\n",
       "\t<tr><td>26    </td><td>23    </td><td>27    </td><td>28    </td><td> 2    </td><td> 121.5</td><td>FALSE </td><td>0     </td></tr>\n",
       "\t<tr><td>27    </td><td>26    </td><td>-1    </td><td>-1    </td><td>-1    </td><td>  -1.0</td><td> TRUE </td><td>0     </td></tr>\n",
       "\t<tr><td>28    </td><td>26    </td><td>29    </td><td>30    </td><td> 2    </td><td> 659.5</td><td>FALSE </td><td>1     </td></tr>\n",
       "\t<tr><td>29    </td><td>28    </td><td>31    </td><td>32    </td><td> 2    </td><td> 628.0</td><td>FALSE </td><td>1     </td></tr>\n",
       "\t<tr><td>30    </td><td>28    </td><td>-1    </td><td>-1    </td><td>-1    </td><td>  -1.0</td><td> TRUE </td><td>1     </td></tr>\n",
       "\t<tr><td>31    </td><td>29    </td><td>33    </td><td>34    </td><td> 2    </td><td> 544.0</td><td>FALSE </td><td>1     </td></tr>\n",
       "\t<tr><td>32    </td><td>29    </td><td>-1    </td><td>-1    </td><td>-1    </td><td>  -1.0</td><td> TRUE </td><td>1     </td></tr>\n",
       "\t<tr><td>33    </td><td>31    </td><td>-1    </td><td>-1    </td><td>-1    </td><td>  -1.0</td><td> TRUE </td><td>1     </td></tr>\n",
       "\t<tr><td>34    </td><td>31    </td><td>-1    </td><td>-1    </td><td>-1    </td><td>  -1.0</td><td> TRUE </td><td>1     </td></tr>\n",
       "\t<tr><td>35    </td><td> 6    </td><td>-1    </td><td>-1    </td><td>-1    </td><td>  -1.0</td><td> TRUE </td><td>0     </td></tr>\n",
       "\t<tr><td>36    </td><td> 6    </td><td>-1    </td><td>-1    </td><td>-1    </td><td>  -1.0</td><td> TRUE </td><td>0     </td></tr>\n",
       "\t<tr><td>37    </td><td> 2    </td><td>-1    </td><td>-1    </td><td>-1    </td><td>  -1.0</td><td> TRUE </td><td>0     </td></tr>\n",
       "\t<tr><td>38    </td><td> 2    </td><td>39    </td><td>40    </td><td> 1    </td><td>5375.5</td><td>FALSE </td><td>0     </td></tr>\n",
       "\t<tr><td>39    </td><td>38    </td><td>-1    </td><td>-1    </td><td>-1    </td><td>  -1.0</td><td> TRUE </td><td>0     </td></tr>\n",
       "\t<tr><td>40    </td><td>38    </td><td>-1    </td><td>-1    </td><td>-1    </td><td>  -1.0</td><td> TRUE </td><td>0     </td></tr>\n",
       "</tbody>\n",
       "</table>\n",
       "</dd>\n",
       "\t<dt>$next_id</dt>\n",
       "\t\t<dd>41</dd>\n",
       "\t<dt>$nodes</dt>\n",
       "\t\t<dd>41</dd>\n",
       "</dl>\n"
      ],
      "text/latex": [
       "\\begin{description}\n",
       "\\item[\\$tree] \\begin{tabular}{r|llllllll}\n",
       " id & parent & left\\_child & right\\_child & predictor & threshold & leaf & class\\\\\n",
       "\\hline\n",
       "\t  0     & -1     &  1     &  2     &  2     & 1472.5 & FALSE  & 1     \\\\\n",
       "\t  1     &  0     &  3     &  4     &  4     &   22.5 & FALSE  & 0     \\\\\n",
       "\t  2     &  0     & 37     & 38     &  3     &   29.5 & FALSE  & 0     \\\\\n",
       "\t  3     &  1     & -1     & -1     & -1     &   -1.0 &  TRUE  & 0     \\\\\n",
       "\t  4     &  1     &  5     &  6     &  2     &  932.0 & FALSE  & 1     \\\\\n",
       "\t  5     &  4     &  7     &  8     &  4     &   95.5 & FALSE  & 1     \\\\\n",
       "\t  6     &  4     & 35     & 36     &  2     & 1043.0 & FALSE  & 0     \\\\\n",
       "\t  7     &  5     &  9     & 10     &  1     & 3294.5 & FALSE  & 1     \\\\\n",
       "\t  8     &  5     & -1     & -1     & -1     &   -1.0 &  TRUE  & 1     \\\\\n",
       "\t  9     &  7     & 11     & 12     &  3     &    9.0 & FALSE  & 0     \\\\\n",
       "\t 10     &  7     & -1     & -1     & -1     &   -1.0 &  TRUE  & 1     \\\\\n",
       "\t 11     &  9     & -1     & -1     & -1     &   -1.0 &  TRUE  & 0     \\\\\n",
       "\t 12     &  9     & 13     & 14     &  2     &   72.5 & FALSE  & 0     \\\\\n",
       "\t 13     & 12     & -1     & -1     & -1     &   -1.0 &  TRUE  & 0     \\\\\n",
       "\t 14     & 12     & 15     & 16     &  1     &  219.5 & FALSE  & 0     \\\\\n",
       "\t 15     & 14     & -1     & -1     & -1     &   -1.0 &  TRUE  & 0     \\\\\n",
       "\t 16     & 14     & 17     & 18     &  4     &   94.0 & FALSE  & 1     \\\\\n",
       "\t 17     & 16     & 19     & 20     &  2     &  746.5 & FALSE  & 1     \\\\\n",
       "\t 18     & 16     & -1     & -1     & -1     &   -1.0 &  TRUE  & 1     \\\\\n",
       "\t 19     & 17     & 21     & 22     &  2     &  717.0 & FALSE  & 1     \\\\\n",
       "\t 20     & 17     & -1     & -1     & -1     &   -1.0 &  TRUE  & 1     \\\\\n",
       "\t 21     & 19     & 23     & 24     &  4     &   91.0 & FALSE  & 1     \\\\\n",
       "\t 22     & 19     & -1     & -1     & -1     &   -1.0 &  TRUE  & 1     \\\\\n",
       "\t 23     & 21     & 25     & 26     &  2     &  103.5 & FALSE  & 0     \\\\\n",
       "\t 24     & 21     & -1     & -1     & -1     &   -1.0 &  TRUE  & 1     \\\\\n",
       "\t 25     & 23     & -1     & -1     & -1     &   -1.0 &  TRUE  & 0     \\\\\n",
       "\t 26     & 23     & 27     & 28     &  2     &  121.5 & FALSE  & 0     \\\\\n",
       "\t 27     & 26     & -1     & -1     & -1     &   -1.0 &  TRUE  & 0     \\\\\n",
       "\t 28     & 26     & 29     & 30     &  2     &  659.5 & FALSE  & 1     \\\\\n",
       "\t 29     & 28     & 31     & 32     &  2     &  628.0 & FALSE  & 1     \\\\\n",
       "\t 30     & 28     & -1     & -1     & -1     &   -1.0 &  TRUE  & 1     \\\\\n",
       "\t 31     & 29     & 33     & 34     &  2     &  544.0 & FALSE  & 1     \\\\\n",
       "\t 32     & 29     & -1     & -1     & -1     &   -1.0 &  TRUE  & 1     \\\\\n",
       "\t 33     & 31     & -1     & -1     & -1     &   -1.0 &  TRUE  & 1     \\\\\n",
       "\t 34     & 31     & -1     & -1     & -1     &   -1.0 &  TRUE  & 1     \\\\\n",
       "\t 35     &  6     & -1     & -1     & -1     &   -1.0 &  TRUE  & 0     \\\\\n",
       "\t 36     &  6     & -1     & -1     & -1     &   -1.0 &  TRUE  & 0     \\\\\n",
       "\t 37     &  2     & -1     & -1     & -1     &   -1.0 &  TRUE  & 0     \\\\\n",
       "\t 38     &  2     & 39     & 40     &  1     & 5375.5 & FALSE  & 0     \\\\\n",
       "\t 39     & 38     & -1     & -1     & -1     &   -1.0 &  TRUE  & 0     \\\\\n",
       "\t 40     & 38     & -1     & -1     & -1     &   -1.0 &  TRUE  & 0     \\\\\n",
       "\\end{tabular}\n",
       "\n",
       "\\item[\\$next\\_id] 41\n",
       "\\item[\\$nodes] 41\n",
       "\\end{description}\n"
      ],
      "text/markdown": [
       "$tree\n",
       ":   \n",
       "id | parent | left_child | right_child | predictor | threshold | leaf | class | \n",
       "|---|---|---|---|---|---|---|---|---|---|---|---|---|---|---|---|---|---|---|---|---|---|---|---|---|---|---|---|---|---|---|---|---|---|---|---|---|---|---|---|---|\n",
       "|  0     | -1     |  1     |  2     |  2     | 1472.5 | FALSE  | 1      | \n",
       "|  1     |  0     |  3     |  4     |  4     |   22.5 | FALSE  | 0      | \n",
       "|  2     |  0     | 37     | 38     |  3     |   29.5 | FALSE  | 0      | \n",
       "|  3     |  1     | -1     | -1     | -1     |   -1.0 |  TRUE  | 0      | \n",
       "|  4     |  1     |  5     |  6     |  2     |  932.0 | FALSE  | 1      | \n",
       "|  5     |  4     |  7     |  8     |  4     |   95.5 | FALSE  | 1      | \n",
       "|  6     |  4     | 35     | 36     |  2     | 1043.0 | FALSE  | 0      | \n",
       "|  7     |  5     |  9     | 10     |  1     | 3294.5 | FALSE  | 1      | \n",
       "|  8     |  5     | -1     | -1     | -1     |   -1.0 |  TRUE  | 1      | \n",
       "|  9     |  7     | 11     | 12     |  3     |    9.0 | FALSE  | 0      | \n",
       "| 10     |  7     | -1     | -1     | -1     |   -1.0 |  TRUE  | 1      | \n",
       "| 11     |  9     | -1     | -1     | -1     |   -1.0 |  TRUE  | 0      | \n",
       "| 12     |  9     | 13     | 14     |  2     |   72.5 | FALSE  | 0      | \n",
       "| 13     | 12     | -1     | -1     | -1     |   -1.0 |  TRUE  | 0      | \n",
       "| 14     | 12     | 15     | 16     |  1     |  219.5 | FALSE  | 0      | \n",
       "| 15     | 14     | -1     | -1     | -1     |   -1.0 |  TRUE  | 0      | \n",
       "| 16     | 14     | 17     | 18     |  4     |   94.0 | FALSE  | 1      | \n",
       "| 17     | 16     | 19     | 20     |  2     |  746.5 | FALSE  | 1      | \n",
       "| 18     | 16     | -1     | -1     | -1     |   -1.0 |  TRUE  | 1      | \n",
       "| 19     | 17     | 21     | 22     |  2     |  717.0 | FALSE  | 1      | \n",
       "| 20     | 17     | -1     | -1     | -1     |   -1.0 |  TRUE  | 1      | \n",
       "| 21     | 19     | 23     | 24     |  4     |   91.0 | FALSE  | 1      | \n",
       "| 22     | 19     | -1     | -1     | -1     |   -1.0 |  TRUE  | 1      | \n",
       "| 23     | 21     | 25     | 26     |  2     |  103.5 | FALSE  | 0      | \n",
       "| 24     | 21     | -1     | -1     | -1     |   -1.0 |  TRUE  | 1      | \n",
       "| 25     | 23     | -1     | -1     | -1     |   -1.0 |  TRUE  | 0      | \n",
       "| 26     | 23     | 27     | 28     |  2     |  121.5 | FALSE  | 0      | \n",
       "| 27     | 26     | -1     | -1     | -1     |   -1.0 |  TRUE  | 0      | \n",
       "| 28     | 26     | 29     | 30     |  2     |  659.5 | FALSE  | 1      | \n",
       "| 29     | 28     | 31     | 32     |  2     |  628.0 | FALSE  | 1      | \n",
       "| 30     | 28     | -1     | -1     | -1     |   -1.0 |  TRUE  | 1      | \n",
       "| 31     | 29     | 33     | 34     |  2     |  544.0 | FALSE  | 1      | \n",
       "| 32     | 29     | -1     | -1     | -1     |   -1.0 |  TRUE  | 1      | \n",
       "| 33     | 31     | -1     | -1     | -1     |   -1.0 |  TRUE  | 1      | \n",
       "| 34     | 31     | -1     | -1     | -1     |   -1.0 |  TRUE  | 1      | \n",
       "| 35     |  6     | -1     | -1     | -1     |   -1.0 |  TRUE  | 0      | \n",
       "| 36     |  6     | -1     | -1     | -1     |   -1.0 |  TRUE  | 0      | \n",
       "| 37     |  2     | -1     | -1     | -1     |   -1.0 |  TRUE  | 0      | \n",
       "| 38     |  2     | 39     | 40     |  1     | 5375.5 | FALSE  | 0      | \n",
       "| 39     | 38     | -1     | -1     | -1     |   -1.0 |  TRUE  | 0      | \n",
       "| 40     | 38     | -1     | -1     | -1     |   -1.0 |  TRUE  | 0      | \n",
       "\n",
       "\n",
       "\n",
       "$next_id\n",
       ":   41\n",
       "$nodes\n",
       ":   41\n",
       "\n",
       "\n"
      ],
      "text/plain": [
       "$tree\n",
       "   id parent left_child right_child predictor threshold  leaf class\n",
       "1   0     -1          1           2         2    1472.5 FALSE     1\n",
       "2   1      0          3           4         4      22.5 FALSE     0\n",
       "3   2      0         37          38         3      29.5 FALSE     0\n",
       "4   3      1         -1          -1        -1      -1.0  TRUE     0\n",
       "5   4      1          5           6         2     932.0 FALSE     1\n",
       "6   5      4          7           8         4      95.5 FALSE     1\n",
       "7   6      4         35          36         2    1043.0 FALSE     0\n",
       "8   7      5          9          10         1    3294.5 FALSE     1\n",
       "9   8      5         -1          -1        -1      -1.0  TRUE     1\n",
       "10  9      7         11          12         3       9.0 FALSE     0\n",
       "11 10      7         -1          -1        -1      -1.0  TRUE     1\n",
       "12 11      9         -1          -1        -1      -1.0  TRUE     0\n",
       "13 12      9         13          14         2      72.5 FALSE     0\n",
       "14 13     12         -1          -1        -1      -1.0  TRUE     0\n",
       "15 14     12         15          16         1     219.5 FALSE     0\n",
       "16 15     14         -1          -1        -1      -1.0  TRUE     0\n",
       "17 16     14         17          18         4      94.0 FALSE     1\n",
       "18 17     16         19          20         2     746.5 FALSE     1\n",
       "19 18     16         -1          -1        -1      -1.0  TRUE     1\n",
       "20 19     17         21          22         2     717.0 FALSE     1\n",
       "21 20     17         -1          -1        -1      -1.0  TRUE     1\n",
       "22 21     19         23          24         4      91.0 FALSE     1\n",
       "23 22     19         -1          -1        -1      -1.0  TRUE     1\n",
       "24 23     21         25          26         2     103.5 FALSE     0\n",
       "25 24     21         -1          -1        -1      -1.0  TRUE     1\n",
       "26 25     23         -1          -1        -1      -1.0  TRUE     0\n",
       "27 26     23         27          28         2     121.5 FALSE     0\n",
       "28 27     26         -1          -1        -1      -1.0  TRUE     0\n",
       "29 28     26         29          30         2     659.5 FALSE     1\n",
       "30 29     28         31          32         2     628.0 FALSE     1\n",
       "31 30     28         -1          -1        -1      -1.0  TRUE     1\n",
       "32 31     29         33          34         2     544.0 FALSE     1\n",
       "33 32     29         -1          -1        -1      -1.0  TRUE     1\n",
       "34 33     31         -1          -1        -1      -1.0  TRUE     1\n",
       "35 34     31         -1          -1        -1      -1.0  TRUE     1\n",
       "36 35      6         -1          -1        -1      -1.0  TRUE     0\n",
       "37 36      6         -1          -1        -1      -1.0  TRUE     0\n",
       "38 37      2         -1          -1        -1      -1.0  TRUE     0\n",
       "39 38      2         39          40         1    5375.5 FALSE     0\n",
       "40 39     38         -1          -1        -1      -1.0  TRUE     0\n",
       "41 40     38         -1          -1        -1      -1.0  TRUE     0\n",
       "\n",
       "$next_id\n",
       "[1] 41\n",
       "\n",
       "$nodes\n",
       "[1] 41\n"
      ]
     },
     "metadata": {},
     "output_type": "display_data"
    }
   ],
   "source": [
    "decision_tree2=recurr_arbol(decision_tree2,0,mydata,\"Private\",2,\"Yes\",\"No\")\n",
    "decision_tree2"
   ]
  },
  {
   "cell_type": "code",
   "execution_count": 23,
   "metadata": {},
   "outputs": [
    {
     "name": "stdout",
     "output_type": "stream",
     "text": [
      "El accuracy del predictor es: 79 %"
     ]
    }
   ],
   "source": [
    "prediccion=decision_tree_predict(decision_tree2,mydata_test,\"Yes\",\"No\")\n",
    "#prediccion\n",
    "#mydata_test[[\"Private\"]]\n",
    "cat(\"El accuracy del predictor es:\",sum(prediccion==mydata_test[[\"Private\"]])/length(prediccion)*100,\"%\")"
   ]
  },
  {
   "cell_type": "markdown",
   "metadata": {},
   "source": []
  },
  {
   "cell_type": "code",
   "execution_count": null,
   "metadata": {},
   "outputs": [],
   "source": []
  }
 ],
 "metadata": {
  "kernelspec": {
   "display_name": "R",
   "language": "R",
   "name": "ir"
  },
  "language_info": {
   "codemirror_mode": "r",
   "file_extension": ".r",
   "mimetype": "text/x-r-source",
   "name": "R",
   "pygments_lexer": "r",
   "version": "3.5.0"
  }
 },
 "nbformat": 4,
 "nbformat_minor": 2
}
